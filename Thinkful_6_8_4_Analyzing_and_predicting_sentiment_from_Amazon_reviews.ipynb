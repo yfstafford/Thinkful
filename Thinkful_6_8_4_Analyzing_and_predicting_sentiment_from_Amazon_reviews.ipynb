{
  "nbformat": 4,
  "nbformat_minor": 0,
  "metadata": {
    "colab": {
      "name": "Thinkful 6.8.4 Analyzing and predicting sentiment from Amazon reviews.ipynb",
      "provenance": [],
      "include_colab_link": true
    },
    "kernelspec": {
      "name": "python3",
      "display_name": "Python 3"
    },
    "accelerator": "GPU"
  },
  "cells": [
    {
      "cell_type": "markdown",
      "metadata": {
        "id": "view-in-github",
        "colab_type": "text"
      },
      "source": [
        "<a href=\"https://colab.research.google.com/github/yfstafford/Thinkful/blob/master/Thinkful_6_8_4_Analyzing_and_predicting_sentiment_from_Amazon_reviews.ipynb\" target=\"_parent\"><img src=\"https://colab.research.google.com/assets/colab-badge.svg\" alt=\"Open In Colab\"/></a>"
      ]
    },
    {
      "cell_type": "markdown",
      "metadata": {
        "id": "s0NM9iEXca5W",
        "colab_type": "text"
      },
      "source": [
        "Now that you've looked at an example of how we can use Spark in batch mode, it's time to try it out on your own.\n",
        "\n",
        "In this challenge you'll revisit the sentiment analysis we did earlier in the course - specifically, the Amazon reviews dataset. You should choose one of the 5-core datasets. Keep in mind that if the data is g-zipped, you'll need to unpack the dataset before you use it.\n",
        "\n",
        "You should complete this challenge in a Jupyter notebook, which will need to work on Colab.\n",
        "\n",
        "Now, on to the task at hand!\n",
        "\n",
        "It's always important to start with a clear goal in mind. In this case, we'd like to determine if we can predict whether a review is positive or negative based on the language in the review.\n",
        "\n",
        "We're going to tackle this problem with Spark, so you'll need to apply the principles you've learned thus far in the context of Spark.\n",
        "\n",
        "Some tips to help you get started:\n",
        "\n",
        "- Pyspark always needs to point at a running Spark instance. You can do that using a SparkContext.\n",
        "- We're still working in batch mode, so you'll need to load an entire file into memory in order to run any models you build.\n",
        "- Spark likes to execute models in a pipeline, so remember that when the time comes to set up your model.\n",
        "- Spark's machine learning algorithms expect numeric variables.\n",
        "\n",
        "When you're done, save your notebook and push it up to GitHub. Submit a link to your notebook below.\n",
        "\n",
        "After submitting your work, review the example solution provided in your big data student resources directory - examples/Amazon Reviews Exercise.ipynb."
      ]
    },
    {
      "cell_type": "markdown",
      "metadata": {
        "id": "OLqGBgCM7s8h",
        "colab_type": "text"
      },
      "source": [
        "## Spark and Colaboratory setup\n",
        "\n",
        "First, there's some configration specific to running Spark on Colaboratory that we'll need to attend to. Run these cells to set everything up."
      ]
    },
    {
      "cell_type": "code",
      "metadata": {
        "colab_type": "code",
        "id": "ahlaHUHYnGcg",
        "colab": {}
      },
      "source": [
        "!apt-get install openjdk-8-jdk-headless -qq > /dev/null\n",
        "!wget -q http://apache.osuosl.org/spark/spark-2.4.4/spark-2.4.4-bin-hadoop2.7.tgz\n",
        "!tar xf spark-2.4.4-bin-hadoop2.7.tgz"
      ],
      "execution_count": 0,
      "outputs": []
    },
    {
      "cell_type": "code",
      "metadata": {
        "id": "tWBTMZhE7s8l",
        "colab_type": "code",
        "outputId": "927b8cd0-22fc-4810-b3c9-80bdd8c0fc7e",
        "colab": {
          "base_uri": "https://localhost:8080/",
          "height": 234
        }
      },
      "source": [
        "# Install spark-related depdencies for Python\n",
        "!pip install -q findspark\n",
        "!pip install pyspark"
      ],
      "execution_count": 0,
      "outputs": [
        {
          "output_type": "stream",
          "text": [
            "Collecting pyspark\n",
            "\u001b[?25l  Downloading https://files.pythonhosted.org/packages/87/21/f05c186f4ddb01d15d0ddc36ef4b7e3cedbeb6412274a41f26b55a650ee5/pyspark-2.4.4.tar.gz (215.7MB)\n",
            "\u001b[K     |████████████████████████████████| 215.7MB 176kB/s \n",
            "\u001b[?25hCollecting py4j==0.10.7 (from pyspark)\n",
            "\u001b[?25l  Downloading https://files.pythonhosted.org/packages/e3/53/c737818eb9a7dc32a7cd4f1396e787bd94200c3997c72c1dbe028587bd76/py4j-0.10.7-py2.py3-none-any.whl (197kB)\n",
            "\u001b[K     |████████████████████████████████| 204kB 34.7MB/s \n",
            "\u001b[?25hBuilding wheels for collected packages: pyspark\n",
            "  Building wheel for pyspark (setup.py) ... \u001b[?25l\u001b[?25hdone\n",
            "  Created wheel for pyspark: filename=pyspark-2.4.4-py2.py3-none-any.whl size=216130387 sha256=8915f5951516aa74dc81971d840c3c20c06cce570215554c159338650c413bfd\n",
            "  Stored in directory: /root/.cache/pip/wheels/ab/09/4d/0d184230058e654eb1b04467dbc1292f00eaa186544604b471\n",
            "Successfully built pyspark\n",
            "Installing collected packages: py4j, pyspark\n",
            "Successfully installed py4j-0.10.7 pyspark-2.4.4\n"
          ],
          "name": "stdout"
        }
      ]
    },
    {
      "cell_type": "code",
      "metadata": {
        "colab_type": "code",
        "id": "9pxKUb5pnHix",
        "colab": {}
      },
      "source": [
        "# Set up required environment variables\n",
        "\n",
        "import os\n",
        "os.environ[\"JAVA_HOME\"] = \"/usr/lib/jvm/java-8-openjdk-amd64\"\n",
        "os.environ[\"SPARK_HOME\"] = \"/content/spark-2.4.4-bin-hadoop2.7\""
      ],
      "execution_count": 0,
      "outputs": []
    },
    {
      "cell_type": "code",
      "metadata": {
        "id": "9xo-SbYg7s8p",
        "colab_type": "code",
        "outputId": "74195e1f-0cb3-4a96-88c5-383c6bea686d",
        "colab": {
          "base_uri": "https://localhost:8080/",
          "height": 120
        }
      },
      "source": [
        "# Point Colaboratory to Google Drive\n",
        "\n",
        "from google.colab import drive\n",
        "drive.mount('/content/gdrive')"
      ],
      "execution_count": 0,
      "outputs": [
        {
          "output_type": "stream",
          "text": [
            "Go to this URL in a browser: https://accounts.google.com/o/oauth2/auth?client_id=947318989803-6bn6qk8qdgf4n4g3pfee6491hc0brc4i.apps.googleusercontent.com&redirect_uri=urn%3Aietf%3Awg%3Aoauth%3A2.0%3Aoob&scope=email%20https%3A%2F%2Fwww.googleapis.com%2Fauth%2Fdocs.test%20https%3A%2F%2Fwww.googleapis.com%2Fauth%2Fdrive%20https%3A%2F%2Fwww.googleapis.com%2Fauth%2Fdrive.photos.readonly%20https%3A%2F%2Fwww.googleapis.com%2Fauth%2Fpeopleapi.readonly&response_type=code\n",
            "\n",
            "Enter your authorization code:\n",
            "··········\n",
            "Mounted at /content/gdrive\n"
          ],
          "name": "stdout"
        }
      ]
    },
    {
      "cell_type": "markdown",
      "metadata": {
        "colab_type": "text",
        "id": "cTDxREFdlx11"
      },
      "source": [
        "##  Import dependencies\n",
        "\n",
        "Next, we need to import the tools we'll need from PySpark. The imports below allow us to connect to the Spark server, load our data, clean it, and prepare, execute, and evaluate a model."
      ]
    },
    {
      "cell_type": "code",
      "metadata": {
        "colab_type": "code",
        "id": "UBIeh7Eblx12",
        "colab": {}
      },
      "source": [
        "from pyspark import SparkContext, SQLContext\n",
        "from pyspark.sql import SparkSession\n",
        "\n",
        "from pyspark.ml import Pipeline\n",
        "from pyspark.ml.classification import GBTClassifier, LinearSVC, LogisticRegression\n",
        "from pyspark.ml.feature import IndexToString, StringIndexer, VectorIndexer, VectorAssembler, Tokenizer, HashingTF, IDF\n",
        "from pyspark.ml.evaluation import BinaryClassificationEvaluator\n",
        "from pyspark.ml.tuning import CrossValidator, ParamGridBuilder\n",
        "\n",
        "from pyspark.sql.functions import isnan, when, count, col\n",
        "\n",
        "from matplotlib import pyplot as plt\n",
        "import numpy as np\n",
        "import functools\n",
        "%matplotlib inline"
      ],
      "execution_count": 0,
      "outputs": []
    },
    {
      "cell_type": "markdown",
      "metadata": {
        "colab_type": "text",
        "id": "5PLkpx0slx15"
      },
      "source": [
        "## Set our constants\n",
        "\n",
        "Next, we create a set of constants that we can refer to throughout the notebook. These are values that the rest of our code needs to run, but that we might need to change at some point (for instance, if the location of our data changes)."
      ]
    },
    {
      "cell_type": "code",
      "metadata": {
        "colab_type": "code",
        "id": "Mqs6LIRelx16",
        "colab": {}
      },
      "source": [
        "DATA_PATH = \"/content/gdrive/My Drive/Colab Datasets/Kindle_Store_5.json\" \n",
        "APP_NAME = \"Kindle Review Sentiment\"\n",
        "SPARK_URL = \"local[*]\"\n",
        "RANDOM_SEED = 47\n",
        "TRAINING_DATA_RATIO = 0.8"
      ],
      "execution_count": 0,
      "outputs": []
    },
    {
      "cell_type": "markdown",
      "metadata": {
        "colab_type": "text",
        "id": "hh1r-3Ialx19"
      },
      "source": [
        "## Connect to the server and load data"
      ]
    },
    {
      "cell_type": "markdown",
      "metadata": {
        "id": "0-26_dwoUVzq",
        "colab_type": "text"
      },
      "source": [
        "Data are stored in a JSON format file."
      ]
    },
    {
      "cell_type": "code",
      "metadata": {
        "colab_type": "code",
        "id": "e3daglotlx19",
        "colab": {}
      },
      "source": [
        "spark = SparkSession.builder.appName(APP_NAME).master(SPARK_URL).getOrCreate()"
      ],
      "execution_count": 0,
      "outputs": []
    },
    {
      "cell_type": "code",
      "metadata": {
        "id": "HuzYzXULjWjG",
        "colab_type": "code",
        "colab": {}
      },
      "source": [
        "df0 = spark.read.options(inferschema = \"true\").json(DATA_PATH)"
      ],
      "execution_count": 0,
      "outputs": []
    },
    {
      "cell_type": "code",
      "metadata": {
        "id": "_I-Nvc64dwcR",
        "colab_type": "code",
        "outputId": "8fc257be-d03f-4cd5-9f4c-e65fca025e89",
        "colab": {
          "base_uri": "https://localhost:8080/",
          "height": 120
        }
      },
      "source": [
        "df0.head(5)"
      ],
      "execution_count": 0,
      "outputs": [
        {
          "output_type": "execute_result",
          "data": {
            "text/plain": [
              "[Row(asin='B000F83SZQ', helpful=[0, 0], overall=5.0, reviewText=\"I enjoy vintage books and movies so I enjoyed reading this book.  The plot was unusual.  Don't think killing someone in self-defense but leaving the scene and the body without notifying the police or hitting someone in the jaw to knock them out would wash today.Still it was a good read for me.\", reviewTime='05 5, 2014', reviewerID='A1F6404F1VG29J', reviewerName='Avidreader', summary='Nice vintage story', unixReviewTime=1399248000),\n",
              " Row(asin='B000F83SZQ', helpful=[2, 2], overall=4.0, reviewText=\"This book is a reissue of an old one; the author was born in 1910. It's of the era of, say, Nero Wolfe. The introduction was quite interesting, explaining who the author was and why he's been forgotten; I'd never heard of him.The language is a little dated at times, like calling a gun a &#34;heater.&#34;  I also made good use of my Fire's dictionary to look up words like &#34;deshabille&#34; and &#34;Canarsie.&#34; Still, it was well worth a look-see.\", reviewTime='01 6, 2014', reviewerID='AN0N05A9LIJEQ', reviewerName='critters', summary='Different...', unixReviewTime=1388966400),\n",
              " Row(asin='B000F83SZQ', helpful=[2, 2], overall=4.0, reviewText=\"This was a fairly interesting read.  It had old- style terminology.I was glad to get  to read a story that doesn't have coarse, crasslanguage.  I read for fun and relaxation......I like the free ebooksbecause I can check out a writer and decide if they are intriguing,innovative, and have enough of the command of Englishthat they can convey the story without crude language.\", reviewTime='04 4, 2014', reviewerID='A795DMNCJILA6', reviewerName='dot', summary='Oldie', unixReviewTime=1396569600),\n",
              " Row(asin='B000F83SZQ', helpful=[1, 1], overall=5.0, reviewText=\"I'd never read any of the Amy Brewster mysteries until this one..  So I am really hooked on them now.\", reviewTime='02 19, 2014', reviewerID='A1FV0SX13TWVXQ', reviewerName='Elaine H. Turley \"Montana Songbird\"', summary='I really liked it.', unixReviewTime=1392768000),\n",
              " Row(asin='B000F83SZQ', helpful=[0, 1], overall=4.0, reviewText='If you like period pieces - clothing, lingo, you will enjoy this mystery.  Author had me guessing at least 2/3 of the way through.', reviewTime='03 19, 2014', reviewerID='A3SPTOKDG7WBLN', reviewerName='Father Dowling Fan', summary='Period Mystery', unixReviewTime=1395187200)]"
            ]
          },
          "metadata": {
            "tags": []
          },
          "execution_count": 10
        }
      ]
    },
    {
      "cell_type": "markdown",
      "metadata": {
        "colab_type": "text",
        "id": "c-r3VQzLlx2A"
      },
      "source": [
        "## Clean and preprocess the data"
      ]
    },
    {
      "cell_type": "markdown",
      "metadata": {
        "id": "DTWxdGVhUed0",
        "colab_type": "text"
      },
      "source": [
        "Due to the size of the data set and memory constraints, only a sample of the full data set will be analyzed."
      ]
    },
    {
      "cell_type": "code",
      "metadata": {
        "colab_type": "code",
        "id": "iokDZIFRlx2A",
        "outputId": "e9f18242-0c66-436d-dec8-23d8defe3e13",
        "colab": {
          "base_uri": "https://localhost:8080/",
          "height": 33
        }
      },
      "source": [
        "print(f\"Dataset shape is {df0.count():d} rows by {len(df0.columns):d} columns.\")"
      ],
      "execution_count": 0,
      "outputs": [
        {
          "output_type": "stream",
          "text": [
            "Dataset shape is 982619 rows by 9 columns.\n"
          ],
          "name": "stdout"
        }
      ]
    },
    {
      "cell_type": "code",
      "metadata": {
        "id": "0e7eTv5AMdtn",
        "colab_type": "code",
        "colab": {}
      },
      "source": [
        "# Take subsample to reduce RAM load\n",
        "(df0, df1) = df0.randomSplit([0.05, 0.95], seed=RANDOM_SEED)"
      ],
      "execution_count": 0,
      "outputs": []
    },
    {
      "cell_type": "code",
      "metadata": {
        "id": "kETc_W1hMuMA",
        "colab_type": "code",
        "outputId": "22c331fc-e7e2-4b35-d966-a7a074b1261d",
        "colab": {
          "base_uri": "https://localhost:8080/",
          "height": 33
        }
      },
      "source": [
        "print(f\"Dataset shape is {df0.count():d} rows by {len(df0.columns):d} columns.\")"
      ],
      "execution_count": 0,
      "outputs": [
        {
          "output_type": "stream",
          "text": [
            "Dataset shape is 49281 rows by 9 columns.\n"
          ],
          "name": "stdout"
        }
      ]
    },
    {
      "cell_type": "code",
      "metadata": {
        "colab_type": "code",
        "id": "Zh9sVIqtlx2E",
        "outputId": "17ee5b61-4931-4635-eb58-2030dfc8c9f7",
        "colab": {
          "base_uri": "https://localhost:8080/",
          "height": 167
        }
      },
      "source": [
        "df0.dtypes"
      ],
      "execution_count": 0,
      "outputs": [
        {
          "output_type": "execute_result",
          "data": {
            "text/plain": [
              "[('asin', 'string'),\n",
              " ('helpful', 'array<bigint>'),\n",
              " ('overall', 'double'),\n",
              " ('reviewText', 'string'),\n",
              " ('reviewTime', 'string'),\n",
              " ('reviewerID', 'string'),\n",
              " ('reviewerName', 'string'),\n",
              " ('summary', 'string'),\n",
              " ('unixReviewTime', 'bigint')]"
            ]
          },
          "metadata": {
            "tags": []
          },
          "execution_count": 14
        }
      ]
    },
    {
      "cell_type": "markdown",
      "metadata": {
        "id": "HDjjQN0qUmzn",
        "colab_type": "text"
      },
      "source": [
        "Reviews will be designated as positive or negative with reviews > 3 as positive."
      ]
    },
    {
      "cell_type": "code",
      "metadata": {
        "id": "3g9H73yfmFOS",
        "colab_type": "code",
        "colab": {}
      },
      "source": [
        "df0 = df0.withColumn('positive',(df0['overall'] > 3).cast('double'))"
      ],
      "execution_count": 0,
      "outputs": []
    },
    {
      "cell_type": "code",
      "metadata": {
        "id": "C-cdWWWcS-zd",
        "colab_type": "code",
        "outputId": "5167fc33-a1ad-49d7-90ed-41b60137e251",
        "colab": {
          "base_uri": "https://localhost:8080/",
          "height": 345
        }
      },
      "source": [
        "group_counts = df0.groupBy('positive').count().collect()\n",
        "\n",
        "is_positive = [ c[0] for c in group_counts ]\n",
        "counts = [ c[1] for c in group_counts ]\n",
        " \n",
        "ax = np.array(range(len(is_positive)))\n",
        "width = 0.25\n",
        "plt.bar(ax, counts, width=width, color='r')\n",
        "\n",
        "plt.xlabel('Positive?')\n",
        "plt.ylabel('Count')\n",
        "plt.title('Sentiment Distribution')\n",
        "plt.xticks(ax + width/2., is_positive)"
      ],
      "execution_count": 0,
      "outputs": [
        {
          "output_type": "execute_result",
          "data": {
            "text/plain": [
              "([<matplotlib.axis.XTick at 0x7fc94bf35e80>,\n",
              "  <matplotlib.axis.XTick at 0x7fc94bf35b70>],\n",
              " <a list of 2 Text xticklabel objects>)"
            ]
          },
          "metadata": {
            "tags": []
          },
          "execution_count": 17
        },
        {
          "output_type": "display_data",
          "data": {
            "image/png": "[encoded data removed]",
            "text/plain": [
              "<Figure size 432x288 with 1 Axes>"
            ]
          },
          "metadata": {
            "tags": []
          }
        }
      ]
    },
    {
      "cell_type": "markdown",
      "metadata": {
        "id": "HflZfccOVP6o",
        "colab_type": "text"
      },
      "source": [
        "There is a group imbalance so measures such as accuracy may not be appropriate for this data set."
      ]
    },
    {
      "cell_type": "markdown",
      "metadata": {
        "id": "ttYgVMNNU2L1",
        "colab_type": "text"
      },
      "source": [
        "NLP processing will use tf-idf matrices."
      ]
    },
    {
      "cell_type": "code",
      "metadata": {
        "id": "1G0KoiO5mV4D",
        "colab_type": "code",
        "colab": {}
      },
      "source": [
        "# Tokenize\n",
        "tokenizer = Tokenizer(inputCol=\"reviewText\", outputCol=\"tokenized\").transform(df0)"
      ],
      "execution_count": 0,
      "outputs": []
    },
    {
      "cell_type": "code",
      "metadata": {
        "id": "Zd1fufnWOdIj",
        "colab_type": "code",
        "colab": {}
      },
      "source": [
        "#tf-idf processing\n",
        "hashingTF = HashingTF(inputCol=\"tokenized\", outputCol=\"rawFeatures\", numFeatures=1000)\n",
        "featurizedData = hashingTF.transform(tokenizer)\n",
        " \n",
        "idf = IDF(inputCol=\"rawFeatures\", outputCol=\"features\")\n",
        "idfModel = idf.fit(featurizedData)\n",
        "df = idfModel.transform(featurizedData)"
      ],
      "execution_count": 0,
      "outputs": []
    },
    {
      "cell_type": "code",
      "metadata": {
        "id": "qjRUUls6tJpq",
        "colab_type": "code",
        "colab": {}
      },
      "source": [
        "df = df.select(['positive','features'])"
      ],
      "execution_count": 0,
      "outputs": []
    },
    {
      "cell_type": "markdown",
      "metadata": {
        "id": "R293gzHvVHx4",
        "colab_type": "text"
      },
      "source": [
        "Training indexers are needed for running models."
      ]
    },
    {
      "cell_type": "code",
      "metadata": {
        "id": "M-eNWl6FppSp",
        "colab_type": "code",
        "colab": {}
      },
      "source": [
        "# Generate labelIndexer\n",
        "labelIndexer = StringIndexer(inputCol=\"positive\", outputCol=\"label\").fit(df)\n",
        "df = labelIndexer.transform(df)\n",
        "\n",
        "df = df.select(['features','label'])"
      ],
      "execution_count": 0,
      "outputs": []
    },
    {
      "cell_type": "markdown",
      "metadata": {
        "id": "prlZ4SdpVT5e",
        "colab_type": "text"
      },
      "source": [
        "Data are split into training/test sets with 20% held out for testing."
      ]
    },
    {
      "cell_type": "code",
      "metadata": {
        "id": "HhDUfzrdpqJ_",
        "colab_type": "code",
        "colab": {}
      },
      "source": [
        "(trainingData, testData) = df.randomSplit([TRAINING_DATA_RATIO, 1 - TRAINING_DATA_RATIO], seed=RANDOM_SEED)"
      ],
      "execution_count": 0,
      "outputs": []
    },
    {
      "cell_type": "markdown",
      "metadata": {
        "id": "DM8OhutvbmFu",
        "colab_type": "text"
      },
      "source": [
        "## Gradient Boosted Tree Model"
      ]
    },
    {
      "cell_type": "markdown",
      "metadata": {
        "id": "wJ-hVjm4VsEN",
        "colab_type": "text"
      },
      "source": [
        "By repeatedly passing residual data from a decision tree model to the next, gradient boosted tree models can generate good results, even if the relationship between variables is fairly weak."
      ]
    },
    {
      "cell_type": "code",
      "metadata": {
        "colab_type": "code",
        "id": "Bayuf5sGbwLB",
        "colab": {}
      },
      "source": [
        "# Train a Gradient Boosted model.\n",
        "gbt = GBTClassifier(labelCol=\"label\", featuresCol=\"features\", maxIter=15)\n",
        "model = gbt.fit(trainingData)"
      ],
      "execution_count": 0,
      "outputs": []
    },
    {
      "cell_type": "code",
      "metadata": {
        "colab_type": "code",
        "id": "MRepZPxgbwLE",
        "colab": {}
      },
      "source": [
        "# Make predictions.\n",
        "predictions = model.transform(testData)"
      ],
      "execution_count": 0,
      "outputs": []
    },
    {
      "cell_type": "markdown",
      "metadata": {
        "id": "6YCruLwCS1J6",
        "colab_type": "text"
      },
      "source": [
        "The data set is imbalanced so rather than using accuracy, area under the ROC curve will be used to compare models."
      ]
    },
    {
      "cell_type": "code",
      "metadata": {
        "id": "XmSD2NWul4Uj",
        "colab_type": "code",
        "outputId": "8724969d-54d8-4a72-c75b-33d58f44c788",
        "colab": {
          "base_uri": "https://localhost:8080/",
          "height": 33
        }
      },
      "source": [
        "# Calculate area under ROC curve\n",
        "evaluator = BinaryClassificationEvaluator()\n",
        "print('Test Area Under ROC', evaluator.evaluate(predictions))"
      ],
      "execution_count": 0,
      "outputs": [
        {
          "output_type": "stream",
          "text": [
            "Test Area Under ROC 0.7965709478422993\n"
          ],
          "name": "stdout"
        }
      ]
    },
    {
      "cell_type": "code",
      "metadata": {
        "colab_type": "code",
        "outputId": "d941bfca-41ae-4122-ffd8-fb8cdd48f639",
        "id": "sTtJty0DbwLL",
        "colab": {
          "base_uri": "https://localhost:8080/",
          "height": 167
        }
      },
      "source": [
        "predictions.groupBy('label','prediction').count().show()"
      ],
      "execution_count": 0,
      "outputs": [
        {
          "output_type": "stream",
          "text": [
            "+-----+----------+-----+\n",
            "|label|prediction|count|\n",
            "+-----+----------+-----+\n",
            "|  1.0|       1.0|  120|\n",
            "|  0.0|       1.0|   74|\n",
            "|  1.0|       0.0| 1396|\n",
            "|  0.0|       0.0| 8340|\n",
            "+-----+----------+-----+\n",
            "\n"
          ],
          "name": "stdout"
        }
      ]
    },
    {
      "cell_type": "markdown",
      "metadata": {
        "colab_type": "text",
        "id": "HH_hSgBndHgA"
      },
      "source": [
        "## LinearSVC Model"
      ]
    },
    {
      "cell_type": "markdown",
      "metadata": {
        "id": "w7CQ2j90ZC6w",
        "colab_type": "text"
      },
      "source": [
        "LinearSVC is relatively light in terms of resource requirements and so might be worth checking in a large data set such as this one."
      ]
    },
    {
      "cell_type": "code",
      "metadata": {
        "colab_type": "code",
        "id": "TJ_B8XY9dHgD",
        "colab": {}
      },
      "source": [
        "# Train a LinearSVC model.\n",
        "svc = LinearSVC(labelCol=\"label\", featuresCol=\"features\",maxIter=20)\n",
        "model = svc.fit(trainingData)"
      ],
      "execution_count": 0,
      "outputs": []
    },
    {
      "cell_type": "code",
      "metadata": {
        "colab_type": "code",
        "id": "ZNuK_S75dHgF",
        "colab": {}
      },
      "source": [
        "# Make predictions.\n",
        "predictions = model.transform(testData)"
      ],
      "execution_count": 0,
      "outputs": []
    },
    {
      "cell_type": "code",
      "metadata": {
        "colab_type": "code",
        "outputId": "cd65ccc5-1bcd-41f4-cf91-c8b890f98333",
        "id": "m8paWIGhdHgI",
        "colab": {
          "base_uri": "https://localhost:8080/",
          "height": 33
        }
      },
      "source": [
        "# Calculate area under ROC curve\n",
        "evaluator = BinaryClassificationEvaluator()\n",
        "print('Test Area Under ROC', evaluator.evaluate(predictions))"
      ],
      "execution_count": 0,
      "outputs": [
        {
          "output_type": "stream",
          "text": [
            "Test Area Under ROC 0.8568179808373149\n"
          ],
          "name": "stdout"
        }
      ]
    },
    {
      "cell_type": "code",
      "metadata": {
        "colab_type": "code",
        "outputId": "f89b2449-083a-4037-c6a6-896d76e8f967",
        "id": "Ra03yY6cdHgK",
        "colab": {
          "base_uri": "https://localhost:8080/",
          "height": 167
        }
      },
      "source": [
        "predictions.groupBy('label','prediction').count().show()"
      ],
      "execution_count": 0,
      "outputs": [
        {
          "output_type": "stream",
          "text": [
            "+-----+----------+-----+\n",
            "|label|prediction|count|\n",
            "+-----+----------+-----+\n",
            "|  1.0|       1.0|  233|\n",
            "|  0.0|       1.0|   90|\n",
            "|  1.0|       0.0| 1283|\n",
            "|  0.0|       0.0| 8324|\n",
            "+-----+----------+-----+\n",
            "\n"
          ],
          "name": "stdout"
        }
      ]
    },
    {
      "cell_type": "markdown",
      "metadata": {
        "colab_type": "text",
        "id": "Kt902_pgGIzA"
      },
      "source": [
        "## Ridge Regression Model"
      ]
    },
    {
      "cell_type": "markdown",
      "metadata": {
        "id": "HOw1-feaXsY_",
        "colab_type": "text"
      },
      "source": [
        "Ridge regression allows for regularization and can be used to reduce the weight of less important features."
      ]
    },
    {
      "cell_type": "code",
      "metadata": {
        "colab_type": "code",
        "id": "07IYNCg3GIzD",
        "colab": {}
      },
      "source": [
        "# Train a Ridge regression model.\n",
        "lr = LogisticRegression(labelCol=\"label\", featuresCol=\"features\",maxIter=20,regParam=0.01)\n",
        "model = lr.fit(trainingData)"
      ],
      "execution_count": 0,
      "outputs": []
    },
    {
      "cell_type": "code",
      "metadata": {
        "colab_type": "code",
        "id": "45SCuF3TGIzG",
        "colab": {}
      },
      "source": [
        "# Make predictions.\n",
        "predictions = model.transform(testData)"
      ],
      "execution_count": 0,
      "outputs": []
    },
    {
      "cell_type": "code",
      "metadata": {
        "colab_type": "code",
        "outputId": "2b151a0e-2846-42d3-f25d-bcb7128dadca",
        "id": "xbIy6i_5GIzJ",
        "colab": {
          "base_uri": "https://localhost:8080/",
          "height": 33
        }
      },
      "source": [
        "# Calculate area under ROC curve\n",
        "evaluator = BinaryClassificationEvaluator()\n",
        "print('Test Area Under ROC', evaluator.evaluate(predictions))"
      ],
      "execution_count": 0,
      "outputs": [
        {
          "output_type": "stream",
          "text": [
            "Test Area Under ROC 0.8606380213151472\n"
          ],
          "name": "stdout"
        }
      ]
    },
    {
      "cell_type": "code",
      "metadata": {
        "colab_type": "code",
        "outputId": "7ea86dd3-7f50-43fe-c307-2b72f0979944",
        "id": "Hxh1s4k5GIzM",
        "colab": {
          "base_uri": "https://localhost:8080/",
          "height": 167
        }
      },
      "source": [
        "predictions.groupBy('label','prediction').count().show()"
      ],
      "execution_count": 0,
      "outputs": [
        {
          "output_type": "stream",
          "text": [
            "+-----+----------+-----+\n",
            "|label|prediction|count|\n",
            "+-----+----------+-----+\n",
            "|  1.0|       1.0|  461|\n",
            "|  0.0|       1.0|  212|\n",
            "|  1.0|       0.0| 1055|\n",
            "|  0.0|       0.0| 8202|\n",
            "+-----+----------+-----+\n",
            "\n"
          ],
          "name": "stdout"
        }
      ]
    },
    {
      "cell_type": "markdown",
      "metadata": {
        "id": "tI4y42vlQS4c",
        "colab_type": "text"
      },
      "source": [
        "## Optimize Ridge Regression"
      ]
    },
    {
      "cell_type": "code",
      "metadata": {
        "id": "62fVizX4TIMT",
        "colab_type": "code",
        "colab": {}
      },
      "source": [
        "(trainingData2, testData2) = df0.randomSplit([TRAINING_DATA_RATIO, 1 - TRAINING_DATA_RATIO], seed=RANDOM_SEED)"
      ],
      "execution_count": 0,
      "outputs": []
    },
    {
      "cell_type": "code",
      "metadata": {
        "id": "G0ipgZagQTUl",
        "colab_type": "code",
        "colab": {}
      },
      "source": [
        "# Configure an ML pipeline, which consists of five stages: tokenizer, hashingTF, IDF, li2, and lr.\n",
        "tokenizer2 = Tokenizer(inputCol='reviewText', outputCol='tokenized')\n",
        "hashingTF2 = HashingTF(inputCol='tokenized', outputCol='rawFeatures')\n",
        "idf2 = IDF(inputCol=\"rawFeatures\", outputCol=\"tfidf\")\n",
        "\n",
        "# Generate labelIndexer\n",
        "li2 = StringIndexer(inputCol=\"positive\", outputCol=\"label\")\n",
        "\n",
        "lr2 = LogisticRegression(labelCol=\"label\", featuresCol=\"tfidf\",maxIter=20)\n",
        "pipeline2 = Pipeline(stages=[tokenizer2, hashingTF2, idf2, li2, lr2])\n",
        "\n",
        "# Use a ParamGridBuilder in conjunction with a CrossValidator to perform a parameter grid search\n",
        "paramGrid = ParamGridBuilder() \\\n",
        "    .addGrid(hashingTF2.numFeatures, [1000, 1500, 2000]) \\\n",
        "    .addGrid(lr2.regParam, [0.04, 0.02, 0]) \\\n",
        "    .build()\n",
        "\n",
        "crossval = CrossValidator(estimator=pipeline2,\n",
        "                          estimatorParamMaps=paramGrid,\n",
        "                          evaluator=BinaryClassificationEvaluator(),\n",
        "                          numFolds=4,            \n",
        "                          collectSubModels=True)\n",
        "\n",
        "# Run cross-validation, and choose the best set of parameters.\n",
        "cvModel = crossval.fit(trainingData2)"
      ],
      "execution_count": 0,
      "outputs": []
    },
    {
      "cell_type": "code",
      "metadata": {
        "id": "64AXE1FKY2Cc",
        "colab_type": "code",
        "outputId": "b41ba46c-86f8-4a41-bee4-a5f694421ee2",
        "colab": {
          "base_uri": "https://localhost:8080/",
          "height": 50
        }
      },
      "source": [
        "# Find optimal parameters\n",
        "cvModel.getEstimatorParamMaps()[ np.argmax(cvModel.avgMetrics) ]"
      ],
      "execution_count": 0,
      "outputs": [
        {
          "output_type": "execute_result",
          "data": {
            "text/plain": [
              "{Param(parent='HashingTF_47e2bf9c09fe', name='numFeatures', doc='number of features.'): 2000,\n",
              " Param(parent='LogisticRegression_3585af9ebc42', name='regParam', doc='regularization parameter (>= 0).'): 0.04}"
            ]
          },
          "metadata": {
            "tags": []
          },
          "execution_count": 39
        }
      ]
    },
    {
      "cell_type": "code",
      "metadata": {
        "id": "gk9ho5PTP_Ap",
        "colab_type": "code",
        "colab": {}
      },
      "source": [
        "# Make predictions\n",
        "predictions = cvModel.transform(testData2)"
      ],
      "execution_count": 0,
      "outputs": []
    },
    {
      "cell_type": "code",
      "metadata": {
        "id": "obYVihiEnvRA",
        "colab_type": "code",
        "outputId": "48cacf22-0187-497f-925a-a697976b0d0f",
        "colab": {
          "base_uri": "https://localhost:8080/",
          "height": 33
        }
      },
      "source": [
        "# Calculate area under ROC curve\n",
        "evaluator = BinaryClassificationEvaluator()\n",
        "print('Test Area Under ROC', evaluator.evaluate(predictions))"
      ],
      "execution_count": 0,
      "outputs": [
        {
          "output_type": "stream",
          "text": [
            "Test Area Under ROC 0.8598129552311594\n"
          ],
          "name": "stdout"
        }
      ]
    },
    {
      "cell_type": "code",
      "metadata": {
        "colab_type": "code",
        "outputId": "db8f1f2c-04bf-42f4-c99d-f7ea159316ee",
        "id": "roeepywCRdKe",
        "colab": {
          "base_uri": "https://localhost:8080/",
          "height": 167
        }
      },
      "source": [
        "predictions.groupBy('label','prediction').count().show()"
      ],
      "execution_count": 0,
      "outputs": [
        {
          "output_type": "stream",
          "text": [
            "+-----+----------+-----+\n",
            "|label|prediction|count|\n",
            "+-----+----------+-----+\n",
            "|  1.0|       1.0|  423|\n",
            "|  0.0|       1.0|  141|\n",
            "|  1.0|       0.0| 1147|\n",
            "|  0.0|       0.0| 8219|\n",
            "+-----+----------+-----+\n",
            "\n"
          ],
          "name": "stdout"
        }
      ]
    },
    {
      "cell_type": "code",
      "metadata": {
        "id": "F1_1G3UDxAuV",
        "colab_type": "code",
        "colab": {}
      },
      "source": [
        ""
      ],
      "execution_count": 0,
      "outputs": []
    }
  ]
}