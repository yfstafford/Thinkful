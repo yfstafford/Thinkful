{
 "cells": [
  {
   "cell_type": "markdown",
   "metadata": {},
   "source": [
    "## Challenge\n",
    "\n",
    "Do a little scraping or API-calling of your own.  Pick a new website and see what you can get out of it.  Expect that you'll run into bugs and blind alleys, and rely on your mentor to help you get through.  \n",
    "\n",
    "Formally, your goal is to write a scraper that will:\n",
    "\n",
    "1) Return specific pieces of information (rather than just downloading a whole page)  \n",
    "2) Iterate over multiple pages/queries  \n",
    "3) Save the data to your computer  \n",
    "\n",
    "Once you have your data, compute some statistical summaries and/or visualizations that give you some new insights into your scraping topic of interest.  Write up a report from scraping code to summary and share it with your mentor."
   ]
  },
  {
   "cell_type": "markdown",
   "metadata": {},
   "source": [
    "### Scrapy Crawler"
   ]
  },
  {
   "cell_type": "markdown",
   "metadata": {},
   "source": [
    "Using the J-Archive (https://www.j-archive.com/) database of Jeopardy games and scores, extract scores at the end of each round for each contestant.\n",
    "1. Start with the July 1, 2019 Jeopardy game.\n",
    "2. Find all score tables.\n",
    "3. Separate score tables by row and assign to each contestant. The first row is the first contestant, etc.\n",
    "- Iterate through each score table. Each score table represents a different round.\n",
    " Rounds will be designated as:\n",
    " - comm (first commerical)\n",
    " - first_rnd (end of first round)\n",
    " - double (end of Double Jeopardy)\n",
    " - final (end of Final Jeopardy)\n",
    " - coryat (Coryat score which uses 'natural' score with no additional betting from Daily Doubles or in Final Jeopardy).\n",
    "5. Iterate through each contestant.\n",
    "6. Extract next game and continue.\n",
    "7. Stop after 20 calls."
   ]
  },
  {
   "cell_type": "code",
   "execution_count": null,
   "metadata": {},
   "outputs": [],
   "source": [
    "import scrapy\n",
    "from scrapy.crawler import CrawlerProcess\n",
    "\n",
    "\n",
    "class JArchiveSpider(scrapy.Spider):\n",
    "    name = \"JAS\"\n",
    "    \n",
    "    # Start with the July 1, 2019 show\n",
    "    start_urls = [ 'http://www.j-archive.com/showgame.php?game_id=6347' ]\n",
    "\n",
    "    def parse(self, response):\n",
    "\n",
    "        # iterate through each contestant\n",
    "        for contestant in range(1,4):            \n",
    "            rd = 1\n",
    "            # look for scores at the end of each round\n",
    "            for item in response.xpath('//td[{}][contains(@class,\"score_positive\") or contains(@class,\"score_negative\")]'.format(contestant)):\n",
    "                # assign label by round\n",
    "                if rd == 1:\n",
    "                    yield {\n",
    "                        'comm': item.xpath('text()').extract_first()\n",
    "                    }\n",
    "                    \n",
    "                elif rd == 2:\n",
    "                    yield {\n",
    "                        'first_rnd': item.xpath('text()').extract_first()\n",
    "                    }\n",
    "                elif rd == 3:\n",
    "                    yield {\n",
    "                        'double': item.xpath('text()').extract_first()\n",
    "                    }\n",
    "                elif rd == 4:\n",
    "                    yield {\n",
    "                        'final': item.xpath('text()').extract_first()\n",
    "                    }\n",
    "                else:\n",
    "                    yield {\n",
    "                        'coryat': item.xpath('text()').extract_first()\n",
    "                    }\n",
    "                # iterate to next round\n",
    "                rd += 1\n",
    "                \n",
    "        # get the link to the next game\n",
    "        next_page = response.xpath('//*[@id=\"contestants_table\"]//td[contains(@align,\"right\")]//@href').extract_first()\n",
    "        \n",
    "        # recursively call the spider to process the next game, if it exists\n",
    "        if next_page is not None:\n",
    "            next_page = 'http://www.j-archive.com/{}'.format(next_page)\n",
    "            yield scrapy.Request(next_page, callback=self.parse)\n",
    "            \n",
    "    \n",
    "process = CrawlerProcess({\n",
    "    'FEED_FORMAT': 'json',\n",
    "    'FEED_URI': 'JAS_Scores.json',\n",
    "    'ROBOTSTXT_OBEY': True,\n",
    "    'USER_AGENT': 'ThinkfulDataScienceBootcampCrawler (thinkful.com)',\n",
    "    'AUTOTHROTTLE_ENABLED': True,\n",
    "    'HTTPCACHE_ENABLED': True,\n",
    "    'LOG_ENABLED': False,\n",
    "    'CLOSESPIDER_PAGECOUNT' : 20\n",
    "})\n",
    "                                         \n",
    "\n",
    "# Starting the crawler with our spider.\n",
    "process.crawl(JArchiveSpider)\n",
    "process.start()"
   ]
  },
  {
   "cell_type": "markdown",
   "metadata": {},
   "source": [
    "### Data Cleaning"
   ]
  },
  {
   "cell_type": "markdown",
   "metadata": {},
   "source": [
    "Load data"
   ]
  },
  {
   "cell_type": "code",
   "execution_count": 1,
   "metadata": {},
   "outputs": [
    {
     "data": {
      "text/html": [
       "<div>\n",
       "<style scoped>\n",
       "    .dataframe tbody tr th:only-of-type {\n",
       "        vertical-align: middle;\n",
       "    }\n",
       "\n",
       "    .dataframe tbody tr th {\n",
       "        vertical-align: top;\n",
       "    }\n",
       "\n",
       "    .dataframe thead th {\n",
       "        text-align: right;\n",
       "    }\n",
       "</style>\n",
       "<table border=\"1\" class=\"dataframe\">\n",
       "  <thead>\n",
       "    <tr style=\"text-align: right;\">\n",
       "      <th></th>\n",
       "      <th>comm</th>\n",
       "      <th>coryat</th>\n",
       "      <th>double</th>\n",
       "      <th>final</th>\n",
       "      <th>first_rnd</th>\n",
       "    </tr>\n",
       "  </thead>\n",
       "  <tbody>\n",
       "    <tr>\n",
       "      <th>0</th>\n",
       "      <td>$1,400</td>\n",
       "      <td>NaN</td>\n",
       "      <td>NaN</td>\n",
       "      <td>NaN</td>\n",
       "      <td>NaN</td>\n",
       "    </tr>\n",
       "    <tr>\n",
       "      <th>1</th>\n",
       "      <td>NaN</td>\n",
       "      <td>NaN</td>\n",
       "      <td>NaN</td>\n",
       "      <td>NaN</td>\n",
       "      <td>$4,200</td>\n",
       "    </tr>\n",
       "    <tr>\n",
       "      <th>2</th>\n",
       "      <td>NaN</td>\n",
       "      <td>NaN</td>\n",
       "      <td>$13,000</td>\n",
       "      <td>NaN</td>\n",
       "      <td>NaN</td>\n",
       "    </tr>\n",
       "    <tr>\n",
       "      <th>3</th>\n",
       "      <td>NaN</td>\n",
       "      <td>NaN</td>\n",
       "      <td>NaN</td>\n",
       "      <td>$0</td>\n",
       "      <td>NaN</td>\n",
       "    </tr>\n",
       "    <tr>\n",
       "      <th>4</th>\n",
       "      <td>NaN</td>\n",
       "      <td>$15,000</td>\n",
       "      <td>NaN</td>\n",
       "      <td>NaN</td>\n",
       "      <td>NaN</td>\n",
       "    </tr>\n",
       "  </tbody>\n",
       "</table>\n",
       "</div>"
      ],
      "text/plain": [
       "     comm   coryat   double final first_rnd\n",
       "0  $1,400      NaN      NaN   NaN       NaN\n",
       "1     NaN      NaN      NaN   NaN    $4,200\n",
       "2     NaN      NaN  $13,000   NaN       NaN\n",
       "3     NaN      NaN      NaN    $0       NaN\n",
       "4     NaN  $15,000      NaN   NaN       NaN"
      ]
     },
     "execution_count": 1,
     "metadata": {},
     "output_type": "execute_result"
    }
   ],
   "source": [
    "import pandas as pd\n",
    "\n",
    "data0=pd.read_json('file://localhost/Users/yfsta/Documents/Thinkful/Unit 5/JAS_Scores.json', orient='records')\n",
    "data0.head()"
   ]
  },
  {
   "cell_type": "markdown",
   "metadata": {},
   "source": [
    "Convert from DataFrame to array to make cleaning easier"
   ]
  },
  {
   "cell_type": "code",
   "execution_count": 2,
   "metadata": {},
   "outputs": [],
   "source": [
    "data = data0.to_numpy().astype(str)"
   ]
  },
  {
   "cell_type": "markdown",
   "metadata": {},
   "source": [
    "Get basic shape information"
   ]
  },
  {
   "cell_type": "code",
   "execution_count": 3,
   "metadata": {},
   "outputs": [
    {
     "name": "stdout",
     "output_type": "stream",
     "text": [
      "There were 57 contestants in 19 games.\n"
     ]
    }
   ],
   "source": [
    "rows = len(data)\n",
    "contestants = int(rows / 5)\n",
    "games = int(contestants / 3)\n",
    "\n",
    "print('There were {} contestants in {} games.'.format(contestants, games))"
   ]
  },
  {
   "cell_type": "markdown",
   "metadata": {},
   "source": [
    "Create a new DataFrame that separates scores by contestant"
   ]
  },
  {
   "cell_type": "code",
   "execution_count": 13,
   "metadata": {},
   "outputs": [],
   "source": [
    "import numpy as np\n",
    "\n",
    "scores = pd.DataFrame(columns = ['comm','first_rnd','double','final','coryat'], index = range(57))\n",
    "\n",
    "i = 0\n",
    "for r in data:\n",
    "    if r[0] != 'nan':\n",
    "        scores.iloc[i,0] = int(r[0].replace('$','').replace(',',''))\n",
    "    elif r[4] != 'nan':\n",
    "        scores.iloc[i,1] = int(r[4].replace('$','').replace(',',''))\n",
    "    elif r[2] != 'nan':\n",
    "        scores.iloc[i,2] = int(r[2].replace('$','').replace(',',''))\n",
    "    elif r[3] != 'nan':\n",
    "        scores.iloc[i,3] = int(r[3].replace('$','').replace(',',''))\n",
    "    elif r[1] != 'nan':\n",
    "        scores.iloc[i,4] = int(r[1].replace('$','').replace(',',''))\n",
    "        i += 1    "
   ]
  },
  {
   "cell_type": "code",
   "execution_count": 14,
   "metadata": {},
   "outputs": [
    {
     "data": {
      "text/html": [
       "<div>\n",
       "<style scoped>\n",
       "    .dataframe tbody tr th:only-of-type {\n",
       "        vertical-align: middle;\n",
       "    }\n",
       "\n",
       "    .dataframe tbody tr th {\n",
       "        vertical-align: top;\n",
       "    }\n",
       "\n",
       "    .dataframe thead th {\n",
       "        text-align: right;\n",
       "    }\n",
       "</style>\n",
       "<table border=\"1\" class=\"dataframe\">\n",
       "  <thead>\n",
       "    <tr style=\"text-align: right;\">\n",
       "      <th></th>\n",
       "      <th>comm</th>\n",
       "      <th>first_rnd</th>\n",
       "      <th>double</th>\n",
       "      <th>final</th>\n",
       "      <th>coryat</th>\n",
       "    </tr>\n",
       "  </thead>\n",
       "  <tbody>\n",
       "    <tr>\n",
       "      <th>0</th>\n",
       "      <td>1400</td>\n",
       "      <td>4200</td>\n",
       "      <td>13000</td>\n",
       "      <td>0</td>\n",
       "      <td>15000</td>\n",
       "    </tr>\n",
       "    <tr>\n",
       "      <th>1</th>\n",
       "      <td>2600</td>\n",
       "      <td>7300</td>\n",
       "      <td>17100</td>\n",
       "      <td>8199</td>\n",
       "      <td>14000</td>\n",
       "    </tr>\n",
       "    <tr>\n",
       "      <th>2</th>\n",
       "      <td>3000</td>\n",
       "      <td>5000</td>\n",
       "      <td>11800</td>\n",
       "      <td>0</td>\n",
       "      <td>11800</td>\n",
       "    </tr>\n",
       "    <tr>\n",
       "      <th>3</th>\n",
       "      <td>2000</td>\n",
       "      <td>6600</td>\n",
       "      <td>12400</td>\n",
       "      <td>8799</td>\n",
       "      <td>15400</td>\n",
       "    </tr>\n",
       "    <tr>\n",
       "      <th>4</th>\n",
       "      <td>3000</td>\n",
       "      <td>6000</td>\n",
       "      <td>16000</td>\n",
       "      <td>4000</td>\n",
       "      <td>15800</td>\n",
       "    </tr>\n",
       "  </tbody>\n",
       "</table>\n",
       "</div>"
      ],
      "text/plain": [
       "   comm  first_rnd  double  final  coryat\n",
       "0  1400       4200   13000      0   15000\n",
       "1  2600       7300   17100   8199   14000\n",
       "2  3000       5000   11800      0   11800\n",
       "3  2000       6600   12400   8799   15400\n",
       "4  3000       6000   16000   4000   15800"
      ]
     },
     "execution_count": 14,
     "metadata": {},
     "output_type": "execute_result"
    }
   ],
   "source": [
    "scores.head()"
   ]
  },
  {
   "cell_type": "markdown",
   "metadata": {},
   "source": [
    "Calculate combined scores in each game."
   ]
  },
  {
   "cell_type": "code",
   "execution_count": 47,
   "metadata": {},
   "outputs": [],
   "source": [
    "game_scores = pd.DataFrame(columns = ['comm','first_rnd','double','final','coryat'], index = range(19))\n",
    "\n",
    "for i in range(19):\n",
    "    game_scores.iloc[i] = np.sum(scores.iloc[i*3:i*3 + 3])"
   ]
  },
  {
   "cell_type": "code",
   "execution_count": 49,
   "metadata": {},
   "outputs": [
    {
     "data": {
      "text/html": [
       "<div>\n",
       "<style scoped>\n",
       "    .dataframe tbody tr th:only-of-type {\n",
       "        vertical-align: middle;\n",
       "    }\n",
       "\n",
       "    .dataframe tbody tr th {\n",
       "        vertical-align: top;\n",
       "    }\n",
       "\n",
       "    .dataframe thead th {\n",
       "        text-align: right;\n",
       "    }\n",
       "</style>\n",
       "<table border=\"1\" class=\"dataframe\">\n",
       "  <thead>\n",
       "    <tr style=\"text-align: right;\">\n",
       "      <th></th>\n",
       "      <th>comm</th>\n",
       "      <th>first_rnd</th>\n",
       "      <th>double</th>\n",
       "      <th>final</th>\n",
       "      <th>coryat</th>\n",
       "    </tr>\n",
       "  </thead>\n",
       "  <tbody>\n",
       "    <tr>\n",
       "      <th>0</th>\n",
       "      <td>7000</td>\n",
       "      <td>16500</td>\n",
       "      <td>41900</td>\n",
       "      <td>8199</td>\n",
       "      <td>40800</td>\n",
       "    </tr>\n",
       "    <tr>\n",
       "      <th>1</th>\n",
       "      <td>8400</td>\n",
       "      <td>17400</td>\n",
       "      <td>46200</td>\n",
       "      <td>45599</td>\n",
       "      <td>46800</td>\n",
       "    </tr>\n",
       "    <tr>\n",
       "      <th>2</th>\n",
       "      <td>3600</td>\n",
       "      <td>11000</td>\n",
       "      <td>36600</td>\n",
       "      <td>29400</td>\n",
       "      <td>31400</td>\n",
       "    </tr>\n",
       "    <tr>\n",
       "      <th>3</th>\n",
       "      <td>8000</td>\n",
       "      <td>18400</td>\n",
       "      <td>61800</td>\n",
       "      <td>84251</td>\n",
       "      <td>52000</td>\n",
       "    </tr>\n",
       "    <tr>\n",
       "      <th>4</th>\n",
       "      <td>8800</td>\n",
       "      <td>18600</td>\n",
       "      <td>40600</td>\n",
       "      <td>51799</td>\n",
       "      <td>47600</td>\n",
       "    </tr>\n",
       "  </tbody>\n",
       "</table>\n",
       "</div>"
      ],
      "text/plain": [
       "   comm  first_rnd  double  final  coryat\n",
       "0  7000      16500   41900   8199   40800\n",
       "1  8400      17400   46200  45599   46800\n",
       "2  3600      11000   36600  29400   31400\n",
       "3  8000      18400   61800  84251   52000\n",
       "4  8800      18600   40600  51799   47600"
      ]
     },
     "execution_count": 49,
     "metadata": {},
     "output_type": "execute_result"
    }
   ],
   "source": [
    "game_scores.head()"
   ]
  },
  {
   "cell_type": "markdown",
   "metadata": {},
   "source": [
    "### Statistics"
   ]
  },
  {
   "cell_type": "code",
   "execution_count": 85,
   "metadata": {},
   "outputs": [],
   "source": [
    "from matplotlib import pyplot as plt\n",
    "%matplotlib inline\n",
    "import seaborn as sns"
   ]
  },
  {
   "cell_type": "markdown",
   "metadata": {},
   "source": [
    "#### Contestant Score Distribution"
   ]
  },
  {
   "cell_type": "code",
   "execution_count": 81,
   "metadata": {},
   "outputs": [
    {
     "data": {
      "image/png": "[encoded data removed]",
      "text/plain": [
       "<Figure size 432x288 with 1 Axes>"
      ]
     },
     "metadata": {},
     "output_type": "display_data"
    }
   ],
   "source": [
    "plt.figure()\n",
    "scores.iloc[:,0].plot(kind='hist', title='Contestant Score After First Commercial Break')\n",
    "plt.show()"
   ]
  },
  {
   "cell_type": "code",
   "execution_count": 82,
   "metadata": {},
   "outputs": [
    {
     "data": {
      "image/png": "[encoded data removed]",
      "text/plain": [
       "<Figure size 432x288 with 1 Axes>"
      ]
     },
     "metadata": {},
     "output_type": "display_data"
    }
   ],
   "source": [
    "plt.figure()\n",
    "scores.iloc[:,1].plot(kind='hist', title='Contestant Score After First Round')\n",
    "plt.show()"
   ]
  },
  {
   "cell_type": "code",
   "execution_count": 83,
   "metadata": {},
   "outputs": [
    {
     "data": {
      "image/png": "[encoded data removed]",
      "text/plain": [
       "<Figure size 432x288 with 1 Axes>"
      ]
     },
     "metadata": {},
     "output_type": "display_data"
    }
   ],
   "source": [
    "plt.figure()\n",
    "scores.iloc[:,2].plot(kind='hist', title='Contestant Score After Double Jeopardy')\n",
    "plt.show()"
   ]
  },
  {
   "cell_type": "code",
   "execution_count": 84,
   "metadata": {},
   "outputs": [
    {
     "data": {
      "image/png": "[encoded data removed]",
      "text/plain": [
       "<Figure size 432x288 with 1 Axes>"
      ]
     },
     "metadata": {},
     "output_type": "display_data"
    }
   ],
   "source": [
    "plt.figure()\n",
    "scores.iloc[:,3].plot(kind='hist', title='Contestant Score After Final Jeopardy')\n",
    "plt.show()"
   ]
  },
  {
   "cell_type": "markdown",
   "metadata": {},
   "source": [
    "Although contestant scores show a fairly normal looking distribution after one round, they become less and less normal, with scores after Final Jeopardy highly skewed."
   ]
  },
  {
   "cell_type": "markdown",
   "metadata": {},
   "source": [
    "#### Score Box Plots"
   ]
  },
  {
   "cell_type": "code",
   "execution_count": 63,
   "metadata": {},
   "outputs": [
    {
     "data": {
      "text/html": [
       "<div>\n",
       "<style scoped>\n",
       "    .dataframe tbody tr th:only-of-type {\n",
       "        vertical-align: middle;\n",
       "    }\n",
       "\n",
       "    .dataframe tbody tr th {\n",
       "        vertical-align: top;\n",
       "    }\n",
       "\n",
       "    .dataframe thead th {\n",
       "        text-align: right;\n",
       "    }\n",
       "</style>\n",
       "<table border=\"1\" class=\"dataframe\">\n",
       "  <thead>\n",
       "    <tr style=\"text-align: right;\">\n",
       "      <th></th>\n",
       "      <th>comm</th>\n",
       "      <th>first_rnd</th>\n",
       "      <th>double</th>\n",
       "      <th>final</th>\n",
       "    </tr>\n",
       "  </thead>\n",
       "  <tbody>\n",
       "    <tr>\n",
       "      <th>count</th>\n",
       "      <td>57.000000</td>\n",
       "      <td>57.000000</td>\n",
       "      <td>57.000000</td>\n",
       "      <td>57.000000</td>\n",
       "    </tr>\n",
       "    <tr>\n",
       "      <th>mean</th>\n",
       "      <td>2277.192982</td>\n",
       "      <td>4885.964912</td>\n",
       "      <td>14482.456140</td>\n",
       "      <td>14154.508772</td>\n",
       "    </tr>\n",
       "    <tr>\n",
       "      <th>std</th>\n",
       "      <td>1620.297321</td>\n",
       "      <td>2999.252204</td>\n",
       "      <td>8085.903139</td>\n",
       "      <td>12723.541508</td>\n",
       "    </tr>\n",
       "    <tr>\n",
       "      <th>min</th>\n",
       "      <td>-1200.000000</td>\n",
       "      <td>-600.000000</td>\n",
       "      <td>-1000.000000</td>\n",
       "      <td>-1000.000000</td>\n",
       "    </tr>\n",
       "    <tr>\n",
       "      <th>25%</th>\n",
       "      <td>1400.000000</td>\n",
       "      <td>3200.000000</td>\n",
       "      <td>8400.000000</td>\n",
       "      <td>3000.000000</td>\n",
       "    </tr>\n",
       "    <tr>\n",
       "      <th>50%</th>\n",
       "      <td>2200.000000</td>\n",
       "      <td>4800.000000</td>\n",
       "      <td>14200.000000</td>\n",
       "      <td>10399.000000</td>\n",
       "    </tr>\n",
       "    <tr>\n",
       "      <th>75%</th>\n",
       "      <td>3000.000000</td>\n",
       "      <td>6600.000000</td>\n",
       "      <td>18600.000000</td>\n",
       "      <td>24800.000000</td>\n",
       "    </tr>\n",
       "    <tr>\n",
       "      <th>max</th>\n",
       "      <td>7000.000000</td>\n",
       "      <td>13400.000000</td>\n",
       "      <td>34600.000000</td>\n",
       "      <td>42401.000000</td>\n",
       "    </tr>\n",
       "  </tbody>\n",
       "</table>\n",
       "</div>"
      ],
      "text/plain": [
       "              comm     first_rnd        double         final\n",
       "count    57.000000     57.000000     57.000000     57.000000\n",
       "mean   2277.192982   4885.964912  14482.456140  14154.508772\n",
       "std    1620.297321   2999.252204   8085.903139  12723.541508\n",
       "min   -1200.000000   -600.000000  -1000.000000  -1000.000000\n",
       "25%    1400.000000   3200.000000   8400.000000   3000.000000\n",
       "50%    2200.000000   4800.000000  14200.000000  10399.000000\n",
       "75%    3000.000000   6600.000000  18600.000000  24800.000000\n",
       "max    7000.000000  13400.000000  34600.000000  42401.000000"
      ]
     },
     "execution_count": 63,
     "metadata": {},
     "output_type": "execute_result"
    },
    {
     "data": {
      "image/png": "[encoded data removed]",
      "text/plain": [
       "<Figure size 432x288 with 1 Axes>"
      ]
     },
     "metadata": {},
     "output_type": "display_data"
    }
   ],
   "source": [
    "ax = scores.iloc[:,0:4].plot(kind='box', title='Contestant Score After Each Round')\n",
    "ax.set_xlabel('Round')\n",
    "ax.set_ylabel('Score')\n",
    "scores.iloc[:,0:4].describe()"
   ]
  },
  {
   "cell_type": "markdown",
   "metadata": {},
   "source": [
    "As one would expect, contestant score increases from the first commerical break to the end of Double Jeopardy. However, both mean and median for Final Jeopardy scores decrease. This is indicative of aggressive betting in Final Jeopardy. In contrast to previous rounds where each contestant chooses which questions to answer with higher likelihood of a correct answer, all contestants must attempt to answer the Final Jeopardy question, regardless of certainty. In addition, Final Jeopardy bets must be placed before even seeing the question."
   ]
  },
  {
   "cell_type": "code",
   "execution_count": 86,
   "metadata": {},
   "outputs": [
    {
     "data": {
      "text/html": [
       "<div>\n",
       "<style scoped>\n",
       "    .dataframe tbody tr th:only-of-type {\n",
       "        vertical-align: middle;\n",
       "    }\n",
       "\n",
       "    .dataframe tbody tr th {\n",
       "        vertical-align: top;\n",
       "    }\n",
       "\n",
       "    .dataframe thead th {\n",
       "        text-align: right;\n",
       "    }\n",
       "</style>\n",
       "<table border=\"1\" class=\"dataframe\">\n",
       "  <thead>\n",
       "    <tr style=\"text-align: right;\">\n",
       "      <th></th>\n",
       "      <th>comm</th>\n",
       "      <th>first_rnd</th>\n",
       "      <th>double</th>\n",
       "      <th>final</th>\n",
       "    </tr>\n",
       "  </thead>\n",
       "  <tbody>\n",
       "    <tr>\n",
       "      <th>count</th>\n",
       "      <td>19.000000</td>\n",
       "      <td>19.000000</td>\n",
       "      <td>19.000000</td>\n",
       "      <td>19.000000</td>\n",
       "    </tr>\n",
       "    <tr>\n",
       "      <th>mean</th>\n",
       "      <td>6831.578947</td>\n",
       "      <td>14657.894737</td>\n",
       "      <td>43447.368421</td>\n",
       "      <td>42463.526316</td>\n",
       "    </tr>\n",
       "    <tr>\n",
       "      <th>std</th>\n",
       "      <td>1958.756020</td>\n",
       "      <td>4290.210535</td>\n",
       "      <td>7876.150246</td>\n",
       "      <td>22723.633662</td>\n",
       "    </tr>\n",
       "    <tr>\n",
       "      <th>min</th>\n",
       "      <td>2000.000000</td>\n",
       "      <td>7600.000000</td>\n",
       "      <td>32400.000000</td>\n",
       "      <td>4400.000000</td>\n",
       "    </tr>\n",
       "    <tr>\n",
       "      <th>25%</th>\n",
       "      <td>6400.000000</td>\n",
       "      <td>11500.000000</td>\n",
       "      <td>37700.000000</td>\n",
       "      <td>27899.000000</td>\n",
       "    </tr>\n",
       "    <tr>\n",
       "      <th>50%</th>\n",
       "      <td>7000.000000</td>\n",
       "      <td>16000.000000</td>\n",
       "      <td>40800.000000</td>\n",
       "      <td>43001.000000</td>\n",
       "    </tr>\n",
       "    <tr>\n",
       "      <th>75%</th>\n",
       "      <td>8100.000000</td>\n",
       "      <td>18500.000000</td>\n",
       "      <td>47500.000000</td>\n",
       "      <td>58501.000000</td>\n",
       "    </tr>\n",
       "    <tr>\n",
       "      <th>max</th>\n",
       "      <td>10200.000000</td>\n",
       "      <td>20400.000000</td>\n",
       "      <td>61800.000000</td>\n",
       "      <td>84251.000000</td>\n",
       "    </tr>\n",
       "  </tbody>\n",
       "</table>\n",
       "</div>"
      ],
      "text/plain": [
       "               comm     first_rnd        double         final\n",
       "count     19.000000     19.000000     19.000000     19.000000\n",
       "mean    6831.578947  14657.894737  43447.368421  42463.526316\n",
       "std     1958.756020   4290.210535   7876.150246  22723.633662\n",
       "min     2000.000000   7600.000000  32400.000000   4400.000000\n",
       "25%     6400.000000  11500.000000  37700.000000  27899.000000\n",
       "50%     7000.000000  16000.000000  40800.000000  43001.000000\n",
       "75%     8100.000000  18500.000000  47500.000000  58501.000000\n",
       "max    10200.000000  20400.000000  61800.000000  84251.000000"
      ]
     },
     "execution_count": 86,
     "metadata": {},
     "output_type": "execute_result"
    },
    {
     "data": {
      "image/png": "[encoded data removed]",
      "text/plain": [
       "<Figure size 432x288 with 1 Axes>"
      ]
     },
     "metadata": {},
     "output_type": "display_data"
    }
   ],
   "source": [
    "ax = (game_scores.iloc[:,0:4]).plot(kind='box',title='Combined Game Scores After Each Round')\n",
    "ax.set_xlabel('Round')\n",
    "ax.set_ylabel('Score')\n",
    "(game_scores.iloc[:,0:4]).describe()"
   ]
  },
  {
   "cell_type": "markdown",
   "metadata": {},
   "source": [
    "Interestingly, the standard deviation of combined game scores through the end of Double Jeopardy, is only slightly higher after the first commerical break and actually lower after Double Jeopardy, despite combining all three contestants. This suggests that although there may be a considerable amount of variability amongst contestants, games are more consistent."
   ]
  },
  {
   "cell_type": "markdown",
   "metadata": {},
   "source": [
    "#### Coryat Score"
   ]
  },
  {
   "cell_type": "markdown",
   "metadata": {},
   "source": [
    "Coryat score was created to remove the effect of Daily Doubles and Final Jeopardy bets from scores. It is calculated using the 'natural' scores, without Daily Double wagers, and does not include Final Jeopardy."
   ]
  },
  {
   "cell_type": "code",
   "execution_count": 94,
   "metadata": {},
   "outputs": [],
   "source": [
    "import scipy.stats as stats"
   ]
  },
  {
   "cell_type": "markdown",
   "metadata": {},
   "source": [
    "Compare whether there is a statistical difference between contestant scores after Double Jeoopardy and Coryat score using independent t-tests. Essentially, determine how significant Daily Double bets are to scores after Double Jeopardy."
   ]
  },
  {
   "cell_type": "code",
   "execution_count": 99,
   "metadata": {},
   "outputs": [
    {
     "data": {
      "text/plain": [
       "Ttest_indResult(statistic=1.0653847994942036, pvalue=0.28899319846336746)"
      ]
     },
     "execution_count": 99,
     "metadata": {},
     "output_type": "execute_result"
    }
   ],
   "source": [
    "stats.ttest_ind(scores['double'],scores['coryat'])"
   ]
  },
  {
   "cell_type": "markdown",
   "metadata": {},
   "source": [
    "There is no significant difference between contestant scores after Double Jeopardy and Coryat scores."
   ]
  },
  {
   "cell_type": "code",
   "execution_count": 96,
   "metadata": {},
   "outputs": [
    {
     "data": {
      "text/plain": [
       "Ttest_indResult(statistic=1.8478264327406548, pvalue=0.07285688598209665)"
      ]
     },
     "execution_count": 96,
     "metadata": {},
     "output_type": "execute_result"
    }
   ],
   "source": [
    "stats.ttest_ind(game_scores['double'],game_scores['coryat'])"
   ]
  },
  {
   "cell_type": "markdown",
   "metadata": {},
   "source": [
    "Although the p-value is considerably lower, there is not statistically significant difference in combined Double Jeopardy and Coryat game scores."
   ]
  },
  {
   "cell_type": "code",
   "execution_count": null,
   "metadata": {},
   "outputs": [],
   "source": []
  }
 ],
 "metadata": {
  "hide_input": false,
  "kernelspec": {
   "display_name": "Python 3 (Spyder)",
   "language": "python3",
   "name": "python3"
  },
  "language_info": {
   "codemirror_mode": {
    "name": "ipython",
    "version": 3
   },
   "file_extension": ".py",
   "mimetype": "text/x-python",
   "name": "python",
   "nbconvert_exporter": "python",
   "pygments_lexer": "ipython3",
   "version": "3.7.3"
  }
 },
 "nbformat": 4,
 "nbformat_minor": 2
}
