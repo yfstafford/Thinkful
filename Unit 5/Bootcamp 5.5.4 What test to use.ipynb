{
 "cells": [
  {
   "cell_type": "markdown",
   "metadata": {},
   "source": [
    "Using selected questions from the 2012 and 2014 editions of the European Social Survey, address the following questions. Keep track of your code and results in a Jupyter notebook or other source that you can share with your mentor. For each question, explain why you chose the approach you did.\n",
    "\n",
    "In this dataset, the same participants answered questions in 2012 and again 2014."
   ]
  },
  {
   "cell_type": "markdown",
   "metadata": {},
   "source": [
    "### Data Cleaning"
   ]
  },
  {
   "cell_type": "code",
   "execution_count": 1,
   "metadata": {},
   "outputs": [],
   "source": [
    "import pandas as pd\n",
    "import scipy.stats as stats\n",
    "import numpy as np\n",
    "import math\n",
    "\n",
    "from matplotlib import pyplot as plt\n",
    "%matplotlib inline\n",
    "import seaborn as sns\n",
    "\n",
    "import warnings\n",
    "warnings.filterwarnings('ignore')"
   ]
  },
  {
   "cell_type": "code",
   "execution_count": 2,
   "metadata": {},
   "outputs": [
    {
     "data": {
      "text/html": [
       "<div>\n",
       "<style scoped>\n",
       "    .dataframe tbody tr th:only-of-type {\n",
       "        vertical-align: middle;\n",
       "    }\n",
       "\n",
       "    .dataframe tbody tr th {\n",
       "        vertical-align: top;\n",
       "    }\n",
       "\n",
       "    .dataframe thead th {\n",
       "        text-align: right;\n",
       "    }\n",
       "</style>\n",
       "<table border=\"1\" class=\"dataframe\">\n",
       "  <thead>\n",
       "    <tr style=\"text-align: right;\">\n",
       "      <th></th>\n",
       "      <th>cntry</th>\n",
       "      <th>idno</th>\n",
       "      <th>year</th>\n",
       "      <th>tvtot</th>\n",
       "      <th>ppltrst</th>\n",
       "      <th>pplfair</th>\n",
       "      <th>pplhlp</th>\n",
       "      <th>happy</th>\n",
       "      <th>sclmeet</th>\n",
       "      <th>sclact</th>\n",
       "      <th>gndr</th>\n",
       "      <th>agea</th>\n",
       "      <th>partner</th>\n",
       "    </tr>\n",
       "  </thead>\n",
       "  <tbody>\n",
       "    <tr>\n",
       "      <th>0</th>\n",
       "      <td>CH</td>\n",
       "      <td>5.0</td>\n",
       "      <td>6</td>\n",
       "      <td>3.0</td>\n",
       "      <td>3.0</td>\n",
       "      <td>10.0</td>\n",
       "      <td>5.0</td>\n",
       "      <td>8.0</td>\n",
       "      <td>5.0</td>\n",
       "      <td>4.0</td>\n",
       "      <td>2.0</td>\n",
       "      <td>60.0</td>\n",
       "      <td>1.0</td>\n",
       "    </tr>\n",
       "    <tr>\n",
       "      <th>1</th>\n",
       "      <td>CH</td>\n",
       "      <td>25.0</td>\n",
       "      <td>6</td>\n",
       "      <td>6.0</td>\n",
       "      <td>5.0</td>\n",
       "      <td>7.0</td>\n",
       "      <td>5.0</td>\n",
       "      <td>9.0</td>\n",
       "      <td>3.0</td>\n",
       "      <td>2.0</td>\n",
       "      <td>2.0</td>\n",
       "      <td>59.0</td>\n",
       "      <td>1.0</td>\n",
       "    </tr>\n",
       "    <tr>\n",
       "      <th>2</th>\n",
       "      <td>CH</td>\n",
       "      <td>26.0</td>\n",
       "      <td>6</td>\n",
       "      <td>1.0</td>\n",
       "      <td>8.0</td>\n",
       "      <td>8.0</td>\n",
       "      <td>8.0</td>\n",
       "      <td>7.0</td>\n",
       "      <td>6.0</td>\n",
       "      <td>3.0</td>\n",
       "      <td>1.0</td>\n",
       "      <td>24.0</td>\n",
       "      <td>2.0</td>\n",
       "    </tr>\n",
       "    <tr>\n",
       "      <th>3</th>\n",
       "      <td>CH</td>\n",
       "      <td>28.0</td>\n",
       "      <td>6</td>\n",
       "      <td>4.0</td>\n",
       "      <td>6.0</td>\n",
       "      <td>6.0</td>\n",
       "      <td>7.0</td>\n",
       "      <td>10.0</td>\n",
       "      <td>6.0</td>\n",
       "      <td>2.0</td>\n",
       "      <td>2.0</td>\n",
       "      <td>64.0</td>\n",
       "      <td>1.0</td>\n",
       "    </tr>\n",
       "    <tr>\n",
       "      <th>4</th>\n",
       "      <td>CH</td>\n",
       "      <td>29.0</td>\n",
       "      <td>6</td>\n",
       "      <td>5.0</td>\n",
       "      <td>6.0</td>\n",
       "      <td>7.0</td>\n",
       "      <td>5.0</td>\n",
       "      <td>8.0</td>\n",
       "      <td>7.0</td>\n",
       "      <td>2.0</td>\n",
       "      <td>2.0</td>\n",
       "      <td>55.0</td>\n",
       "      <td>1.0</td>\n",
       "    </tr>\n",
       "  </tbody>\n",
       "</table>\n",
       "</div>"
      ],
      "text/plain": [
       "  cntry  idno  year  tvtot  ppltrst  ...  sclmeet  sclact  gndr  agea  partner\n",
       "0    CH   5.0     6    3.0      3.0  ...      5.0     4.0   2.0  60.0      1.0\n",
       "1    CH  25.0     6    6.0      5.0  ...      3.0     2.0   2.0  59.0      1.0\n",
       "2    CH  26.0     6    1.0      8.0  ...      6.0     3.0   1.0  24.0      2.0\n",
       "3    CH  28.0     6    4.0      6.0  ...      6.0     2.0   2.0  64.0      1.0\n",
       "4    CH  29.0     6    5.0      6.0  ...      7.0     2.0   2.0  55.0      1.0\n",
       "\n",
       "[5 rows x 13 columns]"
      ]
     },
     "execution_count": 2,
     "metadata": {},
     "output_type": "execute_result"
    }
   ],
   "source": [
    "df0 = pd.read_csv('../data/ESSdata_Thinkful.txt', delimiter=',')\n",
    "df0 = df0.dropna()\n",
    "df0.dataframeName = 'ESS_Data'\n",
    "df0.head()"
   ]
  },
  {
   "cell_type": "code",
   "execution_count": 3,
   "metadata": {},
   "outputs": [],
   "source": [
    "# Relabel year\n",
    "df = pd.DataFrame()\n",
    "df['Year'] = df0['year'].astype('int')\n",
    "df.loc[df['Year'] == 6,'Year'] = 2012\n",
    "df.loc[df['Year'] == 7,'Year'] = 2014"
   ]
  },
  {
   "cell_type": "code",
   "execution_count": 4,
   "metadata": {},
   "outputs": [],
   "source": [
    "# Relabel gender\n",
    "df['Gender'] = df0['gndr'].astype('int')\n",
    "df.loc[df['Gender'] == 1,'Gender'] = 'M'\n",
    "df.loc[df['Gender'] == 2,'Gender'] = 'F'"
   ]
  },
  {
   "cell_type": "code",
   "execution_count": 5,
   "metadata": {},
   "outputs": [],
   "source": [
    "# Rename variables\n",
    "df['Country'] = df0['cntry']\n",
    "df['ID'] = df0['idno'].astype('int')\n",
    "df['TV_Hrs'] = df0['tvtot'].astype('int')\n",
    "df['Trust'] = df0['ppltrst'].astype('int')\n",
    "df['Fairness'] = df0['pplfair'].astype('int')\n",
    "df['Helfulness'] = df0['pplhlp'].astype('int')\n",
    "df['Happiness'] = df0['happy'].astype('int')\n",
    "df['Social_Activity'] = df0['sclmeet'].astype('int')\n",
    "df['Age'] = df0['agea'].astype('int')"
   ]
  },
  {
   "cell_type": "code",
   "execution_count": 6,
   "metadata": {},
   "outputs": [],
   "source": [
    "# Relabel partner so that 0 = does not live w/ partner\n",
    "df['Partner'] = df0['partner'].astype('int')%2"
   ]
  },
  {
   "cell_type": "code",
   "execution_count": 7,
   "metadata": {},
   "outputs": [
    {
     "data": {
      "text/html": [
       "<div>\n",
       "<style scoped>\n",
       "    .dataframe tbody tr th:only-of-type {\n",
       "        vertical-align: middle;\n",
       "    }\n",
       "\n",
       "    .dataframe tbody tr th {\n",
       "        vertical-align: top;\n",
       "    }\n",
       "\n",
       "    .dataframe thead th {\n",
       "        text-align: right;\n",
       "    }\n",
       "</style>\n",
       "<table border=\"1\" class=\"dataframe\">\n",
       "  <thead>\n",
       "    <tr style=\"text-align: right;\">\n",
       "      <th></th>\n",
       "      <th>Year</th>\n",
       "      <th>Gender</th>\n",
       "      <th>Country</th>\n",
       "      <th>ID</th>\n",
       "      <th>TV_Hrs</th>\n",
       "      <th>Trust</th>\n",
       "      <th>Fairness</th>\n",
       "      <th>Helfulness</th>\n",
       "      <th>Happiness</th>\n",
       "      <th>Social_Activity</th>\n",
       "      <th>Age</th>\n",
       "      <th>Partner</th>\n",
       "    </tr>\n",
       "  </thead>\n",
       "  <tbody>\n",
       "    <tr>\n",
       "      <th>0</th>\n",
       "      <td>2012</td>\n",
       "      <td>F</td>\n",
       "      <td>CH</td>\n",
       "      <td>5</td>\n",
       "      <td>3</td>\n",
       "      <td>3</td>\n",
       "      <td>10</td>\n",
       "      <td>5</td>\n",
       "      <td>8</td>\n",
       "      <td>5</td>\n",
       "      <td>60</td>\n",
       "      <td>1</td>\n",
       "    </tr>\n",
       "    <tr>\n",
       "      <th>1</th>\n",
       "      <td>2012</td>\n",
       "      <td>F</td>\n",
       "      <td>CH</td>\n",
       "      <td>25</td>\n",
       "      <td>6</td>\n",
       "      <td>5</td>\n",
       "      <td>7</td>\n",
       "      <td>5</td>\n",
       "      <td>9</td>\n",
       "      <td>3</td>\n",
       "      <td>59</td>\n",
       "      <td>1</td>\n",
       "    </tr>\n",
       "    <tr>\n",
       "      <th>2</th>\n",
       "      <td>2012</td>\n",
       "      <td>M</td>\n",
       "      <td>CH</td>\n",
       "      <td>26</td>\n",
       "      <td>1</td>\n",
       "      <td>8</td>\n",
       "      <td>8</td>\n",
       "      <td>8</td>\n",
       "      <td>7</td>\n",
       "      <td>6</td>\n",
       "      <td>24</td>\n",
       "      <td>0</td>\n",
       "    </tr>\n",
       "    <tr>\n",
       "      <th>3</th>\n",
       "      <td>2012</td>\n",
       "      <td>F</td>\n",
       "      <td>CH</td>\n",
       "      <td>28</td>\n",
       "      <td>4</td>\n",
       "      <td>6</td>\n",
       "      <td>6</td>\n",
       "      <td>7</td>\n",
       "      <td>10</td>\n",
       "      <td>6</td>\n",
       "      <td>64</td>\n",
       "      <td>1</td>\n",
       "    </tr>\n",
       "    <tr>\n",
       "      <th>4</th>\n",
       "      <td>2012</td>\n",
       "      <td>F</td>\n",
       "      <td>CH</td>\n",
       "      <td>29</td>\n",
       "      <td>5</td>\n",
       "      <td>6</td>\n",
       "      <td>7</td>\n",
       "      <td>5</td>\n",
       "      <td>8</td>\n",
       "      <td>7</td>\n",
       "      <td>55</td>\n",
       "      <td>1</td>\n",
       "    </tr>\n",
       "  </tbody>\n",
       "</table>\n",
       "</div>"
      ],
      "text/plain": [
       "   Year Gender Country  ID  ...  Happiness  Social_Activity  Age  Partner\n",
       "0  2012      F      CH   5  ...          8                5   60        1\n",
       "1  2012      F      CH  25  ...          9                3   59        1\n",
       "2  2012      M      CH  26  ...          7                6   24        0\n",
       "3  2012      F      CH  28  ...         10                6   64        1\n",
       "4  2012      F      CH  29  ...          8                7   55        1\n",
       "\n",
       "[5 rows x 12 columns]"
      ]
     },
     "execution_count": 7,
     "metadata": {},
     "output_type": "execute_result"
    }
   ],
   "source": [
    "df.head()"
   ]
  },
  {
   "cell_type": "markdown",
   "metadata": {},
   "source": [
    "### 1. Did people become less trusting from 2012 to 2014? Compute results for each country in the sample."
   ]
  },
  {
   "cell_type": "code",
   "execution_count": 8,
   "metadata": {},
   "outputs": [
    {
     "data": {
      "text/plain": [
       "Country  Year\n",
       "CH       2012    5.685792\n",
       "         2014    5.764468\n",
       "CZ       2012    4.402662\n",
       "         2014    4.356436\n",
       "DE       2012    5.076923\n",
       "         2014    5.357143\n",
       "ES       2012    5.127807\n",
       "         2014    4.940035\n",
       "NO       2012    6.648305\n",
       "         2014    6.599719\n",
       "SE       2012    6.043073\n",
       "         2014    6.239908\n",
       "Name: Trust, dtype: float64"
      ]
     },
     "execution_count": 8,
     "metadata": {},
     "output_type": "execute_result"
    }
   ],
   "source": [
    "df.groupby(['Country','Year'])['Trust'].mean()"
   ]
  },
  {
   "cell_type": "code",
   "execution_count": 9,
   "metadata": {},
   "outputs": [
    {
     "data": {
      "text/plain": [
       "<matplotlib.axes._subplots.AxesSubplot at 0x22ae1b5ecf8>"
      ]
     },
     "execution_count": 9,
     "metadata": {},
     "output_type": "execute_result"
    },
    {
     "data": {
      "image/png": "[encoded data removed]",
      "text/plain": [
       "<Figure size 432x288 with 1 Axes>"
      ]
     },
     "metadata": {},
     "output_type": "display_data"
    }
   ],
   "source": [
    "sns.boxplot(x='Country', y='Trust', hue='Year', data=df)"
   ]
  },
  {
   "cell_type": "markdown",
   "metadata": {},
   "source": [
    "From the box plots, it appears that there was a change in median trust level in the Czech Republic and Denmark while trust level in other countries appears fairly stable."
   ]
  },
  {
   "cell_type": "code",
   "execution_count": 10,
   "metadata": {},
   "outputs": [
    {
     "data": {
      "text/plain": [
       "<matplotlib.axes._subplots.AxesSubplot at 0x22ae1f49c18>"
      ]
     },
     "execution_count": 10,
     "metadata": {},
     "output_type": "execute_result"
    },
    {
     "data": {
      "image/png": "[encoded data removed]",
      "text/plain": [
       "<Figure size 432x288 with 1 Axes>"
      ]
     },
     "metadata": {},
     "output_type": "display_data"
    }
   ],
   "source": [
    "df['Trust'].hist()"
   ]
  },
  {
   "cell_type": "markdown",
   "metadata": {},
   "source": [
    "The distribution of trust level is a little skewed but not too far from normal. Since two years will be compared for each country and the same participants were surveyed, a paired t-test can be applied to each."
   ]
  },
  {
   "cell_type": "markdown",
   "metadata": {},
   "source": [
    "#### Switzerland"
   ]
  },
  {
   "cell_type": "code",
   "execution_count": 11,
   "metadata": {},
   "outputs": [
    {
     "data": {
      "text/plain": [
       "Ttest_relResult(statistic=-0.28086950742787586, pvalue=0.7788927785846359)"
      ]
     },
     "execution_count": 11,
     "metadata": {},
     "output_type": "execute_result"
    }
   ],
   "source": [
    "df1 = df[df['Country']=='CH']\n",
    "\n",
    "# Ensure that all IDs are in both 2012 and 2014 responses so that paired t-test is valid\n",
    "df2 = df1[df1['Year']==2012].set_index('ID').join(\n",
    "    df1[df1['Year']==2014].set_index('ID'),on='ID',\n",
    "                                  how='inner',lsuffix='_2012',rsuffix='_2014')\n",
    "\n",
    "# Run paired t-test\n",
    "stats.ttest_rel(df2['Trust_2012'], df2['Trust_2014'])"
   ]
  },
  {
   "cell_type": "markdown",
   "metadata": {},
   "source": [
    "There does not appear to be a significant difference in trust level for Switzerland."
   ]
  },
  {
   "cell_type": "markdown",
   "metadata": {},
   "source": [
    "#### Czech Republic"
   ]
  },
  {
   "cell_type": "code",
   "execution_count": 12,
   "metadata": {},
   "outputs": [
    {
     "data": {
      "text/plain": [
       "Ttest_relResult(statistic=0.19988973090128148, pvalue=0.8416400394902406)"
      ]
     },
     "execution_count": 12,
     "metadata": {},
     "output_type": "execute_result"
    }
   ],
   "source": [
    "df1 = df[df['Country']=='CZ']\n",
    "\n",
    "# Ensure that all IDs are in both 2012 and 2014 responses so that paired t-test is valid\n",
    "df2 = df1[df1['Year']==2012].set_index('ID').join(\n",
    "    df1[df1['Year']==2014].set_index('ID'),on='ID',\n",
    "                                  how='inner',lsuffix='_2012',rsuffix='_2014')\n",
    "\n",
    "# Run paired t-test\n",
    "stats.ttest_rel(df2['Trust_2012'], df2['Trust_2014'])"
   ]
  },
  {
   "cell_type": "markdown",
   "metadata": {},
   "source": [
    "Although median trust level seems to have increased in the Czech Republic in the box plot, the IQRs are similar and it does not appear that this difference is significant."
   ]
  },
  {
   "cell_type": "markdown",
   "metadata": {},
   "source": [
    "#### Denmark"
   ]
  },
  {
   "cell_type": "code",
   "execution_count": 13,
   "metadata": {},
   "outputs": [
    {
     "data": {
      "text/plain": [
       "Ttest_relResult(statistic=-0.1834682235710276, pvalue=0.8574941662585133)"
      ]
     },
     "execution_count": 13,
     "metadata": {},
     "output_type": "execute_result"
    }
   ],
   "source": [
    "df1 = df[df['Country']=='DE']\n",
    "\n",
    "# Ensure that all IDs are in both 2012 and 2014 responses so that paired t-test is valid\n",
    "df2 = df1[df1['Year']==2012].set_index('ID').join(\n",
    "    df1[df1['Year']==2014].set_index('ID'),on='ID',\n",
    "                                  how='inner',lsuffix='_2012',rsuffix='_2014')\n",
    "\n",
    "# Run paired t-test\n",
    "stats.ttest_rel(df2['Trust_2012'], df2['Trust_2014'])"
   ]
  },
  {
   "cell_type": "markdown",
   "metadata": {},
   "source": [
    "Although median trust level seems to have decreased in Denmark in the box plot and IQR has widened, it does not appear that this difference is significant."
   ]
  },
  {
   "cell_type": "markdown",
   "metadata": {},
   "source": [
    "#### Spain"
   ]
  },
  {
   "cell_type": "code",
   "execution_count": 14,
   "metadata": {},
   "outputs": [
    {
     "data": {
      "text/plain": [
       "Ttest_relResult(statistic=1.9559116540026058, pvalue=0.05073211908451536)"
      ]
     },
     "execution_count": 14,
     "metadata": {},
     "output_type": "execute_result"
    }
   ],
   "source": [
    "df1 = df[df['Country']=='ES']\n",
    "\n",
    "# Ensure that all IDs are in both 2012 and 2014 responses so that paired t-test is valid\n",
    "df2 = df1[df1['Year']==2012].set_index('ID').join(\n",
    "    df1[df1['Year']==2014].set_index('ID'),on='ID',\n",
    "                                  how='inner',lsuffix='_2012',rsuffix='_2014')\n",
    "\n",
    "# Run paired t-test\n",
    "stats.ttest_rel(df2['Trust_2012'], df2['Trust_2014'])"
   ]
  },
  {
   "cell_type": "markdown",
   "metadata": {},
   "source": [
    "While median trust level remained about the same in Spain in the box plot, IQR shifted and this change was significant at p-value = 0.05."
   ]
  },
  {
   "cell_type": "markdown",
   "metadata": {},
   "source": [
    "#### Norway"
   ]
  },
  {
   "cell_type": "code",
   "execution_count": 15,
   "metadata": {},
   "outputs": [
    {
     "data": {
      "text/plain": [
       "Ttest_relResult(statistic=0.6360118283525069, pvalue=0.5249802228584514)"
      ]
     },
     "execution_count": 15,
     "metadata": {},
     "output_type": "execute_result"
    }
   ],
   "source": [
    "df1 = df[df['Country']=='NO']\n",
    "\n",
    "# Ensure that all IDs are in both 2012 and 2014 responses so that paired t-test is valid\n",
    "df2 = df1[df1['Year']==2012].set_index('ID').join(\n",
    "    df1[df1['Year']==2014].set_index('ID'),on='ID',\n",
    "                                  how='inner',lsuffix='_2012',rsuffix='_2014')\n",
    "\n",
    "# Run paired t-test\n",
    "stats.ttest_rel(df2['Trust_2012'], df2['Trust_2014'])"
   ]
  },
  {
   "cell_type": "markdown",
   "metadata": {},
   "source": [
    "There does not appear to be a significant difference in trust level for Norway."
   ]
  },
  {
   "cell_type": "markdown",
   "metadata": {},
   "source": [
    "#### Sweden"
   ]
  },
  {
   "cell_type": "code",
   "execution_count": 16,
   "metadata": {},
   "outputs": [
    {
     "data": {
      "text/plain": [
       "Ttest_relResult(statistic=-2.2355951258512787, pvalue=0.025644768355433317)"
      ]
     },
     "execution_count": 16,
     "metadata": {},
     "output_type": "execute_result"
    }
   ],
   "source": [
    "df1 = df[df['Country']=='SE']\n",
    "\n",
    "# Ensure that all IDs are in both 2012 and 2014 responses so that paired t-test is valid\n",
    "df2 = df1[df1['Year']==2012].set_index('ID').join(\n",
    "    df1[df1['Year']==2014].set_index('ID'),on='ID',\n",
    "                                  how='inner',lsuffix='_2012',rsuffix='_2014')\n",
    "\n",
    "# Run paired t-test\n",
    "stats.ttest_rel(df2['Trust_2012'], df2['Trust_2014'])"
   ]
  },
  {
   "cell_type": "markdown",
   "metadata": {},
   "source": [
    "It appears that median trust level and IQRs remained the same in Sweden but according to the t-test there was a significant difference at p-value = 0.03. This is may be due to outliers in both data sets."
   ]
  },
  {
   "cell_type": "markdown",
   "metadata": {},
   "source": [
    "#### 2. Did people become happier from 2012 to 2014? Compute results for each country in the sample."
   ]
  },
  {
   "cell_type": "code",
   "execution_count": 17,
   "metadata": {},
   "outputs": [
    {
     "data": {
      "text/plain": [
       "Country  Year\n",
       "CH       2012    8.083333\n",
       "         2014    8.142665\n",
       "CZ       2012    6.790349\n",
       "         2014    6.922442\n",
       "DE       2012    7.307692\n",
       "         2014    7.857143\n",
       "ES       2012    7.557858\n",
       "         2014    7.450617\n",
       "NO       2012    8.252825\n",
       "         2014    7.919944\n",
       "SE       2012    7.901048\n",
       "         2014    7.938870\n",
       "Name: Happiness, dtype: float64"
      ]
     },
     "execution_count": 17,
     "metadata": {},
     "output_type": "execute_result"
    }
   ],
   "source": [
    "df.groupby(['Country','Year'])['Happiness'].mean()"
   ]
  },
  {
   "cell_type": "code",
   "execution_count": 18,
   "metadata": {},
   "outputs": [
    {
     "data": {
      "text/plain": [
       "<matplotlib.axes._subplots.AxesSubplot at 0x22ae1b4def0>"
      ]
     },
     "execution_count": 18,
     "metadata": {},
     "output_type": "execute_result"
    },
    {
     "data": {
      "image/png": "[encoded data removed]",
      "text/plain": [
       "<Figure size 432x288 with 1 Axes>"
      ]
     },
     "metadata": {},
     "output_type": "display_data"
    }
   ],
   "source": [
    "sns.boxplot(x='Country', y='Happiness', hue='Year', data=df)"
   ]
  },
  {
   "cell_type": "code",
   "execution_count": 19,
   "metadata": {},
   "outputs": [
    {
     "data": {
      "text/plain": [
       "<matplotlib.axes._subplots.AxesSubplot at 0x22ae21059e8>"
      ]
     },
     "execution_count": 19,
     "metadata": {},
     "output_type": "execute_result"
    },
    {
     "data": {
      "image/png": "[encoded data removed]",
      "text/plain": [
       "<Figure size 432x288 with 1 Axes>"
      ]
     },
     "metadata": {},
     "output_type": "display_data"
    }
   ],
   "source": [
    "df['Happiness'].hist()"
   ]
  },
  {
   "cell_type": "markdown",
   "metadata": {},
   "source": [
    "Both the box plots and histogram indicate that happiness level is not normal so a non-parametric test must be used."
   ]
  },
  {
   "cell_type": "markdown",
   "metadata": {},
   "source": [
    "#### Switzerland"
   ]
  },
  {
   "cell_type": "code",
   "execution_count": 20,
   "metadata": {},
   "outputs": [
    {
     "data": {
      "text/plain": [
       "2014    743\n",
       "2012    732\n",
       "Name: Year, dtype: int64"
      ]
     },
     "execution_count": 20,
     "metadata": {},
     "output_type": "execute_result"
    }
   ],
   "source": [
    "df[df['Country'] == 'CH']['Year'].value_counts()"
   ]
  },
  {
   "cell_type": "code",
   "execution_count": 21,
   "metadata": {},
   "outputs": [
    {
     "data": {
      "text/plain": [
       "KruskalResult(statistic=0.7393607796289999, pvalue=0.3898657201494511)"
      ]
     },
     "execution_count": 21,
     "metadata": {},
     "output_type": "execute_result"
    }
   ],
   "source": [
    "# Prepare data\n",
    "df1 = df[(df['Country']=='CH') & (df['Year']==2012)]\n",
    "df2 = df[(df['Country']=='CH') & (df['Year']==2014)]\n",
    "\n",
    "rank = stats.rankdata(df1['Happiness'].tolist() + df2['Happiness'].tolist())\n",
    "rank1 = rank[:732]\n",
    "rank2 = rank[732:]\n",
    "\n",
    "stats.kruskal(rank1, rank2)"
   ]
  },
  {
   "cell_type": "markdown",
   "metadata": {},
   "source": [
    "There was not a significant difference in happiness level in Switzerland."
   ]
  },
  {
   "cell_type": "markdown",
   "metadata": {},
   "source": [
    "#### Czech Republic"
   ]
  },
  {
   "cell_type": "code",
   "execution_count": 22,
   "metadata": {},
   "outputs": [
    {
     "data": {
      "text/plain": [
       "2014    606\n",
       "2012    601\n",
       "Name: Year, dtype: int64"
      ]
     },
     "execution_count": 22,
     "metadata": {},
     "output_type": "execute_result"
    }
   ],
   "source": [
    "df[df['Country'] == 'CZ']['Year'].value_counts()"
   ]
  },
  {
   "cell_type": "code",
   "execution_count": 23,
   "metadata": {},
   "outputs": [
    {
     "data": {
      "text/plain": [
       "KruskalResult(statistic=0.7888702806828175, pvalue=0.37444194652901)"
      ]
     },
     "execution_count": 23,
     "metadata": {},
     "output_type": "execute_result"
    }
   ],
   "source": [
    "# Prepare data\n",
    "df1 = df[(df['Country']=='CZ') & (df['Year']==2012)]\n",
    "df2 = df[(df['Country']=='CZ') & (df['Year']==2014)]\n",
    "\n",
    "rank = stats.rankdata(df1['Happiness'].tolist() + df2['Happiness'].tolist())\n",
    "rank1 = rank[:601]\n",
    "rank2 = rank[601:]\n",
    "\n",
    "stats.kruskal(rank1, rank2)"
   ]
  },
  {
   "cell_type": "markdown",
   "metadata": {},
   "source": [
    "There was not a significant difference in happiness level in the Czech Republic."
   ]
  },
  {
   "cell_type": "markdown",
   "metadata": {},
   "source": [
    "#### Denmark"
   ]
  },
  {
   "cell_type": "code",
   "execution_count": 24,
   "metadata": {},
   "outputs": [
    {
     "data": {
      "text/plain": [
       "2014    14\n",
       "2012    13\n",
       "Name: Year, dtype: int64"
      ]
     },
     "execution_count": 24,
     "metadata": {},
     "output_type": "execute_result"
    }
   ],
   "source": [
    "df[df['Country'] == 'DE']['Year'].value_counts()"
   ]
  },
  {
   "cell_type": "code",
   "execution_count": 25,
   "metadata": {},
   "outputs": [
    {
     "data": {
      "text/plain": [
       "KruskalResult(statistic=0.7954545454545382, pvalue=0.3724558699813717)"
      ]
     },
     "execution_count": 25,
     "metadata": {},
     "output_type": "execute_result"
    }
   ],
   "source": [
    "# Prepare data\n",
    "df1 = df[(df['Country']=='DE') & (df['Year']==2012)]\n",
    "df2 = df[(df['Country']=='DE') & (df['Year']==2014)]\n",
    "\n",
    "rank = stats.rankdata(df1['Happiness'].tolist() + df2['Happiness'].tolist())\n",
    "rank1 = rank[:13]\n",
    "rank2 = rank[13:]\n",
    "\n",
    "stats.kruskal(rank1, rank2)"
   ]
  },
  {
   "cell_type": "markdown",
   "metadata": {},
   "source": [
    "There was not a significant difference in happiness level in Denmark."
   ]
  },
  {
   "cell_type": "markdown",
   "metadata": {},
   "source": [
    "#### Spain"
   ]
  },
  {
   "cell_type": "code",
   "execution_count": 26,
   "metadata": {},
   "outputs": [
    {
     "data": {
      "text/plain": [
       "2012    1158\n",
       "2014    1134\n",
       "Name: Year, dtype: int64"
      ]
     },
     "execution_count": 26,
     "metadata": {},
     "output_type": "execute_result"
    }
   ],
   "source": [
    "df[df['Country'] == 'ES']['Year'].value_counts()"
   ]
  },
  {
   "cell_type": "code",
   "execution_count": 27,
   "metadata": {},
   "outputs": [
    {
     "data": {
      "text/plain": [
       "KruskalResult(statistic=3.043494071321485, pvalue=0.0810612651445277)"
      ]
     },
     "execution_count": 27,
     "metadata": {},
     "output_type": "execute_result"
    }
   ],
   "source": [
    "# Prepare data\n",
    "df1 = df[(df['Country']=='ES') & (df['Year']==2012)]\n",
    "df2 = df[(df['Country']=='ES') & (df['Year']==2014)]\n",
    "\n",
    "rank = stats.rankdata(df1['Happiness'].tolist() + df2['Happiness'].tolist())\n",
    "rank1 = rank[:1134]\n",
    "rank2 = rank[1134:]\n",
    "\n",
    "stats.kruskal(rank1, rank2)"
   ]
  },
  {
   "cell_type": "markdown",
   "metadata": {},
   "source": [
    "There was larger difference in happiness level in Spain between 2012 and 2014 but it was still not significant at the p-value = 0.05 level."
   ]
  },
  {
   "cell_type": "markdown",
   "metadata": {},
   "source": [
    "#### Norway"
   ]
  },
  {
   "cell_type": "code",
   "execution_count": 28,
   "metadata": {},
   "outputs": [
    {
     "data": {
      "text/plain": [
       "2014    712\n",
       "2012    708\n",
       "Name: Year, dtype: int64"
      ]
     },
     "execution_count": 28,
     "metadata": {},
     "output_type": "execute_result"
    }
   ],
   "source": [
    "df[df['Country'] == 'NO']['Year'].value_counts()"
   ]
  },
  {
   "cell_type": "code",
   "execution_count": 29,
   "metadata": {},
   "outputs": [
    {
     "data": {
      "text/plain": [
       "KruskalResult(statistic=17.78863118177249, pvalue=2.4685385809958533e-05)"
      ]
     },
     "execution_count": 29,
     "metadata": {},
     "output_type": "execute_result"
    }
   ],
   "source": [
    "# Prepare data\n",
    "df1 = df[(df['Country']=='NO') & (df['Year']==2012)]\n",
    "df2 = df[(df['Country']=='NO') & (df['Year']==2014)]\n",
    "\n",
    "rank = stats.rankdata(df1['Happiness'].tolist() + df2['Happiness'].tolist())\n",
    "rank1 = rank[:708]\n",
    "rank2 = rank[708:]\n",
    "\n",
    "stats.kruskal(rank1, rank2)"
   ]
  },
  {
   "cell_type": "markdown",
   "metadata": {},
   "source": [
    "There was a significant difference in happiness level in Norway. This agrees with the large decrease in mean happiness of almost 0.35. This was the largest difference among countries."
   ]
  },
  {
   "cell_type": "markdown",
   "metadata": {},
   "source": [
    "#### Sweden"
   ]
  },
  {
   "cell_type": "code",
   "execution_count": 30,
   "metadata": {},
   "outputs": [
    {
     "data": {
      "text/plain": [
       "2014    867\n",
       "2012    859\n",
       "Name: Year, dtype: int64"
      ]
     },
     "execution_count": 30,
     "metadata": {},
     "output_type": "execute_result"
    }
   ],
   "source": [
    "df[df['Country'] == 'SE']['Year'].value_counts()"
   ]
  },
  {
   "cell_type": "code",
   "execution_count": 31,
   "metadata": {},
   "outputs": [
    {
     "data": {
      "text/plain": [
       "KruskalResult(statistic=0.10011450993142058, pvalue=0.7516922609168144)"
      ]
     },
     "execution_count": 31,
     "metadata": {},
     "output_type": "execute_result"
    }
   ],
   "source": [
    "# Prepare data\n",
    "df1 = df[(df['Country']=='SE') & (df['Year']==2012)]\n",
    "df2 = df[(df['Country']=='SE') & (df['Year']==2014)]\n",
    "\n",
    "rank = stats.rankdata(df1['Happiness'].tolist() + df2['Happiness'].tolist())\n",
    "rank1 = rank[:859]\n",
    "rank2 = rank[859:]\n",
    "\n",
    "stats.kruskal(rank1, rank2)"
   ]
  },
  {
   "cell_type": "markdown",
   "metadata": {},
   "source": [
    "There was not a significant difference in happiness level in Sweden."
   ]
  },
  {
   "cell_type": "markdown",
   "metadata": {},
   "source": [
    "### 3. Who reported watching more TV in 2012, men or women?"
   ]
  },
  {
   "cell_type": "code",
   "execution_count": 32,
   "metadata": {},
   "outputs": [
    {
     "data": {
      "text/plain": [
       "Gender\n",
       "F    3.905352\n",
       "M    3.859230\n",
       "Name: TV_Hrs, dtype: float64"
      ]
     },
     "execution_count": 32,
     "metadata": {},
     "output_type": "execute_result"
    }
   ],
   "source": [
    "df[df['Year']==2012].groupby(['Gender'])['TV_Hrs'].mean()"
   ]
  },
  {
   "cell_type": "code",
   "execution_count": 33,
   "metadata": {},
   "outputs": [
    {
     "data": {
      "text/plain": [
       "<matplotlib.axes._subplots.AxesSubplot at 0x22ae1fee128>"
      ]
     },
     "execution_count": 33,
     "metadata": {},
     "output_type": "execute_result"
    },
    {
     "data": {
      "image/png": "[encoded data removed]",
      "text/plain": [
       "<Figure size 432x288 with 1 Axes>"
      ]
     },
     "metadata": {},
     "output_type": "display_data"
    }
   ],
   "source": [
    "sns.boxplot(x='Gender', y='TV_Hrs', data=df[df['Year']==2012])"
   ]
  },
  {
   "cell_type": "markdown",
   "metadata": {},
   "source": [
    "From the box plot, there does not seem to be a significant difference in TV hours between gender."
   ]
  },
  {
   "cell_type": "code",
   "execution_count": 34,
   "metadata": {},
   "outputs": [
    {
     "data": {
      "text/plain": [
       "<matplotlib.axes._subplots.AxesSubplot at 0x22ae221c0b8>"
      ]
     },
     "execution_count": 34,
     "metadata": {},
     "output_type": "execute_result"
    },
    {
     "data": {
      "image/png": "[encoded data removed]",
      "text/plain": [
       "<Figure size 432x288 with 1 Axes>"
      ]
     },
     "metadata": {},
     "output_type": "display_data"
    }
   ],
   "source": [
    "df['TV_Hrs'].hist()"
   ]
  },
  {
   "cell_type": "markdown",
   "metadata": {},
   "source": [
    "There are two groups (i.e. male/female) and daily TV hours appears somewhat normal so a t-test may be used. The participants are not the same so this must be an independent t-test."
   ]
  },
  {
   "cell_type": "code",
   "execution_count": 35,
   "metadata": {},
   "outputs": [
    {
     "data": {
      "text/plain": [
       "Ttest_indResult(statistic=-0.7323552192640558, pvalue=0.4639939646110154)"
      ]
     },
     "execution_count": 35,
     "metadata": {},
     "output_type": "execute_result"
    }
   ],
   "source": [
    "df1 = df[df['Year']==2012]\n",
    "stats.ttest_ind(df1[df1['Gender']=='M']['TV_Hrs'].dropna(),\n",
    "                      df1[df1['Gender']=='F']['TV_Hrs'].dropna())"
   ]
  },
  {
   "cell_type": "markdown",
   "metadata": {},
   "source": [
    "The t-statistic and p-value support the conclusion that there is not a significant difference in TV hours reported between men and women in 2012."
   ]
  },
  {
   "cell_type": "markdown",
   "metadata": {},
   "source": [
    "### 4. Who was more likely to believe people were fair in 2012, people living with a partner or people living alone?"
   ]
  },
  {
   "cell_type": "code",
   "execution_count": 36,
   "metadata": {},
   "outputs": [
    {
     "data": {
      "text/plain": [
       "Partner\n",
       "0    5.865925\n",
       "1    6.074351\n",
       "Name: Fairness, dtype: float64"
      ]
     },
     "execution_count": 36,
     "metadata": {},
     "output_type": "execute_result"
    }
   ],
   "source": [
    "df[df['Year']==2012].groupby(['Partner'])['Fairness'].mean()"
   ]
  },
  {
   "cell_type": "code",
   "execution_count": 37,
   "metadata": {},
   "outputs": [
    {
     "data": {
      "text/plain": [
       "<matplotlib.axes._subplots.AxesSubplot at 0x22ae227c048>"
      ]
     },
     "execution_count": 37,
     "metadata": {},
     "output_type": "execute_result"
    },
    {
     "data": {
      "image/png": "[encoded data removed]",
      "text/plain": [
       "<Figure size 432x288 with 1 Axes>"
      ]
     },
     "metadata": {},
     "output_type": "display_data"
    }
   ],
   "source": [
    "sns.boxplot(x='Partner', y='Fairness', data=df[df['Year']==2012])"
   ]
  },
  {
   "cell_type": "markdown",
   "metadata": {},
   "source": [
    "From the box plot, there does not seem to be a significant difference in fairness level between those living alone vs. with a partner."
   ]
  },
  {
   "cell_type": "code",
   "execution_count": 38,
   "metadata": {},
   "outputs": [
    {
     "data": {
      "text/plain": [
       "<matplotlib.axes._subplots.AxesSubplot at 0x22ae2300d30>"
      ]
     },
     "execution_count": 38,
     "metadata": {},
     "output_type": "execute_result"
    },
    {
     "data": {
      "image/png": "[encoded data removed]",
      "text/plain": [
       "<Figure size 432x288 with 1 Axes>"
      ]
     },
     "metadata": {},
     "output_type": "display_data"
    }
   ],
   "source": [
    "df['Fairness'].hist()"
   ]
  },
  {
   "cell_type": "markdown",
   "metadata": {},
   "source": [
    "There are two groups (i.e. living alone vs. with a partner) and fairness level appears somewhat normal so a t-test may be used. The participants are not the same so this must be an independent t-test."
   ]
  },
  {
   "cell_type": "code",
   "execution_count": 39,
   "metadata": {},
   "outputs": [
    {
     "data": {
      "text/plain": [
       "Ttest_indResult(statistic=-1.7196826211114447, pvalue=0.08556619301534168)"
      ]
     },
     "execution_count": 39,
     "metadata": {},
     "output_type": "execute_result"
    }
   ],
   "source": [
    "df1 = df[df['Year']==2012]\n",
    "stats.ttest_ind(df1[df1['Partner']==0]['TV_Hrs'].dropna(),\n",
    "                      df1[df1['Partner']==1]['TV_Hrs'].dropna())"
   ]
  },
  {
   "cell_type": "markdown",
   "metadata": {},
   "source": [
    "The t-statistic and p-value support the conclusion that there is not a significant difference in fairness level reported between those living alone vs. with a partner in 2012."
   ]
  },
  {
   "cell_type": "markdown",
   "metadata": {},
   "source": [
    "### 5. Pick three or four of the countries in the sample and compare how often people met socially in 2014. Are there differences, and if so, which countries stand out?"
   ]
  },
  {
   "cell_type": "code",
   "execution_count": 40,
   "metadata": {},
   "outputs": [
    {
     "data": {
      "text/plain": [
       "<matplotlib.axes._subplots.AxesSubplot at 0x22ae2375e10>"
      ]
     },
     "execution_count": 40,
     "metadata": {},
     "output_type": "execute_result"
    },
    {
     "data": {
      "image/png": "[encoded data removed]",
      "text/plain": [
       "<Figure size 432x288 with 1 Axes>"
      ]
     },
     "metadata": {},
     "output_type": "display_data"
    }
   ],
   "source": [
    "sns.boxplot(x='Country', y='Social_Activity', hue=None,\n",
    "            data=df[df['Year']==2014])"
   ]
  },
  {
   "cell_type": "markdown",
   "metadata": {},
   "source": [
    "From the box plots, it appears that Denmark and Sweden have different distributions than other countries. Use those and two others (Switzerland and Czech Republic) for a comparison."
   ]
  },
  {
   "cell_type": "code",
   "execution_count": 41,
   "metadata": {},
   "outputs": [
    {
     "data": {
      "text/plain": [
       "<matplotlib.axes._subplots.AxesSubplot at 0x22ae243c1d0>"
      ]
     },
     "execution_count": 41,
     "metadata": {},
     "output_type": "execute_result"
    },
    {
     "data": {
      "image/png": "[encoded data removed]",
      "text/plain": [
       "<Figure size 432x288 with 1 Axes>"
      ]
     },
     "metadata": {},
     "output_type": "display_data"
    }
   ],
   "source": [
    "df['Social_Activity'].hist()"
   ]
  },
  {
   "cell_type": "markdown",
   "metadata": {},
   "source": [
    "Social activity data do not appear to be normally distributed so a non-parametric test such as the Kruskal-Wallace test is needed."
   ]
  },
  {
   "cell_type": "code",
   "execution_count": 42,
   "metadata": {},
   "outputs": [
    {
     "data": {
      "text/plain": [
       "ES    2292\n",
       "SE    1726\n",
       "CH    1475\n",
       "NO    1420\n",
       "CZ    1207\n",
       "DE      27\n",
       "Name: Country, dtype: int64"
      ]
     },
     "execution_count": 42,
     "metadata": {},
     "output_type": "execute_result"
    }
   ],
   "source": [
    "df['Country'].value_counts()"
   ]
  },
  {
   "cell_type": "code",
   "execution_count": 43,
   "metadata": {},
   "outputs": [],
   "source": [
    "# Prepare data\n",
    "df_CH = df[df['Country']=='CH']\n",
    "df_CZ = df[df['Country']=='CZ']\n",
    "df_DE = df[df['Country']=='DE']\n",
    "df_SE = df[df['Country']=='SE']\n",
    "\n",
    "rank = stats.rankdata(df_CH['Social_Activity'].tolist() +\n",
    "                      df_CZ['Social_Activity'].tolist() +\n",
    "                      df_DE['Social_Activity'].tolist() +\n",
    "                      df_SE['Social_Activity'].tolist())\n",
    "rank_CH = rank[:1475]\n",
    "rank_CZ = rank[1475:2682]\n",
    "rank_DE = rank[2682:2709]\n",
    "rank_SE = rank[2709:]"
   ]
  },
  {
   "cell_type": "code",
   "execution_count": 44,
   "metadata": {},
   "outputs": [
    {
     "data": {
      "text/plain": [
       "KruskalResult(statistic=259.56470136590934, pvalue=5.584286977505873e-56)"
      ]
     },
     "execution_count": 44,
     "metadata": {},
     "output_type": "execute_result"
    }
   ],
   "source": [
    "# Kruskal-Wallace Test\n",
    "stats.kruskal(rank_CH, rank_CZ, rank_DE, rank_SE)"
   ]
  },
  {
   "cell_type": "markdown",
   "metadata": {},
   "source": [
    "Applying the Kruskal-Wallace Test on the four chosen countries suggests that there is a significant difference in social activity levels between them."
   ]
  },
  {
   "cell_type": "markdown",
   "metadata": {},
   "source": [
    "To determine which countries are different, check pairwise results:"
   ]
  },
  {
   "cell_type": "code",
   "execution_count": 45,
   "metadata": {},
   "outputs": [
    {
     "data": {
      "text/plain": [
       "KruskalResult(statistic=83.7195701730536, pvalue=5.70179871536554e-20)"
      ]
     },
     "execution_count": 45,
     "metadata": {},
     "output_type": "execute_result"
    }
   ],
   "source": [
    "stats.kruskal(rank_CH, rank_CZ)"
   ]
  },
  {
   "cell_type": "code",
   "execution_count": 46,
   "metadata": {},
   "outputs": [
    {
     "data": {
      "text/plain": [
       "KruskalResult(statistic=6.345688769737615, pvalue=0.011766691308368485)"
      ]
     },
     "execution_count": 46,
     "metadata": {},
     "output_type": "execute_result"
    }
   ],
   "source": [
    "stats.kruskal(rank_CH, rank_DE)"
   ]
  },
  {
   "cell_type": "code",
   "execution_count": 47,
   "metadata": {},
   "outputs": [
    {
     "data": {
      "text/plain": [
       "KruskalResult(statistic=66.82627930435707, pvalue=2.96518817284126e-16)"
      ]
     },
     "execution_count": 47,
     "metadata": {},
     "output_type": "execute_result"
    }
   ],
   "source": [
    "stats.kruskal(rank_CH, rank_SE)"
   ]
  },
  {
   "cell_type": "code",
   "execution_count": 48,
   "metadata": {},
   "outputs": [
    {
     "data": {
      "text/plain": [
       "KruskalResult(statistic=0.0018131411074285202, pvalue=0.96603554580067)"
      ]
     },
     "execution_count": 48,
     "metadata": {},
     "output_type": "execute_result"
    }
   ],
   "source": [
    "stats.kruskal(rank_CZ, rank_DE)"
   ]
  },
  {
   "cell_type": "code",
   "execution_count": 49,
   "metadata": {},
   "outputs": [
    {
     "data": {
      "text/plain": [
       "KruskalResult(statistic=232.36525878334288, pvalue=1.817733885544913e-52)"
      ]
     },
     "execution_count": 49,
     "metadata": {},
     "output_type": "execute_result"
    }
   ],
   "source": [
    "stats.kruskal(rank_CZ, rank_SE)"
   ]
  },
  {
   "cell_type": "code",
   "execution_count": 50,
   "metadata": {},
   "outputs": [
    {
     "data": {
      "text/plain": [
       "KruskalResult(statistic=13.71543684562892, pvalue=0.00021269901380063623)"
      ]
     },
     "execution_count": 50,
     "metadata": {},
     "output_type": "execute_result"
    }
   ],
   "source": [
    "stats.kruskal(rank_DE, rank_SE)"
   ]
  },
  {
   "cell_type": "markdown",
   "metadata": {},
   "source": [
    "Looking at pairwise Kruskal-Wallace Test p-values, all combinations are significantly different except Czech Republic and Denmark. This indicates that box plots are misleading in this scenario. Denmark has a much smaller sample size than the others so this may be a factor."
   ]
  },
  {
   "cell_type": "markdown",
   "metadata": {},
   "source": [
    "### 6. Pick three or four of the countries in the sample and compare how often people took part in social activities, relative to others their age, in 2014. Are there differences, and if so, which countries stand out?"
   ]
  },
  {
   "cell_type": "code",
   "execution_count": 51,
   "metadata": {},
   "outputs": [
    {
     "data": {
      "text/plain": [
       "0.25    33.0\n",
       "0.50    47.0\n",
       "0.75    61.0\n",
       "Name: Age, dtype: float64"
      ]
     },
     "execution_count": 51,
     "metadata": {},
     "output_type": "execute_result"
    },
    {
     "data": {
      "image/png": "[encoded data removed]",
      "text/plain": [
       "<Figure size 432x288 with 1 Axes>"
      ]
     },
     "metadata": {},
     "output_type": "display_data"
    }
   ],
   "source": [
    "sns.boxplot(df['Age'])\n",
    "df['Age'].quantile([0.25, 0.50, 0.75])"
   ]
  },
  {
   "cell_type": "code",
   "execution_count": 52,
   "metadata": {},
   "outputs": [],
   "source": [
    "# Create quartile buckets\n",
    "df['AgeQ'] = df['Age']\n",
    "df.loc[df['Age'] <= 33,'AgeQ'] = 1\n",
    "df.loc[(df['Age'] > 33) & (df['Age'] <= 47),'AgeQ'] = 2\n",
    "df.loc[(df['Age'] > 47) & (df['Age'] <= 61),'AgeQ'] = 3\n",
    "df.loc[df['AgeQ']> 61,'AgeQ'] = 4"
   ]
  },
  {
   "cell_type": "markdown",
   "metadata": {},
   "source": [
    "First, bucket each participant by age quartile."
   ]
  },
  {
   "cell_type": "code",
   "execution_count": 53,
   "metadata": {},
   "outputs": [
    {
     "data": {
      "text/plain": [
       "AgeQ  Country\n",
       "1     CH         5.586854\n",
       "      CZ         5.109677\n",
       "      ES         5.729825\n",
       "      NO         5.848958\n",
       "      SE         5.857759\n",
       "2     CH         5.214286\n",
       "      CZ         4.174157\n",
       "      DE         4.000000\n",
       "      ES         4.946128\n",
       "      NO         5.150838\n",
       "      SE         5.575000\n",
       "3     CH         5.069364\n",
       "      CZ         4.402367\n",
       "      DE         4.666667\n",
       "      ES         4.964912\n",
       "      NO         5.110465\n",
       "      SE         5.348718\n",
       "4     CH         4.737143\n",
       "      CZ         4.278846\n",
       "      DE         4.333333\n",
       "      ES         5.438202\n",
       "      NO         5.071006\n",
       "      SE         5.064286\n",
       "Name: Social_Activity, dtype: float64"
      ]
     },
     "execution_count": 53,
     "metadata": {},
     "output_type": "execute_result"
    }
   ],
   "source": [
    "df[df['Year'] == 2014].groupby(['AgeQ','Country'])['Social_Activity'].mean()"
   ]
  },
  {
   "cell_type": "code",
   "execution_count": 54,
   "metadata": {},
   "outputs": [
    {
     "data": {
      "text/plain": [
       "<matplotlib.axes._subplots.AxesSubplot at 0x22ae2511f98>"
      ]
     },
     "execution_count": 54,
     "metadata": {},
     "output_type": "execute_result"
    },
    {
     "data": {
      "image/png": "[encoded data removed]",
      "text/plain": [
       "<Figure size 1080x360 with 1 Axes>"
      ]
     },
     "metadata": {},
     "output_type": "display_data"
    }
   ],
   "source": [
    "plt.figure(figsize=(15,5))\n",
    "sns.boxplot(x='AgeQ', y='Social_Activity', hue='Country', data=df)"
   ]
  },
  {
   "cell_type": "markdown",
   "metadata": {},
   "source": [
    "Looking at mean social activity in each age quartile, Sweden seems to be one of the most socially active countries with Czech Republic one of the least socially active. Switzerland and Spain are typically in the middle (although Spain is most socially active amongst the oldest quartile), so will be used for comparison."
   ]
  },
  {
   "cell_type": "code",
   "execution_count": 55,
   "metadata": {},
   "outputs": [],
   "source": [
    "df1 = df[(df['Year'] == 2014) & (df['AgeQ'] == 1)]\n",
    "df2 = df[(df['Year'] == 2014) & (df['AgeQ'] == 2)]\n",
    "df3 = df[(df['Year'] == 2014) & (df['AgeQ'] == 3)]\n",
    "df4 = df[(df['Year'] == 2014) & (df['AgeQ'] == 4)]"
   ]
  },
  {
   "cell_type": "markdown",
   "metadata": {},
   "source": [
    "#### First quartile"
   ]
  },
  {
   "cell_type": "code",
   "execution_count": 56,
   "metadata": {
    "scrolled": true
   },
   "outputs": [
    {
     "data": {
      "text/plain": [
       "ES    285\n",
       "SE    232\n",
       "CH    213\n",
       "NO    192\n",
       "CZ    155\n",
       "Name: Country, dtype: int64"
      ]
     },
     "execution_count": 56,
     "metadata": {},
     "output_type": "execute_result"
    }
   ],
   "source": [
    "df1['Country'].value_counts()"
   ]
  },
  {
   "cell_type": "code",
   "execution_count": 57,
   "metadata": {},
   "outputs": [
    {
     "data": {
      "text/plain": [
       "KruskalResult(statistic=34.24126823533202, pvalue=1.7619249177632748e-07)"
      ]
     },
     "execution_count": 57,
     "metadata": {},
     "output_type": "execute_result"
    }
   ],
   "source": [
    "# Prepare data\n",
    "df_CH = df1[df1['Country']=='CH']\n",
    "df_CZ = df1[df1['Country']=='CZ']\n",
    "df_ES = df1[df1['Country']=='ES']\n",
    "df_SE = df1[df1['Country']=='SE']\n",
    "\n",
    "rank = stats.rankdata(df_CH['Social_Activity'].tolist() +\n",
    "                      df_CZ['Social_Activity'].tolist() +\n",
    "                      df_ES['Social_Activity'].tolist() +\n",
    "                      df_SE['Social_Activity'].tolist())\n",
    "rank_CH = rank[:213]\n",
    "rank_CZ = rank[213:368]\n",
    "rank_ES = rank[368:653]\n",
    "rank_SE = rank[653:]\n",
    "\n",
    "stats.kruskal(rank_CH, rank_CZ, rank_ES, rank_SE)"
   ]
  },
  {
   "cell_type": "markdown",
   "metadata": {},
   "source": [
    "For the youngest age quartile, there is a significant difference in social activity."
   ]
  },
  {
   "cell_type": "markdown",
   "metadata": {},
   "source": [
    "To determine which countries are different, check pairwise results:"
   ]
  },
  {
   "cell_type": "code",
   "execution_count": 58,
   "metadata": {},
   "outputs": [
    {
     "data": {
      "text/plain": [
       "KruskalResult(statistic=11.264241639364457, pvalue=0.0007901445385577571)"
      ]
     },
     "execution_count": 58,
     "metadata": {},
     "output_type": "execute_result"
    }
   ],
   "source": [
    "stats.kruskal(rank_CH, rank_CZ)"
   ]
  },
  {
   "cell_type": "code",
   "execution_count": 59,
   "metadata": {},
   "outputs": [
    {
     "data": {
      "text/plain": [
       "KruskalResult(statistic=1.1375095363222054, pvalue=0.2861791907113312)"
      ]
     },
     "execution_count": 59,
     "metadata": {},
     "output_type": "execute_result"
    }
   ],
   "source": [
    "stats.kruskal(rank_CH, rank_ES)"
   ]
  },
  {
   "cell_type": "code",
   "execution_count": 60,
   "metadata": {},
   "outputs": [
    {
     "data": {
      "text/plain": [
       "KruskalResult(statistic=9.229697580235197, pvalue=0.002381209739944135)"
      ]
     },
     "execution_count": 60,
     "metadata": {},
     "output_type": "execute_result"
    }
   ],
   "source": [
    "stats.kruskal(rank_CH, rank_SE)"
   ]
  },
  {
   "cell_type": "code",
   "execution_count": 61,
   "metadata": {},
   "outputs": [
    {
     "data": {
      "text/plain": [
       "KruskalResult(statistic=19.33663318017098, pvalue=1.0958365446187156e-05)"
      ]
     },
     "execution_count": 61,
     "metadata": {},
     "output_type": "execute_result"
    }
   ],
   "source": [
    "stats.kruskal(rank_CZ, rank_ES)"
   ]
  },
  {
   "cell_type": "code",
   "execution_count": 62,
   "metadata": {},
   "outputs": [
    {
     "data": {
      "text/plain": [
       "KruskalResult(statistic=27.859658921630682, pvalue=1.3044125501340657e-07)"
      ]
     },
     "execution_count": 62,
     "metadata": {},
     "output_type": "execute_result"
    }
   ],
   "source": [
    "stats.kruskal(rank_CZ, rank_SE)"
   ]
  },
  {
   "cell_type": "code",
   "execution_count": 63,
   "metadata": {},
   "outputs": [
    {
     "data": {
      "text/plain": [
       "KruskalResult(statistic=3.975177946330618, pvalue=0.046175574160336165)"
      ]
     },
     "execution_count": 63,
     "metadata": {},
     "output_type": "execute_result"
    }
   ],
   "source": [
    "stats.kruskal(rank_ES, rank_SE)"
   ]
  },
  {
   "cell_type": "markdown",
   "metadata": {},
   "source": [
    "With the exception of Switzerland and Spain, all country pairs showed a significant difference in social activity level within the first age quartile in 2014."
   ]
  },
  {
   "cell_type": "markdown",
   "metadata": {},
   "source": [
    "#### Second Quartile"
   ]
  },
  {
   "cell_type": "code",
   "execution_count": 64,
   "metadata": {
    "scrolled": true
   },
   "outputs": [
    {
     "data": {
      "text/plain": [
       "ES    297\n",
       "CH    182\n",
       "NO    179\n",
       "CZ    178\n",
       "SE    160\n",
       "DE      2\n",
       "Name: Country, dtype: int64"
      ]
     },
     "execution_count": 64,
     "metadata": {},
     "output_type": "execute_result"
    }
   ],
   "source": [
    "df2['Country'].value_counts()"
   ]
  },
  {
   "cell_type": "code",
   "execution_count": 65,
   "metadata": {},
   "outputs": [
    {
     "data": {
      "text/plain": [
       "KruskalResult(statistic=95.37762619671099, pvalue=1.5316474788067788e-20)"
      ]
     },
     "execution_count": 65,
     "metadata": {},
     "output_type": "execute_result"
    }
   ],
   "source": [
    "# Prepare data\n",
    "df_CH = df2[df2['Country']=='CH']\n",
    "df_CZ = df2[df2['Country']=='CZ']\n",
    "df_ES = df2[df2['Country']=='ES']\n",
    "df_SE = df2[df2['Country']=='SE']\n",
    "\n",
    "rank = stats.rankdata(df_CH['Social_Activity'].tolist() +\n",
    "                      df_CZ['Social_Activity'].tolist() +\n",
    "                      df_ES['Social_Activity'].tolist() +\n",
    "                      df_SE['Social_Activity'].tolist())\n",
    "rank_CH = rank[:182]\n",
    "rank_CZ = rank[182:360]\n",
    "rank_ES = rank[360:657]\n",
    "rank_SE = rank[657:]\n",
    "\n",
    "stats.kruskal(rank_CH, rank_CZ, rank_ES, rank_SE)"
   ]
  },
  {
   "cell_type": "markdown",
   "metadata": {},
   "source": [
    "For the second age quartile, there is a significant difference in social activity."
   ]
  },
  {
   "cell_type": "markdown",
   "metadata": {},
   "source": [
    "To determine which countries are different, check pairwise results:"
   ]
  },
  {
   "cell_type": "code",
   "execution_count": 66,
   "metadata": {},
   "outputs": [
    {
     "data": {
      "text/plain": [
       "KruskalResult(statistic=53.179815631318384, pvalue=3.0437030408166454e-13)"
      ]
     },
     "execution_count": 66,
     "metadata": {},
     "output_type": "execute_result"
    }
   ],
   "source": [
    "stats.kruskal(rank_CH, rank_CZ)"
   ]
  },
  {
   "cell_type": "code",
   "execution_count": 67,
   "metadata": {},
   "outputs": [
    {
     "data": {
      "text/plain": [
       "KruskalResult(statistic=2.8008236834100133, pvalue=0.09421589431630185)"
      ]
     },
     "execution_count": 67,
     "metadata": {},
     "output_type": "execute_result"
    }
   ],
   "source": [
    "stats.kruskal(rank_CH, rank_ES)"
   ]
  },
  {
   "cell_type": "code",
   "execution_count": 68,
   "metadata": {},
   "outputs": [
    {
     "data": {
      "text/plain": [
       "KruskalResult(statistic=13.469392163601688, pvalue=0.00024248685326510664)"
      ]
     },
     "execution_count": 68,
     "metadata": {},
     "output_type": "execute_result"
    }
   ],
   "source": [
    "stats.kruskal(rank_CH, rank_SE)"
   ]
  },
  {
   "cell_type": "code",
   "execution_count": 69,
   "metadata": {},
   "outputs": [
    {
     "data": {
      "text/plain": [
       "KruskalResult(statistic=36.60352577838976, pvalue=1.447696328801244e-09)"
      ]
     },
     "execution_count": 69,
     "metadata": {},
     "output_type": "execute_result"
    }
   ],
   "source": [
    "stats.kruskal(rank_CZ, rank_ES)"
   ]
  },
  {
   "cell_type": "code",
   "execution_count": 70,
   "metadata": {},
   "outputs": [
    {
     "data": {
      "text/plain": [
       "KruskalResult(statistic=71.6914187241201, pvalue=2.516244659626805e-17)"
      ]
     },
     "execution_count": 70,
     "metadata": {},
     "output_type": "execute_result"
    }
   ],
   "source": [
    "stats.kruskal(rank_CZ, rank_SE)"
   ]
  },
  {
   "cell_type": "code",
   "execution_count": 71,
   "metadata": {},
   "outputs": [
    {
     "data": {
      "text/plain": [
       "KruskalResult(statistic=25.406599361200392, pvalue=4.643269692888364e-07)"
      ]
     },
     "execution_count": 71,
     "metadata": {},
     "output_type": "execute_result"
    }
   ],
   "source": [
    "stats.kruskal(rank_ES, rank_SE)"
   ]
  },
  {
   "cell_type": "markdown",
   "metadata": {},
   "source": [
    "Like in the first age quartile, with the exception of Switzerland and Spain, all country pairs showed a significant difference in social activity level within the second age quartile in 2014."
   ]
  },
  {
   "cell_type": "markdown",
   "metadata": {},
   "source": [
    "#### Third Quartile"
   ]
  },
  {
   "cell_type": "code",
   "execution_count": 72,
   "metadata": {
    "scrolled": true
   },
   "outputs": [
    {
     "data": {
      "text/plain": [
       "ES    285\n",
       "SE    195\n",
       "CH    173\n",
       "NO    172\n",
       "CZ    169\n",
       "DE      6\n",
       "Name: Country, dtype: int64"
      ]
     },
     "execution_count": 72,
     "metadata": {},
     "output_type": "execute_result"
    }
   ],
   "source": [
    "df3['Country'].value_counts()"
   ]
  },
  {
   "cell_type": "code",
   "execution_count": 73,
   "metadata": {},
   "outputs": [
    {
     "data": {
      "text/plain": [
       "KruskalResult(statistic=39.00207340615644, pvalue=1.7339106433906416e-08)"
      ]
     },
     "execution_count": 73,
     "metadata": {},
     "output_type": "execute_result"
    }
   ],
   "source": [
    "# Prepare data\n",
    "df_CH = df3[df3['Country']=='CH']\n",
    "df_CZ = df3[df3['Country']=='CZ']\n",
    "df_ES = df3[df3['Country']=='ES']\n",
    "df_SE = df3[df3['Country']=='SE']\n",
    "\n",
    "rank = stats.rankdata(df_CH['Social_Activity'].tolist() +\n",
    "                      df_CZ['Social_Activity'].tolist() +\n",
    "                      df_ES['Social_Activity'].tolist() +\n",
    "                      df_SE['Social_Activity'].tolist())\n",
    "rank_CH = rank[:173]\n",
    "rank_CZ = rank[173:342]\n",
    "rank_ES = rank[342:653]\n",
    "rank_SE = rank[653:]\n",
    "\n",
    "stats.kruskal(rank_CH, rank_CZ, rank_ES, rank_SE)"
   ]
  },
  {
   "cell_type": "markdown",
   "metadata": {},
   "source": [
    "For the third age quartile, there is a significant difference in social activity."
   ]
  },
  {
   "cell_type": "markdown",
   "metadata": {},
   "source": [
    "To determine which countries are different, check pairwise results:"
   ]
  },
  {
   "cell_type": "code",
   "execution_count": 74,
   "metadata": {},
   "outputs": [
    {
     "data": {
      "text/plain": [
       "KruskalResult(statistic=17.492392672596612, pvalue=2.8845959789277558e-05)"
      ]
     },
     "execution_count": 74,
     "metadata": {},
     "output_type": "execute_result"
    }
   ],
   "source": [
    "stats.kruskal(rank_CH, rank_CZ)"
   ]
  },
  {
   "cell_type": "code",
   "execution_count": 75,
   "metadata": {},
   "outputs": [
    {
     "data": {
      "text/plain": [
       "KruskalResult(statistic=0.01877227207772862, pvalue=0.8910213562809013)"
      ]
     },
     "execution_count": 75,
     "metadata": {},
     "output_type": "execute_result"
    }
   ],
   "source": [
    "stats.kruskal(rank_CH, rank_ES)"
   ]
  },
  {
   "cell_type": "code",
   "execution_count": 76,
   "metadata": {},
   "outputs": [
    {
     "data": {
      "text/plain": [
       "KruskalResult(statistic=5.402886355933767, pvalue=0.020103478193500116)"
      ]
     },
     "execution_count": 76,
     "metadata": {},
     "output_type": "execute_result"
    }
   ],
   "source": [
    "stats.kruskal(rank_CH, rank_SE)"
   ]
  },
  {
   "cell_type": "code",
   "execution_count": 77,
   "metadata": {},
   "outputs": [
    {
     "data": {
      "text/plain": [
       "KruskalResult(statistic=19.508321407179395, pvalue=1.0016239322553478e-05)"
      ]
     },
     "execution_count": 77,
     "metadata": {},
     "output_type": "execute_result"
    }
   ],
   "source": [
    "stats.kruskal(rank_CZ, rank_ES)"
   ]
  },
  {
   "cell_type": "code",
   "execution_count": 78,
   "metadata": {},
   "outputs": [
    {
     "data": {
      "text/plain": [
       "KruskalResult(statistic=33.651766762426085, pvalue=6.591498310221881e-09)"
      ]
     },
     "execution_count": 78,
     "metadata": {},
     "output_type": "execute_result"
    }
   ],
   "source": [
    "stats.kruskal(rank_CZ, rank_SE)"
   ]
  },
  {
   "cell_type": "code",
   "execution_count": 79,
   "metadata": {},
   "outputs": [
    {
     "data": {
      "text/plain": [
       "KruskalResult(statistic=7.272320692265679, pvalue=0.007002526902613425)"
      ]
     },
     "execution_count": 79,
     "metadata": {},
     "output_type": "execute_result"
    }
   ],
   "source": [
    "stats.kruskal(rank_ES, rank_SE)"
   ]
  },
  {
   "cell_type": "markdown",
   "metadata": {},
   "source": [
    "As with the previous age quartiles, with the exception of Switzerland and Spain, all country pairs showed a significant difference in social activity level within the third age quartile in 2014."
   ]
  },
  {
   "cell_type": "markdown",
   "metadata": {},
   "source": [
    "#### Fourth quartile"
   ]
  },
  {
   "cell_type": "code",
   "execution_count": 80,
   "metadata": {
    "scrolled": true
   },
   "outputs": [
    {
     "data": {
      "text/plain": [
       "SE    280\n",
       "ES    267\n",
       "CH    175\n",
       "NO    169\n",
       "CZ    104\n",
       "DE      6\n",
       "Name: Country, dtype: int64"
      ]
     },
     "execution_count": 80,
     "metadata": {},
     "output_type": "execute_result"
    }
   ],
   "source": [
    "df4['Country'].value_counts()"
   ]
  },
  {
   "cell_type": "code",
   "execution_count": 81,
   "metadata": {},
   "outputs": [
    {
     "data": {
      "text/plain": [
       "KruskalResult(statistic=64.12079765058424, pvalue=7.734041915186611e-14)"
      ]
     },
     "execution_count": 81,
     "metadata": {},
     "output_type": "execute_result"
    }
   ],
   "source": [
    "# Prepare data\n",
    "df_CH = df4[df4['Country']=='CH']\n",
    "df_CZ = df4[df4['Country']=='CZ']\n",
    "df_ES = df4[df4['Country']=='ES']\n",
    "df_SE = df4[df4['Country']=='SE']\n",
    "\n",
    "rank = stats.rankdata(df_CH['Social_Activity'].tolist() +\n",
    "                      df_CZ['Social_Activity'].tolist() +\n",
    "                      df_ES['Social_Activity'].tolist() +\n",
    "                      df_SE['Social_Activity'].tolist())\n",
    "rank_CH = rank[:175]\n",
    "rank_CZ = rank[175:279]\n",
    "rank_ES = rank[279:546]\n",
    "rank_SE = rank[546:]\n",
    "\n",
    "stats.kruskal(rank_CH, rank_CZ, rank_ES, rank_SE)"
   ]
  },
  {
   "cell_type": "markdown",
   "metadata": {},
   "source": [
    "For the oldest age quartile, there is a significant difference in social activity."
   ]
  },
  {
   "cell_type": "markdown",
   "metadata": {},
   "source": [
    "To determine which countries are different, check pairwise results:"
   ]
  },
  {
   "cell_type": "code",
   "execution_count": 82,
   "metadata": {},
   "outputs": [
    {
     "data": {
      "text/plain": [
       "KruskalResult(statistic=6.18304377805685, pvalue=0.012898021446664958)"
      ]
     },
     "execution_count": 82,
     "metadata": {},
     "output_type": "execute_result"
    }
   ],
   "source": [
    "stats.kruskal(rank_CH, rank_CZ)"
   ]
  },
  {
   "cell_type": "code",
   "execution_count": 83,
   "metadata": {},
   "outputs": [
    {
     "data": {
      "text/plain": [
       "KruskalResult(statistic=29.703206884733092, pvalue=5.0351456124708395e-08)"
      ]
     },
     "execution_count": 83,
     "metadata": {},
     "output_type": "execute_result"
    }
   ],
   "source": [
    "stats.kruskal(rank_CH, rank_ES)"
   ]
  },
  {
   "cell_type": "code",
   "execution_count": 84,
   "metadata": {},
   "outputs": [
    {
     "data": {
      "text/plain": [
       "KruskalResult(statistic=5.250117034296918, pvalue=0.021945294938450807)"
      ]
     },
     "execution_count": 84,
     "metadata": {},
     "output_type": "execute_result"
    }
   ],
   "source": [
    "stats.kruskal(rank_CH, rank_SE)"
   ]
  },
  {
   "cell_type": "code",
   "execution_count": 85,
   "metadata": {},
   "outputs": [
    {
     "data": {
      "text/plain": [
       "KruskalResult(statistic=47.40899921050013, pvalue=5.761756224929105e-12)"
      ]
     },
     "execution_count": 85,
     "metadata": {},
     "output_type": "execute_result"
    }
   ],
   "source": [
    "stats.kruskal(rank_CZ, rank_ES)"
   ]
  },
  {
   "cell_type": "code",
   "execution_count": 86,
   "metadata": {},
   "outputs": [
    {
     "data": {
      "text/plain": [
       "KruskalResult(statistic=22.261500923347416, pvalue=2.3792940554695527e-06)"
      ]
     },
     "execution_count": 86,
     "metadata": {},
     "output_type": "execute_result"
    }
   ],
   "source": [
    "stats.kruskal(rank_CZ, rank_SE)"
   ]
  },
  {
   "cell_type": "code",
   "execution_count": 87,
   "metadata": {},
   "outputs": [
    {
     "data": {
      "text/plain": [
       "KruskalResult(statistic=17.732058912727606, pvalue=2.5430451020832663e-05)"
      ]
     },
     "execution_count": 87,
     "metadata": {},
     "output_type": "execute_result"
    }
   ],
   "source": [
    "stats.kruskal(rank_ES, rank_SE)"
   ]
  },
  {
   "cell_type": "markdown",
   "metadata": {},
   "source": [
    "All country pairs, including Switzerland and Spain, showed a significant difference in social activity level within the oldest age quartile in 2014."
   ]
  },
  {
   "cell_type": "markdown",
   "metadata": {},
   "source": [
    "#### Conclusion"
   ]
  },
  {
   "cell_type": "markdown",
   "metadata": {},
   "source": [
    "Social activity level varied within age quartiles amongst different countries in 2014. Among those that stood out were Czech Republic and Sweden while Switzerland and Spain were mostly similar (with the exception of the oldest quartile where Spain was also significantly different)."
   ]
  },
  {
   "cell_type": "code",
   "execution_count": null,
   "metadata": {},
   "outputs": [],
   "source": []
  }
 ],
 "metadata": {
  "kernelspec": {
   "display_name": "Python 3 (Spyder)",
   "language": "python3",
   "name": "python3"
  },
  "language_info": {
   "codemirror_mode": {
    "name": "ipython",
    "version": 3
   },
   "file_extension": ".py",
   "mimetype": "text/x-python",
   "name": "python",
   "nbconvert_exporter": "python",
   "pygments_lexer": "ipython3",
   "version": "3.7.3"
  }
 },
 "nbformat": 4,
 "nbformat_minor": 2
}
