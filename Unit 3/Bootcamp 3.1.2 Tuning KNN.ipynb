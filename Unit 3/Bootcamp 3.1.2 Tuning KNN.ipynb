{
 "cells": [
  {
   "cell_type": "markdown",
   "metadata": {
    "run_control": {
     "frozen": false,
     "read_only": false
    }
   },
   "source": [
    "# Tuning KNN"
   ]
  },
  {
   "cell_type": "markdown",
   "metadata": {
    "run_control": {
     "frozen": false,
     "read_only": false
    }
   },
   "source": [
    "## DRILL:\n",
    "\n",
    "Let's say we work at a credit card company and we're trying to figure out if people are going to pay their bills on time. We have everyone's purchases, split into four main categories: groceries, dining out, utilities, and entertainment. What are some ways you might use KNN to create this model? What aspects of KNN would be useful? Write up your thoughts in submit a link below."
   ]
  },
  {
   "cell_type": "markdown",
   "metadata": {},
   "source": [
    " "
   ]
  },
  {
   "cell_type": "markdown",
   "metadata": {},
   "source": [
    "First, KNN could be applied using all four categories using spending amount with no transformation. Raw amounts may be sufficient to determine timeliness of payments. It may not necessarily be spending within categories that matters but just total amount. As such, it may also be worth adding total spending as a feature or in its own KNN. However, this may be highly correlated to one or more of the other features so may not add value.\n",
    "\n",
    "A variation would be normalizing purchases in each of the categories by converting to z-score. This could help classify clients into tiers. Maybe a particular 'type' of client (e.g. high spenders) would be more or less likely to pay on time. Another possibility would be to dividing spending into percentage of totals. Perhaps how people distribute their spending can be used to classify them.\n",
    "\n",
    "Four (or five) features is not a large amount but it may be possible to reduce the number of features, either by holding out features or performing a transformation such as PCA. A transformation would increase the chance of overfitting and one of KNN's advantages is its simplicity. Two categories (groceries and utilities) could be considered essential with the other two (dining out and entertainment) are more discretionary. If clients that spend less on dining out and entertainment are lower income, they may have more difficulty paying on time. However, it's also possible that they may be more careful in budgeting and more diligent in paying bills. Testing various combination of features would make it easier to discern such relationships."
   ]
  },
  {
   "cell_type": "code",
   "execution_count": null,
   "metadata": {},
   "outputs": [],
   "source": []
  }
 ],
 "metadata": {
  "hide_input": false,
  "kernelspec": {
   "display_name": "Python 3 (Spyder)",
   "language": "python3",
   "name": "python3"
  },
  "language_info": {
   "codemirror_mode": {
    "name": "ipython",
    "version": 3
   },
   "file_extension": ".py",
   "mimetype": "text/x-python",
   "name": "python",
   "nbconvert_exporter": "python",
   "pygments_lexer": "ipython3",
   "version": "3.7.1"
  },
  "toc": {
   "colors": {
    "hover_highlight": "#DAA520",
    "running_highlight": "#FF0000",
    "selected_highlight": "#FFD700"
   },
   "moveMenuLeft": true,
   "nav_menu": {
    "height": "105px",
    "width": "252px"
   },
   "navigate_menu": true,
   "number_sections": true,
   "sideBar": true,
   "threshold": 4,
   "toc_cell": false,
   "toc_section_display": "block",
   "toc_window_display": false
  }
 },
 "nbformat": 4,
 "nbformat_minor": 2
}
