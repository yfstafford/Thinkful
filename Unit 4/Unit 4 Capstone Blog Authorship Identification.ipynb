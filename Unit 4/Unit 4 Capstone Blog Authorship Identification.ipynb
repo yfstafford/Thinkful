{
 "cells": [
  {
   "cell_type": "markdown",
   "metadata": {},
   "source": [
    "<h1><center>Thinkful Unit 4 Capstone: Blog Author Identification</h1>"
   ]
  },
  {
   "cell_type": "markdown",
   "metadata": {},
   "source": [
    "## Introduction"
   ]
  },
  {
   "cell_type": "markdown",
   "metadata": {},
   "source": [
    "This report will focus on using both clustering and supervised learning models to classify blog posts by author. Data are taken from the Blog Authorship Corpus (https://u.cs.biu.ac.il/~koppel/BlogCorpus.htm), a collection of over 680k posts from over 19k bloggers taken from blogger.com in August 2004. This study will focus on longer blog posts that should contain more identifiable features than short one or two sentence posts.\n",
    "\n",
    "The spaCy NLP library will be used for tokenizing and two methods of vectorization will be used:\n",
    "- Bag of Words (BoW)\n",
    "- Term Frequency-Inverse Document Frequency (tf-idf)\n",
    "\n",
    "Three clustering methods will be compared:\n",
    "- K-Means\n",
    "- Mean-Shift\n",
    "- Spectral Clustering\n",
    "\n",
    "Dimensionality reduction will be applied via:\n",
    "- truncated SVD (i.e. latent semantic analysis)\n",
    "- PCA\n",
    "\n",
    "Three supervised learning models will be used:\n",
    "- Random Forest\n",
    "- Linear SVC\n",
    "- Gradient Boosting\n",
    "\n",
    "Once initial models have been tested, the best clustering method and the best supervised learning model will be explored in greater depth to try to optimize each and determine the best method of author classification."
   ]
  },
  {
   "cell_type": "markdown",
   "metadata": {},
   "source": [
    "## Data Preparation"
   ]
  },
  {
   "cell_type": "markdown",
   "metadata": {},
   "source": [
    "#### Load libraries"
   ]
  },
  {
   "cell_type": "code",
   "execution_count": 1,
   "metadata": {},
   "outputs": [],
   "source": [
    "import pandas as pd\n",
    "import scipy\n",
    "import numpy as np\n",
    "import math\n",
    "import datetime\n",
    "\n",
    "from matplotlib import pyplot as plt\n",
    "%matplotlib inline\n",
    "import seaborn as sns\n",
    "\n",
    "from sklearn import preprocessing\n",
    "from sklearn.decomposition import PCA\n",
    "from sklearn.model_selection import train_test_split, cross_val_score, cross_validate, GridSearchCV\n",
    "\n",
    "import warnings\n",
    "warnings.filterwarnings('ignore')"
   ]
  },
  {
   "cell_type": "markdown",
   "metadata": {},
   "source": [
    "#### Load CSV "
   ]
  },
  {
   "cell_type": "code",
   "execution_count": 2,
   "metadata": {},
   "outputs": [
    {
     "name": "stdout",
     "output_type": "stream",
     "text": [
      "There are 681284 total blog entries.\n"
     ]
    }
   ],
   "source": [
    "df0 = pd.read_csv('../data/blogtext.csv', delimiter=',',usecols=['id','topic','date','text'])\n",
    "df0.dataframeName = 'blogtext.csv'\n",
    "nRow, nCol = df0.shape\n",
    "print(f'There are {nRow} total blog entries.')"
   ]
  },
  {
   "cell_type": "markdown",
   "metadata": {},
   "source": [
    "#### Data Cleaning"
   ]
  },
  {
   "cell_type": "markdown",
   "metadata": {},
   "source": [
    "Drop duplicates"
   ]
  },
  {
   "cell_type": "code",
   "execution_count": 3,
   "metadata": {},
   "outputs": [],
   "source": [
    "df0.drop_duplicates(subset=\"text\",inplace=True)"
   ]
  },
  {
   "cell_type": "markdown",
   "metadata": {},
   "source": [
    "Remove blogs using non-English months in their date fields."
   ]
  },
  {
   "cell_type": "code",
   "execution_count": 4,
   "metadata": {},
   "outputs": [],
   "source": [
    "date_strings = df0['date'].str.title()\n",
    "english_month = (date_strings.str.contains(',January,')) | (date_strings.str.contains(',February,')) | \\\n",
    "               (date_strings.str.contains(',March,')) | (date_strings.str.contains(',April,')) | \\\n",
    "               (date_strings.str.contains(',May,')) | (date_strings.str.contains(',June,')) | \\\n",
    "               (date_strings.str.contains(',July,')) | (date_strings.str.contains(',August,')) | \\\n",
    "               (date_strings.str.contains(',September,')) | (date_strings.str.contains(',October,')) | \\\n",
    "               (date_strings.str.contains(',November,')) | (date_strings.str.contains(',December,'))\n",
    "df = df0.drop(df0[~english_month].index)"
   ]
  },
  {
   "cell_type": "code",
   "execution_count": 5,
   "metadata": {},
   "outputs": [
    {
     "name": "stdout",
     "output_type": "stream",
     "text": [
      "After filtering for English months, there are 604518 remaining blog entries.\n"
     ]
    }
   ],
   "source": [
    "df['datetime'] = pd.to_datetime(df['date'].str.title(), format='%d,%B,%Y')\n",
    "df = df.drop(columns=['date'])\n",
    "nRow, nCol = df.shape\n",
    "print(f'After filtering for English months, there are {nRow} remaining blog entries.')"
   ]
  },
  {
   "cell_type": "markdown",
   "metadata": {},
   "source": [
    "#### Filter blog entries"
   ]
  },
  {
   "cell_type": "markdown",
   "metadata": {},
   "source": [
    "Count number of characters per post"
   ]
  },
  {
   "cell_type": "code",
   "execution_count": 6,
   "metadata": {},
   "outputs": [],
   "source": [
    "df['char_count'] = [ len(t) for t in df['text'] ]"
   ]
  },
  {
   "cell_type": "code",
   "execution_count": 7,
   "metadata": {},
   "outputs": [
    {
     "data": {
      "text/plain": [
       "(array([379154., 128215.,  49804.,  21554.,  10691.,   5658.,   3191.,\n",
       "          1826.,   1209.,    783.]),\n",
       " array([    0.,  1000.,  2000.,  3000.,  4000.,  5000.,  6000.,  7000.,\n",
       "         8000.,  9000., 10000.]),\n",
       " <a list of 10 Patch objects>)"
      ]
     },
     "execution_count": 7,
     "metadata": {},
     "output_type": "execute_result"
    },
    {
     "data": {
      "image/png": "[encoded data removed]",
      "text/plain": [
       "<Figure size 432x288 with 1 Axes>"
      ]
     },
     "metadata": {},
     "output_type": "display_data"
    }
   ],
   "source": [
    "plt.hist(df['char_count'],range = (0,10000))"
   ]
  },
  {
   "cell_type": "markdown",
   "metadata": {},
   "source": [
    "Select only posts at least 5000 characters long"
   ]
  },
  {
   "cell_type": "code",
   "execution_count": 8,
   "metadata": {},
   "outputs": [],
   "source": [
    "df = df[df['char_count'] >= 5000]"
   ]
  },
  {
   "cell_type": "markdown",
   "metadata": {},
   "source": [
    "Count number of posts by author and topic"
   ]
  },
  {
   "cell_type": "code",
   "execution_count": 9,
   "metadata": {},
   "outputs": [],
   "source": [
    "post_count = df.groupby('id').size()\n",
    "df['post_count'] = [ post_count[id] for id in df['id'] ]"
   ]
  },
  {
   "cell_type": "code",
   "execution_count": 10,
   "metadata": {},
   "outputs": [],
   "source": [
    "topic_count = df.groupby('topic').size()\n",
    "df['topic_count'] = [ topic_count[topic] for topic in df['topic'] ]"
   ]
  },
  {
   "cell_type": "code",
   "execution_count": 11,
   "metadata": {},
   "outputs": [
    {
     "data": {
      "text/plain": [
       "topic\n",
       "indUnk                     5203\n",
       "Student                    3021\n",
       "Education                   943\n",
       "Arts                        814\n",
       "Technology                  679\n",
       "Communications-Media        606\n",
       "Publishing                  424\n",
       "Internet                    392\n",
       "Non-Profit                  334\n",
       "Engineering                 275\n",
       "Law                         234\n",
       "Consulting                  233\n",
       "Science                     169\n",
       "BusinessServices            149\n",
       "Government                  131\n",
       "Accounting                  116\n",
       "Military                    109\n",
       "Sports-Recreation           108\n",
       "Advertising                 102\n",
       "Religion                     96\n",
       "Telecommunications           91\n",
       "Manufacturing                89\n",
       "RealEstate                   80\n",
       "Banking                      78\n",
       "Marketing                    71\n",
       "HumanResources               67\n",
       "Tourism                      63\n",
       "Fashion                      54\n",
       "Transportation               53\n",
       "Museums-Libraries            51\n",
       "LawEnforcement-Security      45\n",
       "Biotech                      39\n",
       "Chemicals                    37\n",
       "Automotive                   34\n",
       "InvestmentBanking            25\n",
       "Construction                 22\n",
       "Maritime                     21\n",
       "Architecture                 20\n",
       "Agriculture                  13\n",
       "Environment                   9\n",
       "dtype: int64"
      ]
     },
     "execution_count": 11,
     "metadata": {},
     "output_type": "execute_result"
    }
   ],
   "source": [
    "topic_count.sort_values(ascending=False)"
   ]
  },
  {
   "cell_type": "markdown",
   "metadata": {},
   "source": [
    "Of the identified topics, the most heavily posted is 'Student' so focus on those posts"
   ]
  },
  {
   "cell_type": "code",
   "execution_count": 12,
   "metadata": {},
   "outputs": [],
   "source": [
    "df = df[df['topic'] == 'Student']"
   ]
  },
  {
   "cell_type": "markdown",
   "metadata": {},
   "source": [
    "Focus on authors with the highest number of longer posts"
   ]
  },
  {
   "cell_type": "code",
   "execution_count": 13,
   "metadata": {},
   "outputs": [
    {
     "data": {
      "text/plain": [
       "{'whiskers': [<matplotlib.lines.Line2D at 0x2190e543438>,\n",
       "  <matplotlib.lines.Line2D at 0x2190e519ba8>],\n",
       " 'caps': [<matplotlib.lines.Line2D at 0x2190e519ef0>,\n",
       "  <matplotlib.lines.Line2D at 0x2190e519fd0>],\n",
       " 'boxes': [<matplotlib.lines.Line2D at 0x2190e519438>],\n",
       " 'medians': [<matplotlib.lines.Line2D at 0x2190f5125c0>],\n",
       " 'fliers': [<matplotlib.lines.Line2D at 0x2190f512908>],\n",
       " 'means': []}"
      ]
     },
     "execution_count": 13,
     "metadata": {},
     "output_type": "execute_result"
    },
    {
     "data": {
      "image/png": "[encoded data removed]",
      "text/plain": [
       "<Figure size 432x288 with 1 Axes>"
      ]
     },
     "metadata": {},
     "output_type": "display_data"
    }
   ],
   "source": [
    "plt.boxplot(df.groupby('id').size())"
   ]
  },
  {
   "cell_type": "markdown",
   "metadata": {},
   "source": [
    "Select only authors with at least 20 posts."
   ]
  },
  {
   "cell_type": "code",
   "execution_count": 14,
   "metadata": {},
   "outputs": [],
   "source": [
    "df = df[df['post_count'] >= 20]"
   ]
  },
  {
   "cell_type": "code",
   "execution_count": 15,
   "metadata": {},
   "outputs": [
    {
     "data": {
      "text/plain": [
       "13"
      ]
     },
     "execution_count": 15,
     "metadata": {},
     "output_type": "execute_result"
    }
   ],
   "source": [
    "blogger_ids = pd.unique(df['id']).astype(str)\n",
    "len(df.groupby('id').size())"
   ]
  },
  {
   "cell_type": "code",
   "execution_count": 16,
   "metadata": {},
   "outputs": [
    {
     "data": {
      "text/plain": [
       "494"
      ]
     },
     "execution_count": 16,
     "metadata": {},
     "output_type": "execute_result"
    }
   ],
   "source": [
    "len(df)"
   ]
  },
  {
   "cell_type": "markdown",
   "metadata": {},
   "source": [
    "There are 13 remaining authors with a total of 494 posts."
   ]
  },
  {
   "cell_type": "markdown",
   "metadata": {},
   "source": [
    "#### Clean up DataFrame"
   ]
  },
  {
   "cell_type": "code",
   "execution_count": 17,
   "metadata": {},
   "outputs": [],
   "source": [
    "df = df.drop(columns = ['topic','datetime','post_count','topic_count','char_count'])\n",
    "df = df.reset_index(drop=True)\n",
    "#df.to_csv('reduced_blog_corpus.csv')\n",
    "\n",
    "del df0"
   ]
  },
  {
   "cell_type": "code",
   "execution_count": 18,
   "metadata": {},
   "outputs": [
    {
     "data": {
      "text/html": [
       "<div>\n",
       "<style scoped>\n",
       "    .dataframe tbody tr th:only-of-type {\n",
       "        vertical-align: middle;\n",
       "    }\n",
       "\n",
       "    .dataframe tbody tr th {\n",
       "        vertical-align: top;\n",
       "    }\n",
       "\n",
       "    .dataframe thead th {\n",
       "        text-align: right;\n",
       "    }\n",
       "</style>\n",
       "<table border=\"1\" class=\"dataframe\">\n",
       "  <thead>\n",
       "    <tr style=\"text-align: right;\">\n",
       "      <th></th>\n",
       "      <th>id</th>\n",
       "      <th>text</th>\n",
       "    </tr>\n",
       "  </thead>\n",
       "  <tbody>\n",
       "    <tr>\n",
       "      <th>0</th>\n",
       "      <td>780903</td>\n",
       "      <td>Wednesday's observations, one...</td>\n",
       "    </tr>\n",
       "    <tr>\n",
       "      <th>1</th>\n",
       "      <td>780903</td>\n",
       "      <td>Not sure if I've mentioned in...</td>\n",
       "    </tr>\n",
       "    <tr>\n",
       "      <th>2</th>\n",
       "      <td>780903</td>\n",
       "      <td>I had an interesting conversa...</td>\n",
       "    </tr>\n",
       "    <tr>\n",
       "      <th>3</th>\n",
       "      <td>780903</td>\n",
       "      <td>No snow on the ground here in...</td>\n",
       "    </tr>\n",
       "    <tr>\n",
       "      <th>4</th>\n",
       "      <td>780903</td>\n",
       "      <td>There's another weblog out th...</td>\n",
       "    </tr>\n",
       "  </tbody>\n",
       "</table>\n",
       "</div>"
      ],
      "text/plain": [
       "       id                                               text\n",
       "0  780903                   Wednesday's observations, one...\n",
       "1  780903                   Not sure if I've mentioned in...\n",
       "2  780903                   I had an interesting conversa...\n",
       "3  780903                   No snow on the ground here in...\n",
       "4  780903                   There's another weblog out th..."
      ]
     },
     "execution_count": 18,
     "metadata": {},
     "output_type": "execute_result"
    }
   ],
   "source": [
    "df.head(5)"
   ]
  },
  {
   "cell_type": "markdown",
   "metadata": {},
   "source": [
    "## Data Processing"
   ]
  },
  {
   "cell_type": "markdown",
   "metadata": {},
   "source": [
    "#### Process posts with spaCy"
   ]
  },
  {
   "cell_type": "markdown",
   "metadata": {},
   "source": [
    "The spaCy NLP library contains a good set of models that include contextual information and stop words so will be used for tokenization."
   ]
  },
  {
   "cell_type": "code",
   "execution_count": 19,
   "metadata": {},
   "outputs": [],
   "source": [
    "import spacy\n",
    "import string\n",
    "from spacy.lang.en.stop_words import STOP_WORDS\n",
    "from spacy.lang.en import English\n",
    "\n",
    "# Get spaCy stopwords\n",
    "nlp = spacy.load('c:/users/yfsta/anaconda3/lib/site-packages/en_core_web_lg/en_core_web_lg-2.1.0')\n",
    "stop_words = list(spacy.lang.en.stop_words.STOP_WORDS)"
   ]
  },
  {
   "cell_type": "code",
   "execution_count": 20,
   "metadata": {},
   "outputs": [],
   "source": [
    "# Initialize English parser\n",
    "parser = English()\n",
    "\n",
    "# Create spaCy tokenizer\n",
    "def spacy_tokenizer(sentence):\n",
    "    \n",
    "    # Create tokens object from parser\n",
    "    tokens = nlp(sentence)\n",
    "#    tokens = parser(sentence)\n",
    "\n",
    "    # Remove words not included in NLP vocab list (oov = out of vocabulary)\n",
    "#    tokens = [ t for t in tokens if t.is_oov is False ]\n",
    "    \n",
    "    # Exclusion list\n",
    "    exclusion_list = list(string.punctuation)\n",
    "    exclusion_list.extend(list(stop_words))\n",
    "    \n",
    "    # Lemmatize, convert to lowercase and remove extra spaces\n",
    "    tokens = [ w.lemma_.lower().strip() for w in tokens if w.lemma_ not in exclusion_list ]\n",
    "    \n",
    "    return tokens"
   ]
  },
  {
   "cell_type": "markdown",
   "metadata": {},
   "source": [
    "#### Bag of Words (BoW) Vectorization"
   ]
  },
  {
   "cell_type": "markdown",
   "metadata": {},
   "source": [
    "Bag of Words uses word counts for vectorization. Since it does not taken into account term frequency within the corpus, the stop word list is necessary to prevent common words from having too much influence.  "
   ]
  },
  {
   "cell_type": "code",
   "execution_count": 21,
   "metadata": {},
   "outputs": [],
   "source": [
    "from sklearn.feature_extraction.text import CountVectorizer\n",
    "\n",
    "bow_vector = CountVectorizer(tokenizer = spacy_tokenizer, ngram_range=(1,1))"
   ]
  },
  {
   "cell_type": "code",
   "execution_count": 22,
   "metadata": {},
   "outputs": [],
   "source": [
    "bow_out = bow_vector.fit_transform(df['text'])"
   ]
  },
  {
   "cell_type": "code",
   "execution_count": 23,
   "metadata": {},
   "outputs": [],
   "source": [
    "bow_train, bow_test, Y_train0, Y_test0 = train_test_split(bow_out,df['id'],\n",
    "                                                          test_size=0.25, random_state=42)"
   ]
  },
  {
   "cell_type": "code",
   "execution_count": 24,
   "metadata": {},
   "outputs": [
    {
     "name": "stdout",
     "output_type": "stream",
     "text": [
      "The dimensions of the BoW training set are: (370, 24992)\n",
      "The dimensions of the BoW test set are: (124, 24992)\n"
     ]
    }
   ],
   "source": [
    "print('The dimensions of the BoW training set are: ' + str(bow_train.shape))\n",
    "print('The dimensions of the BoW test set are: ' + str(bow_test.shape))"
   ]
  },
  {
   "cell_type": "code",
   "execution_count": 25,
   "metadata": {},
   "outputs": [],
   "source": [
    "from sklearn.preprocessing import normalize\n",
    "\n",
    "bow_train_out = normalize(bow_train)\n",
    "bow_test_out = normalize(bow_test)"
   ]
  },
  {
   "cell_type": "markdown",
   "metadata": {},
   "source": [
    "#### tf-idf Vectorization"
   ]
  },
  {
   "cell_type": "markdown",
   "metadata": {},
   "source": [
    "Like BoW, tf-idf vectorization is based upon word count within each document. However, as its name indicates, it applies a penalty to each term based on how frequently it occurs within the corpus, thus giving less weight to common words. The stop word list filter is applied as well but the inverse document frequency penalty adds an additional layer."
   ]
  },
  {
   "cell_type": "code",
   "execution_count": 26,
   "metadata": {},
   "outputs": [],
   "source": [
    "from sklearn.feature_extraction.text import TfidfVectorizer\n",
    "\n",
    "tfidf_vector = TfidfVectorizer(tokenizer = spacy_tokenizer, sublinear_tf=True, use_idf=True)"
   ]
  },
  {
   "cell_type": "code",
   "execution_count": 27,
   "metadata": {},
   "outputs": [],
   "source": [
    "tfidf_out = tfidf_vector.fit_transform(df['text'])"
   ]
  },
  {
   "cell_type": "code",
   "execution_count": 28,
   "metadata": {},
   "outputs": [],
   "source": [
    "tfidf_train, tfidf_test, Y_train, Y_test = train_test_split(tfidf_out,df['id'],\n",
    "                                                            test_size=0.25, random_state=42)"
   ]
  },
  {
   "cell_type": "code",
   "execution_count": 29,
   "metadata": {},
   "outputs": [
    {
     "name": "stdout",
     "output_type": "stream",
     "text": [
      "The dimensions of the tf-idf training set are: (370, 24992)\n",
      "The dimensions of the tf-idf test set are: (124, 24992)\n"
     ]
    }
   ],
   "source": [
    "print('The dimensions of the tf-idf training set are: ' + str(tfidf_train.shape))\n",
    "print('The dimensions of the tf-idf test set are: ' + str(tfidf_test.shape))"
   ]
  },
  {
   "cell_type": "code",
   "execution_count": 30,
   "metadata": {},
   "outputs": [],
   "source": [
    "tfidf_train_out = normalize(tfidf_train)\n",
    "tfidf_test_out = normalize(tfidf_test)"
   ]
  },
  {
   "cell_type": "markdown",
   "metadata": {},
   "source": [
    "## Clustering"
   ]
  },
  {
   "cell_type": "markdown",
   "metadata": {},
   "source": [
    "Three clustering methods will be used. K-Means and Spectral Clustering take target clusters as an input and will be set to 13 while Mean Shift will be allowed to estimate clusters on its own."
   ]
  },
  {
   "cell_type": "markdown",
   "metadata": {},
   "source": [
    "#### K-Means"
   ]
  },
  {
   "cell_type": "code",
   "execution_count": 31,
   "metadata": {},
   "outputs": [
    {
     "data": {
      "text/html": [
       "<div>\n",
       "<style scoped>\n",
       "    .dataframe tbody tr th:only-of-type {\n",
       "        vertical-align: middle;\n",
       "    }\n",
       "\n",
       "    .dataframe tbody tr th {\n",
       "        vertical-align: top;\n",
       "    }\n",
       "\n",
       "    .dataframe thead th {\n",
       "        text-align: right;\n",
       "    }\n",
       "</style>\n",
       "<table border=\"1\" class=\"dataframe\">\n",
       "  <thead>\n",
       "    <tr style=\"text-align: right;\">\n",
       "      <th>col_0</th>\n",
       "      <th>0</th>\n",
       "      <th>1</th>\n",
       "      <th>2</th>\n",
       "      <th>3</th>\n",
       "      <th>4</th>\n",
       "      <th>5</th>\n",
       "      <th>6</th>\n",
       "      <th>7</th>\n",
       "      <th>8</th>\n",
       "      <th>9</th>\n",
       "      <th>10</th>\n",
       "      <th>11</th>\n",
       "      <th>12</th>\n",
       "    </tr>\n",
       "    <tr>\n",
       "      <th>id</th>\n",
       "      <th></th>\n",
       "      <th></th>\n",
       "      <th></th>\n",
       "      <th></th>\n",
       "      <th></th>\n",
       "      <th></th>\n",
       "      <th></th>\n",
       "      <th></th>\n",
       "      <th></th>\n",
       "      <th></th>\n",
       "      <th></th>\n",
       "      <th></th>\n",
       "      <th></th>\n",
       "    </tr>\n",
       "  </thead>\n",
       "  <tbody>\n",
       "    <tr>\n",
       "      <th>670684</th>\n",
       "      <td>13</td>\n",
       "      <td>0</td>\n",
       "      <td>1</td>\n",
       "      <td>0</td>\n",
       "      <td>0</td>\n",
       "      <td>0</td>\n",
       "      <td>0</td>\n",
       "      <td>3</td>\n",
       "      <td>0</td>\n",
       "      <td>0</td>\n",
       "      <td>0</td>\n",
       "      <td>0</td>\n",
       "      <td>0</td>\n",
       "    </tr>\n",
       "    <tr>\n",
       "      <th>780903</th>\n",
       "      <td>18</td>\n",
       "      <td>0</td>\n",
       "      <td>0</td>\n",
       "      <td>0</td>\n",
       "      <td>11</td>\n",
       "      <td>0</td>\n",
       "      <td>1</td>\n",
       "      <td>22</td>\n",
       "      <td>0</td>\n",
       "      <td>1</td>\n",
       "      <td>0</td>\n",
       "      <td>0</td>\n",
       "      <td>0</td>\n",
       "    </tr>\n",
       "    <tr>\n",
       "      <th>1474573</th>\n",
       "      <td>6</td>\n",
       "      <td>0</td>\n",
       "      <td>5</td>\n",
       "      <td>0</td>\n",
       "      <td>0</td>\n",
       "      <td>0</td>\n",
       "      <td>0</td>\n",
       "      <td>2</td>\n",
       "      <td>2</td>\n",
       "      <td>0</td>\n",
       "      <td>0</td>\n",
       "      <td>0</td>\n",
       "      <td>4</td>\n",
       "    </tr>\n",
       "    <tr>\n",
       "      <th>1516660</th>\n",
       "      <td>0</td>\n",
       "      <td>0</td>\n",
       "      <td>1</td>\n",
       "      <td>0</td>\n",
       "      <td>0</td>\n",
       "      <td>0</td>\n",
       "      <td>1</td>\n",
       "      <td>0</td>\n",
       "      <td>19</td>\n",
       "      <td>0</td>\n",
       "      <td>0</td>\n",
       "      <td>0</td>\n",
       "      <td>9</td>\n",
       "    </tr>\n",
       "    <tr>\n",
       "      <th>1593902</th>\n",
       "      <td>3</td>\n",
       "      <td>0</td>\n",
       "      <td>4</td>\n",
       "      <td>0</td>\n",
       "      <td>0</td>\n",
       "      <td>0</td>\n",
       "      <td>0</td>\n",
       "      <td>2</td>\n",
       "      <td>2</td>\n",
       "      <td>0</td>\n",
       "      <td>0</td>\n",
       "      <td>2</td>\n",
       "      <td>9</td>\n",
       "    </tr>\n",
       "    <tr>\n",
       "      <th>1889734</th>\n",
       "      <td>13</td>\n",
       "      <td>0</td>\n",
       "      <td>0</td>\n",
       "      <td>0</td>\n",
       "      <td>0</td>\n",
       "      <td>0</td>\n",
       "      <td>0</td>\n",
       "      <td>10</td>\n",
       "      <td>4</td>\n",
       "      <td>0</td>\n",
       "      <td>0</td>\n",
       "      <td>0</td>\n",
       "      <td>5</td>\n",
       "    </tr>\n",
       "    <tr>\n",
       "      <th>2128831</th>\n",
       "      <td>4</td>\n",
       "      <td>0</td>\n",
       "      <td>3</td>\n",
       "      <td>0</td>\n",
       "      <td>0</td>\n",
       "      <td>0</td>\n",
       "      <td>0</td>\n",
       "      <td>0</td>\n",
       "      <td>9</td>\n",
       "      <td>0</td>\n",
       "      <td>0</td>\n",
       "      <td>0</td>\n",
       "      <td>6</td>\n",
       "    </tr>\n",
       "    <tr>\n",
       "      <th>2155904</th>\n",
       "      <td>2</td>\n",
       "      <td>0</td>\n",
       "      <td>0</td>\n",
       "      <td>0</td>\n",
       "      <td>0</td>\n",
       "      <td>37</td>\n",
       "      <td>0</td>\n",
       "      <td>0</td>\n",
       "      <td>1</td>\n",
       "      <td>0</td>\n",
       "      <td>0</td>\n",
       "      <td>0</td>\n",
       "      <td>0</td>\n",
       "    </tr>\n",
       "    <tr>\n",
       "      <th>2314011</th>\n",
       "      <td>13</td>\n",
       "      <td>0</td>\n",
       "      <td>1</td>\n",
       "      <td>0</td>\n",
       "      <td>0</td>\n",
       "      <td>0</td>\n",
       "      <td>0</td>\n",
       "      <td>3</td>\n",
       "      <td>0</td>\n",
       "      <td>0</td>\n",
       "      <td>0</td>\n",
       "      <td>0</td>\n",
       "      <td>1</td>\n",
       "    </tr>\n",
       "    <tr>\n",
       "      <th>2587254</th>\n",
       "      <td>0</td>\n",
       "      <td>33</td>\n",
       "      <td>0</td>\n",
       "      <td>25</td>\n",
       "      <td>0</td>\n",
       "      <td>0</td>\n",
       "      <td>4</td>\n",
       "      <td>0</td>\n",
       "      <td>1</td>\n",
       "      <td>0</td>\n",
       "      <td>0</td>\n",
       "      <td>0</td>\n",
       "      <td>3</td>\n",
       "    </tr>\n",
       "    <tr>\n",
       "      <th>2862338</th>\n",
       "      <td>8</td>\n",
       "      <td>0</td>\n",
       "      <td>0</td>\n",
       "      <td>0</td>\n",
       "      <td>0</td>\n",
       "      <td>0</td>\n",
       "      <td>9</td>\n",
       "      <td>0</td>\n",
       "      <td>2</td>\n",
       "      <td>0</td>\n",
       "      <td>0</td>\n",
       "      <td>0</td>\n",
       "      <td>1</td>\n",
       "    </tr>\n",
       "    <tr>\n",
       "      <th>3305548</th>\n",
       "      <td>0</td>\n",
       "      <td>0</td>\n",
       "      <td>0</td>\n",
       "      <td>0</td>\n",
       "      <td>0</td>\n",
       "      <td>0</td>\n",
       "      <td>0</td>\n",
       "      <td>1</td>\n",
       "      <td>4</td>\n",
       "      <td>0</td>\n",
       "      <td>4</td>\n",
       "      <td>0</td>\n",
       "      <td>2</td>\n",
       "    </tr>\n",
       "    <tr>\n",
       "      <th>4161674</th>\n",
       "      <td>4</td>\n",
       "      <td>0</td>\n",
       "      <td>1</td>\n",
       "      <td>0</td>\n",
       "      <td>0</td>\n",
       "      <td>0</td>\n",
       "      <td>0</td>\n",
       "      <td>2</td>\n",
       "      <td>5</td>\n",
       "      <td>0</td>\n",
       "      <td>0</td>\n",
       "      <td>0</td>\n",
       "      <td>8</td>\n",
       "    </tr>\n",
       "  </tbody>\n",
       "</table>\n",
       "</div>"
      ],
      "text/plain": [
       "col_0    0   1   2   3   4   5   6   7   8   9   10  11  12\n",
       "id                                                         \n",
       "670684   13   0   1   0   0   0   0   3   0   0   0   0   0\n",
       "780903   18   0   0   0  11   0   1  22   0   1   0   0   0\n",
       "1474573   6   0   5   0   0   0   0   2   2   0   0   0   4\n",
       "1516660   0   0   1   0   0   0   1   0  19   0   0   0   9\n",
       "1593902   3   0   4   0   0   0   0   2   2   0   0   2   9\n",
       "1889734  13   0   0   0   0   0   0  10   4   0   0   0   5\n",
       "2128831   4   0   3   0   0   0   0   0   9   0   0   0   6\n",
       "2155904   2   0   0   0   0  37   0   0   1   0   0   0   0\n",
       "2314011  13   0   1   0   0   0   0   3   0   0   0   0   1\n",
       "2587254   0  33   0  25   0   0   4   0   1   0   0   0   3\n",
       "2862338   8   0   0   0   0   0   9   0   2   0   0   0   1\n",
       "3305548   0   0   0   0   0   0   0   1   4   0   4   0   2\n",
       "4161674   4   0   1   0   0   0   0   2   5   0   0   0   8"
      ]
     },
     "execution_count": 31,
     "metadata": {},
     "output_type": "execute_result"
    }
   ],
   "source": [
    "from sklearn.cluster import KMeans\n",
    "\n",
    "# Initialize and fit K-Means\n",
    "bow_full_pred = KMeans(n_clusters=13, random_state=42).fit_predict(bow_train_out)\n",
    "\n",
    "# Check actual vs. predicted\n",
    "pd.crosstab(Y_train, bow_full_pred)"
   ]
  },
  {
   "cell_type": "code",
   "execution_count": 32,
   "metadata": {},
   "outputs": [
    {
     "name": "stdout",
     "output_type": "stream",
     "text": [
      "ARI for K-Means BoW is: 0.2797914250647057\n"
     ]
    }
   ],
   "source": [
    "from sklearn import metrics\n",
    "    \n",
    "bow_kmeans_ari = metrics.adjusted_rand_score(Y_train, bow_full_pred)\n",
    "\n",
    "print('ARI for K-Means BoW is: ' + str(bow_kmeans_ari))"
   ]
  },
  {
   "cell_type": "markdown",
   "metadata": {},
   "source": [
    "K-Means BoW does fairly well for many of the topics but struggles for others."
   ]
  },
  {
   "cell_type": "code",
   "execution_count": 33,
   "metadata": {},
   "outputs": [
    {
     "data": {
      "text/html": [
       "<div>\n",
       "<style scoped>\n",
       "    .dataframe tbody tr th:only-of-type {\n",
       "        vertical-align: middle;\n",
       "    }\n",
       "\n",
       "    .dataframe tbody tr th {\n",
       "        vertical-align: top;\n",
       "    }\n",
       "\n",
       "    .dataframe thead th {\n",
       "        text-align: right;\n",
       "    }\n",
       "</style>\n",
       "<table border=\"1\" class=\"dataframe\">\n",
       "  <thead>\n",
       "    <tr style=\"text-align: right;\">\n",
       "      <th>col_0</th>\n",
       "      <th>0</th>\n",
       "      <th>1</th>\n",
       "      <th>2</th>\n",
       "      <th>3</th>\n",
       "      <th>4</th>\n",
       "      <th>5</th>\n",
       "      <th>6</th>\n",
       "      <th>7</th>\n",
       "      <th>8</th>\n",
       "      <th>9</th>\n",
       "      <th>10</th>\n",
       "      <th>11</th>\n",
       "      <th>12</th>\n",
       "    </tr>\n",
       "    <tr>\n",
       "      <th>id</th>\n",
       "      <th></th>\n",
       "      <th></th>\n",
       "      <th></th>\n",
       "      <th></th>\n",
       "      <th></th>\n",
       "      <th></th>\n",
       "      <th></th>\n",
       "      <th></th>\n",
       "      <th></th>\n",
       "      <th></th>\n",
       "      <th></th>\n",
       "      <th></th>\n",
       "      <th></th>\n",
       "    </tr>\n",
       "  </thead>\n",
       "  <tbody>\n",
       "    <tr>\n",
       "      <th>670684</th>\n",
       "      <td>1</td>\n",
       "      <td>0</td>\n",
       "      <td>0</td>\n",
       "      <td>0</td>\n",
       "      <td>0</td>\n",
       "      <td>0</td>\n",
       "      <td>0</td>\n",
       "      <td>2</td>\n",
       "      <td>0</td>\n",
       "      <td>14</td>\n",
       "      <td>0</td>\n",
       "      <td>0</td>\n",
       "      <td>0</td>\n",
       "    </tr>\n",
       "    <tr>\n",
       "      <th>780903</th>\n",
       "      <td>0</td>\n",
       "      <td>0</td>\n",
       "      <td>0</td>\n",
       "      <td>14</td>\n",
       "      <td>0</td>\n",
       "      <td>0</td>\n",
       "      <td>25</td>\n",
       "      <td>11</td>\n",
       "      <td>0</td>\n",
       "      <td>3</td>\n",
       "      <td>0</td>\n",
       "      <td>0</td>\n",
       "      <td>0</td>\n",
       "    </tr>\n",
       "    <tr>\n",
       "      <th>1474573</th>\n",
       "      <td>0</td>\n",
       "      <td>0</td>\n",
       "      <td>0</td>\n",
       "      <td>0</td>\n",
       "      <td>0</td>\n",
       "      <td>1</td>\n",
       "      <td>0</td>\n",
       "      <td>6</td>\n",
       "      <td>0</td>\n",
       "      <td>12</td>\n",
       "      <td>0</td>\n",
       "      <td>0</td>\n",
       "      <td>0</td>\n",
       "    </tr>\n",
       "    <tr>\n",
       "      <th>1516660</th>\n",
       "      <td>0</td>\n",
       "      <td>0</td>\n",
       "      <td>0</td>\n",
       "      <td>0</td>\n",
       "      <td>0</td>\n",
       "      <td>0</td>\n",
       "      <td>0</td>\n",
       "      <td>0</td>\n",
       "      <td>0</td>\n",
       "      <td>1</td>\n",
       "      <td>0</td>\n",
       "      <td>29</td>\n",
       "      <td>0</td>\n",
       "    </tr>\n",
       "    <tr>\n",
       "      <th>1593902</th>\n",
       "      <td>2</td>\n",
       "      <td>0</td>\n",
       "      <td>0</td>\n",
       "      <td>0</td>\n",
       "      <td>0</td>\n",
       "      <td>1</td>\n",
       "      <td>1</td>\n",
       "      <td>7</td>\n",
       "      <td>0</td>\n",
       "      <td>10</td>\n",
       "      <td>0</td>\n",
       "      <td>0</td>\n",
       "      <td>1</td>\n",
       "    </tr>\n",
       "    <tr>\n",
       "      <th>1889734</th>\n",
       "      <td>0</td>\n",
       "      <td>0</td>\n",
       "      <td>0</td>\n",
       "      <td>0</td>\n",
       "      <td>0</td>\n",
       "      <td>4</td>\n",
       "      <td>0</td>\n",
       "      <td>21</td>\n",
       "      <td>0</td>\n",
       "      <td>0</td>\n",
       "      <td>0</td>\n",
       "      <td>0</td>\n",
       "      <td>7</td>\n",
       "    </tr>\n",
       "    <tr>\n",
       "      <th>2128831</th>\n",
       "      <td>0</td>\n",
       "      <td>0</td>\n",
       "      <td>0</td>\n",
       "      <td>0</td>\n",
       "      <td>0</td>\n",
       "      <td>4</td>\n",
       "      <td>0</td>\n",
       "      <td>4</td>\n",
       "      <td>1</td>\n",
       "      <td>13</td>\n",
       "      <td>0</td>\n",
       "      <td>0</td>\n",
       "      <td>0</td>\n",
       "    </tr>\n",
       "    <tr>\n",
       "      <th>2155904</th>\n",
       "      <td>0</td>\n",
       "      <td>39</td>\n",
       "      <td>0</td>\n",
       "      <td>0</td>\n",
       "      <td>0</td>\n",
       "      <td>0</td>\n",
       "      <td>0</td>\n",
       "      <td>0</td>\n",
       "      <td>0</td>\n",
       "      <td>1</td>\n",
       "      <td>0</td>\n",
       "      <td>0</td>\n",
       "      <td>0</td>\n",
       "    </tr>\n",
       "    <tr>\n",
       "      <th>2314011</th>\n",
       "      <td>0</td>\n",
       "      <td>0</td>\n",
       "      <td>0</td>\n",
       "      <td>0</td>\n",
       "      <td>0</td>\n",
       "      <td>0</td>\n",
       "      <td>0</td>\n",
       "      <td>0</td>\n",
       "      <td>1</td>\n",
       "      <td>17</td>\n",
       "      <td>0</td>\n",
       "      <td>0</td>\n",
       "      <td>0</td>\n",
       "    </tr>\n",
       "    <tr>\n",
       "      <th>2587254</th>\n",
       "      <td>0</td>\n",
       "      <td>0</td>\n",
       "      <td>37</td>\n",
       "      <td>0</td>\n",
       "      <td>0</td>\n",
       "      <td>0</td>\n",
       "      <td>0</td>\n",
       "      <td>0</td>\n",
       "      <td>0</td>\n",
       "      <td>0</td>\n",
       "      <td>29</td>\n",
       "      <td>0</td>\n",
       "      <td>0</td>\n",
       "    </tr>\n",
       "    <tr>\n",
       "      <th>2862338</th>\n",
       "      <td>0</td>\n",
       "      <td>0</td>\n",
       "      <td>0</td>\n",
       "      <td>0</td>\n",
       "      <td>18</td>\n",
       "      <td>0</td>\n",
       "      <td>0</td>\n",
       "      <td>1</td>\n",
       "      <td>0</td>\n",
       "      <td>1</td>\n",
       "      <td>0</td>\n",
       "      <td>0</td>\n",
       "      <td>0</td>\n",
       "    </tr>\n",
       "    <tr>\n",
       "      <th>3305548</th>\n",
       "      <td>0</td>\n",
       "      <td>0</td>\n",
       "      <td>0</td>\n",
       "      <td>0</td>\n",
       "      <td>0</td>\n",
       "      <td>2</td>\n",
       "      <td>0</td>\n",
       "      <td>5</td>\n",
       "      <td>0</td>\n",
       "      <td>4</td>\n",
       "      <td>0</td>\n",
       "      <td>0</td>\n",
       "      <td>0</td>\n",
       "    </tr>\n",
       "    <tr>\n",
       "      <th>4161674</th>\n",
       "      <td>0</td>\n",
       "      <td>0</td>\n",
       "      <td>0</td>\n",
       "      <td>0</td>\n",
       "      <td>0</td>\n",
       "      <td>2</td>\n",
       "      <td>0</td>\n",
       "      <td>12</td>\n",
       "      <td>0</td>\n",
       "      <td>6</td>\n",
       "      <td>0</td>\n",
       "      <td>0</td>\n",
       "      <td>0</td>\n",
       "    </tr>\n",
       "  </tbody>\n",
       "</table>\n",
       "</div>"
      ],
      "text/plain": [
       "col_0    0   1   2   3   4   5   6   7   8   9   10  11  12\n",
       "id                                                         \n",
       "670684    1   0   0   0   0   0   0   2   0  14   0   0   0\n",
       "780903    0   0   0  14   0   0  25  11   0   3   0   0   0\n",
       "1474573   0   0   0   0   0   1   0   6   0  12   0   0   0\n",
       "1516660   0   0   0   0   0   0   0   0   0   1   0  29   0\n",
       "1593902   2   0   0   0   0   1   1   7   0  10   0   0   1\n",
       "1889734   0   0   0   0   0   4   0  21   0   0   0   0   7\n",
       "2128831   0   0   0   0   0   4   0   4   1  13   0   0   0\n",
       "2155904   0  39   0   0   0   0   0   0   0   1   0   0   0\n",
       "2314011   0   0   0   0   0   0   0   0   1  17   0   0   0\n",
       "2587254   0   0  37   0   0   0   0   0   0   0  29   0   0\n",
       "2862338   0   0   0   0  18   0   0   1   0   1   0   0   0\n",
       "3305548   0   0   0   0   0   2   0   5   0   4   0   0   0\n",
       "4161674   0   0   0   0   0   2   0  12   0   6   0   0   0"
      ]
     },
     "execution_count": 33,
     "metadata": {},
     "output_type": "execute_result"
    }
   ],
   "source": [
    "# Initialize and fit K-Means\n",
    "tfidf_full_pred = KMeans(n_clusters=13, random_state=42).fit_predict(tfidf_train_out)\n",
    "\n",
    "# Check actual vs predicted\n",
    "pd.crosstab(Y_train, tfidf_full_pred)"
   ]
  },
  {
   "cell_type": "code",
   "execution_count": 34,
   "metadata": {},
   "outputs": [
    {
     "name": "stdout",
     "output_type": "stream",
     "text": [
      "ARI for K-Means tf-idf is: 0.41365769587875706\n"
     ]
    }
   ],
   "source": [
    "tfidf_kmeans_ari = metrics.adjusted_rand_score(Y_train, tfidf_full_pred)\n",
    "\n",
    "print('ARI for K-Means tf-idf is: ' + str(tfidf_kmeans_ari))"
   ]
  },
  {
   "cell_type": "markdown",
   "metadata": {},
   "source": [
    "K-Means tf-idf performs considerably better than BoW and has fewer ambiguous columns."
   ]
  },
  {
   "cell_type": "markdown",
   "metadata": {},
   "source": [
    "#### Mean-Shift"
   ]
  },
  {
   "cell_type": "markdown",
   "metadata": {},
   "source": [
    "Although Mean-Shift is not commonly used for NLP and is more often used for image processing, it is a clustering method that does not require a target number of clusters so will be tested to see if it can correctly predict number of clusters and the clusters themselves."
   ]
  },
  {
   "cell_type": "code",
   "execution_count": 35,
   "metadata": {},
   "outputs": [],
   "source": [
    "from sklearn.cluster import MeanShift, estimate_bandwidth"
   ]
  },
  {
   "cell_type": "code",
   "execution_count": 36,
   "metadata": {},
   "outputs": [
    {
     "name": "stdout",
     "output_type": "stream",
     "text": [
      "BoW Mean-Shift:\n",
      "Estimated bandwidth: 0.547011970119852\n",
      "Number of estimated clusters: 5\n"
     ]
    }
   ],
   "source": [
    "print(\"BoW Mean-Shift:\")\n",
    "\n",
    "# Estimate bandwidth based on data\n",
    "bandwidth = estimate_bandwidth(bow_train_out.toarray(), quantile=0.5,\n",
    "                               n_samples=100, n_jobs=-1, random_state=42)\n",
    "\n",
    "print(\"Estimated bandwidth: {}\".format(bandwidth))\n",
    "\n",
    "# Initialize and fit model\n",
    "ms = MeanShift(bandwidth=bandwidth, bin_seeding=True, n_jobs=-1)\n",
    "ms.fit(bow_train_out.toarray())\n",
    "\n",
    "# Extract cluster assignments for each data point\n",
    "labels = ms.labels_\n",
    "\n",
    "# Count our clusters\n",
    "n_clusters_ = len(np.unique(labels))\n",
    "\n",
    "print(\"Number of estimated clusters: {}\".format(n_clusters_))\n",
    "\n",
    "# Predict clusters\n",
    "bow_full_pred = ms.predict(bow_train_out.toarray())"
   ]
  },
  {
   "cell_type": "code",
   "execution_count": 37,
   "metadata": {},
   "outputs": [
    {
     "name": "stdout",
     "output_type": "stream",
     "text": [
      "ARI for Mean-Shift BoW is: 0.0016178059129852553\n"
     ]
    }
   ],
   "source": [
    "# Check actual vs predicted\n",
    "pd.crosstab(Y_train, bow_full_pred)\n",
    "\n",
    "bow_mean_shift_ari = metrics.adjusted_rand_score(Y_train, bow_full_pred)\n",
    "\n",
    "print('ARI for Mean-Shift BoW is: ' + str(bow_mean_shift_ari))"
   ]
  },
  {
   "cell_type": "markdown",
   "metadata": {},
   "source": [
    "Mean-shift BoW does not perform well. Since the predicted bandwidth only yields 5 estimated clusters, this is not surprising."
   ]
  },
  {
   "cell_type": "code",
   "execution_count": 38,
   "metadata": {},
   "outputs": [
    {
     "name": "stdout",
     "output_type": "stream",
     "text": [
      "tf-idf Mean-Shift:\n",
      "Estimated bandwidth: 1.3605898798037976\n",
      "Number of estimated clusters: 1\n"
     ]
    }
   ],
   "source": [
    "print(\"tf-idf Mean-Shift:\")\n",
    "\n",
    "# Estimate bandwidth based on data\n",
    "bandwidth = estimate_bandwidth(tfidf_train_out.toarray(), quantile=0.5,\n",
    "                               n_samples=100, n_jobs=-1, random_state=42)\n",
    "\n",
    "print(\"Estimated bandwidth: {}\".format(bandwidth))\n",
    "# Initialize and fit model\n",
    "ms = MeanShift(bandwidth=bandwidth, bin_seeding=True, n_jobs=-1)\n",
    "ms.fit(tfidf_train_out.toarray())\n",
    "\n",
    "# Extract cluster assignments for each data point\n",
    "labels = ms.labels_\n",
    "\n",
    "# Coordinates of the cluster centers\n",
    "cluster_centers = ms.cluster_centers_\n",
    "\n",
    "# Count our clusters.\n",
    "n_clusters_ = len(np.unique(labels))\n",
    "\n",
    "print(\"Number of estimated clusters: {}\".format(n_clusters_))\n",
    "\n",
    "# Predict clusters\n",
    "tfidf_full_pred = ms.predict(tfidf_train_out.toarray())"
   ]
  },
  {
   "cell_type": "markdown",
   "metadata": {},
   "source": [
    "The estimated bandwidth for tf-idf does not yield any distinct clusters so explicitly setting bandwidth is necessary."
   ]
  },
  {
   "cell_type": "code",
   "execution_count": 39,
   "metadata": {},
   "outputs": [
    {
     "name": "stdout",
     "output_type": "stream",
     "text": [
      "tf-idf Mean-Shift:\n",
      "Number of estimated clusters: 370\n"
     ]
    }
   ],
   "source": [
    "print(\"tf-idf Mean-Shift:\")\n",
    "\n",
    "# Initialize and fit model\n",
    "ms = MeanShift(bandwidth=0.175, bin_seeding=True, n_jobs=-1)\n",
    "ms.fit(tfidf_train_out.toarray())\n",
    "\n",
    "# Extract cluster assignments for each data point\n",
    "labels = ms.labels_\n",
    "\n",
    "# Coordinates of the cluster centers\n",
    "cluster_centers = ms.cluster_centers_\n",
    "\n",
    "# Count our clusters.\n",
    "n_clusters_ = len(np.unique(labels))\n",
    "\n",
    "print(\"Number of estimated clusters: {}\".format(n_clusters_))\n",
    "\n",
    "# Predict clusters\n",
    "tfidf_full_pred = ms.predict(tfidf_train_out.toarray())"
   ]
  },
  {
   "cell_type": "markdown",
   "metadata": {},
   "source": [
    "Explicitly setting bandwidth to 0.175 generates 370 clusters = total number of points so it does not seem like Mean-Shift works for tf-idf in this scenario."
   ]
  },
  {
   "cell_type": "markdown",
   "metadata": {},
   "source": [
    "#### Spectral Clustering"
   ]
  },
  {
   "cell_type": "code",
   "execution_count": 40,
   "metadata": {},
   "outputs": [],
   "source": [
    "from sklearn.cluster import SpectralClustering\n",
    "\n",
    "# Declare and fit the model\n",
    "sc = SpectralClustering(n_clusters=13, random_state=42, n_jobs=-1)\n",
    "sc.fit(bow_train_out)\n",
    "\n",
    "#Predict clusters\n",
    "bow_full_pred = sc.fit_predict(bow_train_out)"
   ]
  },
  {
   "cell_type": "code",
   "execution_count": 41,
   "metadata": {},
   "outputs": [
    {
     "name": "stdout",
     "output_type": "stream",
     "text": [
      "col_0    0   1   2   3   4   5   6   7   8   9   10  11  12\n",
      "id                                                         \n",
      "670684    0   0   0   0   0   0   0   1   0  13   0   3   0\n",
      "780903    0   0   1   0   0  15   0   2   1  15   0  19   0\n",
      "1474573   0   4   0   0   0   0   0   0   0  13   0   2   0\n",
      "1516660   0   1   0   0   0   0   0   0   0   1  28   0   0\n",
      "1593902   0  12   0   2   0   0   0   2   0   4   0   1   1\n",
      "1889734   0   9   0   0   0   0   0   2   0  15   0   6   0\n",
      "2128831   0  15   0   0   0   0   0   2   0   5   0   0   0\n",
      "2155904  37   0   0   0   0   0   0   0   0   2   0   1   0\n",
      "2314011   0   1   0   0   0   0   0   0   0  15   0   2   0\n",
      "2587254   0   3   0   0  34   0  11   0   2   0   0   0  16\n",
      "2862338   0   2  16   0   0   0   0   0   2   0   0   0   0\n",
      "3305548   0   9   0   0   0   0   0   2   0   0   0   0   0\n",
      "4161674   0  11   0   0   0   0   0   5   0   3   0   1   0\n",
      "ARI for Spectral Clustering BoW is: 0.32166307042238124\n"
     ]
    }
   ],
   "source": [
    "# Check actual vs predicted\n",
    "print(pd.crosstab(Y_train,bow_full_pred))\n",
    "\n",
    "bow_sc_ari = metrics.adjusted_rand_score(Y_train, bow_full_pred)\n",
    "\n",
    "print('ARI for Spectral Clustering BoW is: ' + str(bow_sc_ari))"
   ]
  },
  {
   "cell_type": "markdown",
   "metadata": {},
   "source": [
    "Spectral clustering BoW performs slightly better than K-Means with an ARI of 0.32 vs. 0.28."
   ]
  },
  {
   "cell_type": "code",
   "execution_count": 42,
   "metadata": {},
   "outputs": [],
   "source": [
    "# Declare and fit the model\n",
    "sc = SpectralClustering(n_clusters=13, random_state=42, n_jobs=-1)\n",
    "sc.fit(tfidf_train_out)\n",
    "\n",
    "#Predict clusters\n",
    "tfidf_full_pred = sc.fit_predict(tfidf_train_out)"
   ]
  },
  {
   "cell_type": "code",
   "execution_count": 43,
   "metadata": {},
   "outputs": [
    {
     "name": "stdout",
     "output_type": "stream",
     "text": [
      "col_0    0   1   2   3   4   5   6   7   8   9   10  11  12\n",
      "id                                                         \n",
      "670684    6   0   0   0   0   0   0   9   0   1   1   0   0\n",
      "780903    2   0  42   0   0   0   0   1   0   2   0   5   1\n",
      "1474573   1   0   0   0   0   0   0  16   0   0   1   0   1\n",
      "1516660   1   0   0  29   0   0   0   0   0   0   0   0   0\n",
      "1593902   0   0   0   0   0   0   0  17   0   3   1   0   1\n",
      "1889734   2   0   0   0   0   0   0   1   0   8  18   0   3\n",
      "2128831   0   0   0   0   0   0   0  19   0   0   2   0   1\n",
      "2155904   2  18   0   0   0   0  19   1   0   0   0   0   0\n",
      "2314011  15   0   0   0   0   0   0   1   0   2   0   0   0\n",
      "2587254   0   0   0   0   0  28   0   0  38   0   0   0   0\n",
      "2862338   0   0   0   0  18   0   0   2   0   0   0   0   0\n",
      "3305548   0   0   0   0   0   0   0   1   0   1   1   1   7\n",
      "4161674   1   0   0   0   0   0   0   8   0   0   0   0  11\n",
      "ARI for Spectral Clustering tf-idf is: 0.5047809143315318\n"
     ]
    }
   ],
   "source": [
    "# Check actual vs predicted\n",
    "print(pd.crosstab(Y_train,tfidf_full_pred))\n",
    "\n",
    "tfidf_sc_ari = metrics.adjusted_rand_score(Y_train, tfidf_full_pred)\n",
    "\n",
    "print('ARI for Spectral Clustering tf-idf is: ' + str(tfidf_sc_ari))"
   ]
  },
  {
   "cell_type": "markdown",
   "metadata": {},
   "source": [
    "Spectral clustering tf-idf performs considerably better than BoW and surpasses K-Means tf-idf with an ARI of 0.50 vs. 0.41."
   ]
  },
  {
   "cell_type": "markdown",
   "metadata": {},
   "source": [
    "#### Clustering Comparison"
   ]
  },
  {
   "cell_type": "code",
   "execution_count": 44,
   "metadata": {},
   "outputs": [
    {
     "data": {
      "image/png": "[encoded data removed]",
      "text/plain": [
       "<Figure size 432x288 with 1 Axes>"
      ]
     },
     "metadata": {},
     "output_type": "display_data"
    }
   ],
   "source": [
    "x = np.arange(3)\n",
    "labels = [ 'K-Means', 'Mean-Shift', 'Spectral Clustering']\n",
    "bow_data = [ bow_kmeans_ari, bow_mean_shift_ari, bow_sc_ari]\n",
    "tfidf_data = [ tfidf_kmeans_ari, 0, tfidf_sc_ari]\n",
    "\n",
    "fig, ax = plt.subplots()\n",
    "bar_width = 0.35\n",
    "\n",
    "rects1 = ax.bar(x - bar_width/2, bow_data, bar_width, label='BoW')\n",
    "rects2 = ax.bar(x + bar_width/2, tfidf_data, bar_width, label='tf-idf')\n",
    "\n",
    "ax.set_title('Clustering ARI Comparison')\n",
    "ax.set_xlabel('Clustering Method')\n",
    "ax.set_xticks(x)\n",
    "ax.set_xticklabels(labels)\n",
    "ax.set_ylabel('Adj. Rand Index')\n",
    "ax.legend(loc=9)\n",
    "plt.show()"
   ]
  },
  {
   "cell_type": "markdown",
   "metadata": {},
   "source": [
    "Spectral Clustering performed best among these clustering methods, followed by K-Means. Mean-Shift was not viable and could not correctly predict the number of clusters. In terms of vectorization method, tf-idf outperformed BoW."
   ]
  },
  {
   "cell_type": "markdown",
   "metadata": {},
   "source": [
    "## Unsupervised Feature Generation"
   ]
  },
  {
   "cell_type": "markdown",
   "metadata": {},
   "source": [
    "Two methods will be used to reduce dimensionality: truncated SVD and PCA. An 80% threshold will be used to determine number of components to be used. This level was chosen to balance lower number of components with relatively high variance explained. Less components might be viable but would be at a trade off against variance explained and vice versa.\n",
    "\n",
    "Two component SVD and PCA will also be calculated for later possible use in visualization but will not be used directly in any models."
   ]
  },
  {
   "cell_type": "markdown",
   "metadata": {},
   "source": [
    "#### Reduce dimensionality using truncated SVD"
   ]
  },
  {
   "cell_type": "code",
   "execution_count": 45,
   "metadata": {},
   "outputs": [],
   "source": [
    "from sklearn.decomposition import TruncatedSVD"
   ]
  },
  {
   "cell_type": "code",
   "execution_count": 46,
   "metadata": {},
   "outputs": [
    {
     "name": "stdout",
     "output_type": "stream",
     "text": [
      "Percent variance of BoW training set captured by all components: 80.52443577044083\n"
     ]
    }
   ],
   "source": [
    "bow_svd = TruncatedSVD(100).fit(bow_train_out)\n",
    "lsa_bow_train = bow_svd.transform(bow_train_out)\n",
    "lsa_bow_test = bow_svd.transform(bow_test_out)\n",
    "\n",
    "variance_explained = bow_svd.explained_variance_ratio_\n",
    "total_variance = variance_explained.sum()\n",
    "print(\"Percent variance of BoW training set captured by all components:\",total_variance*100)"
   ]
  },
  {
   "cell_type": "markdown",
   "metadata": {},
   "source": [
    "Using k=100 yields a BoW training set SVD percent variance explained of 80.5%."
   ]
  },
  {
   "cell_type": "code",
   "execution_count": 47,
   "metadata": {},
   "outputs": [
    {
     "name": "stdout",
     "output_type": "stream",
     "text": [
      "Percent variance tf-idf training captured by all components: 80.8198554505519\n"
     ]
    }
   ],
   "source": [
    "tfidf_svd= TruncatedSVD(270).fit(tfidf_train_out)\n",
    "lsa_tfidf_train = tfidf_svd.transform(tfidf_train_out)\n",
    "lsa_tfidf_test = tfidf_svd.transform(tfidf_test_out)\n",
    "\n",
    "variance_explained=tfidf_svd.explained_variance_ratio_\n",
    "total_variance = variance_explained.sum()\n",
    "print(\"Percent variance tf-idf training captured by all components:\",total_variance*100)"
   ]
  },
  {
   "cell_type": "markdown",
   "metadata": {},
   "source": [
    "Using k=270 yields a tf-idf training set SVD percent variance explained of 80.8%."
   ]
  },
  {
   "cell_type": "markdown",
   "metadata": {},
   "source": [
    "#### Reduce dimensionality using PCA"
   ]
  },
  {
   "cell_type": "code",
   "execution_count": 48,
   "metadata": {},
   "outputs": [],
   "source": [
    "from sklearn.decomposition import PCA\n",
    "from regressors import plots"
   ]
  },
  {
   "cell_type": "code",
   "execution_count": 49,
   "metadata": {},
   "outputs": [
    {
     "data": {
      "image/png": "[encoded data removed]",
      "text/plain": [
       "<Figure size 720x360 with 2 Axes>"
      ]
     },
     "metadata": {},
     "output_type": "display_data"
    }
   ],
   "source": [
    "pca_bow = PCA(n_components=100).fit(bow_train_out.toarray())\n",
    "plots.plot_scree(pca_bow, required_var=0.8)\n",
    "pca_bow_train = pca_bow.transform(bow_train_out.toarray())\n",
    "pca_bow_test = pca_bow.transform(bow_test_out.toarray())"
   ]
  },
  {
   "cell_type": "markdown",
   "metadata": {},
   "source": [
    "The 80% variance explained level can be reached using 97 principal components for the BoW training set. This is similar to the 100 components needed for SVD."
   ]
  },
  {
   "cell_type": "code",
   "execution_count": 50,
   "metadata": {},
   "outputs": [
    {
     "data": {
      "image/png": "[encoded data removed]",
      "text/plain": [
       "<Figure size 720x360 with 2 Axes>"
      ]
     },
     "metadata": {},
     "output_type": "display_data"
    }
   ],
   "source": [
    "pca_tfidf = PCA(n_components=275).fit(tfidf_train_out.toarray())\n",
    "plots.plot_scree(pca_tfidf, required_var=0.8)\n",
    "pca_tfidf_train = pca_tfidf.transform(tfidf_train_out.toarray())\n",
    "pca_tfidf_test = pca_tfidf.transform(tfidf_test_out.toarray())"
   ]
  },
  {
   "cell_type": "markdown",
   "metadata": {},
   "source": [
    "The 80% variance explained level can be reached using 266 principal components for the tf-idf training set. This is similar to the 270 components needed for SVD."
   ]
  },
  {
   "cell_type": "markdown",
   "metadata": {},
   "source": [
    "#### Apply Two-Component PCA for Later Visualization"
   ]
  },
  {
   "cell_type": "markdown",
   "metadata": {},
   "source": [
    "Even though PCA and LSA can vastly reduce number of dimensions without losing too much information, visualizing on even five components, much less 100, is difficult. For visualization purposes only, a two component PCA transformation will be used to generate scatter plots for comparison. The larger PCA sets will still be used when applying supervised learning models upon the data, however."
   ]
  },
  {
   "cell_type": "code",
   "execution_count": 51,
   "metadata": {},
   "outputs": [],
   "source": [
    "pca_bow2 = PCA(n_components=2).fit(bow_train_out.toarray())\n",
    "pca_bow_train2 = pca_bow2.transform(bow_train_out.toarray())\n",
    "pca_bow_test2 = pca_bow2.transform(bow_test_out.toarray())\n",
    "\n",
    "pca_tfidf2 = PCA(n_components=2).fit(tfidf_train_out.toarray())\n",
    "pca_tfidf_train2 = pca_tfidf2.transform(tfidf_train_out.toarray())\n",
    "pca_tfidf_test2 = pca_tfidf2.transform(tfidf_test_out.toarray())"
   ]
  },
  {
   "cell_type": "code",
   "execution_count": 52,
   "metadata": {},
   "outputs": [
    {
     "data": {
      "image/png": "[encoded data removed]",
      "text/plain": [
       "<Figure size 1296x360 with 2 Axes>"
      ]
     },
     "metadata": {},
     "output_type": "display_data"
    }
   ],
   "source": [
    "pca2_chart = pd.DataFrame()\n",
    "pca2_chart['bow_pca1'] = pca_bow_train2[:,0]\n",
    "pca2_chart['bow_pca2'] = pca_bow_train2[:,1]\n",
    "pca2_chart['tfidf_pca1'] = pca_tfidf_train2[:,0]\n",
    "pca2_chart['tfidf_pca2'] = pca_tfidf_train2[:,1]\n",
    "pca2_chart['id'] = Y_train.values\n",
    "\n",
    "f, axes = plt.subplots(1, 2, figsize=(18,5), sharex=False)\n",
    "sns.despine(left=True)\n",
    "\n",
    "sns.scatterplot(x='bow_pca1', y='bow_pca2', hue='id', data=pca2_chart, palette='BrBG',\n",
    "                legend=None, ax=axes[0]).set_title('PCA (2): Bag of Words')\n",
    "sns.scatterplot(x='tfidf_pca1', y='tfidf_pca2', hue='id', data=pca2_chart, palette='BrBG',\n",
    "                legend=None, ax=axes[1]).set_title('PCA (2): tf-idf')\n",
    "plt.show()"
   ]
  },
  {
   "cell_type": "markdown",
   "metadata": {},
   "source": [
    "Two component-PCA does not consistently separate data for either BoW or tf-idf but both do show some distinct clusters. Notably, tf-idf has four separate clusters with all other data relatively mixed. BoW seems more mixed but does isolate out one fairly large cluster."
   ]
  },
  {
   "cell_type": "markdown",
   "metadata": {},
   "source": [
    "#### Conclusion"
   ]
  },
  {
   "cell_type": "markdown",
   "metadata": {},
   "source": [
    "Since tf-idf benefits from retaining sparsity, latent semantic analysis (LSA) via truncated SVD will be used for testing the dimensionally reduced set. For contrast, PCA will be used for BoW."
   ]
  },
  {
   "cell_type": "markdown",
   "metadata": {},
   "source": [
    "## Supervised Learning Models"
   ]
  },
  {
   "cell_type": "markdown",
   "metadata": {},
   "source": [
    "Three types of supervised learning models will be compared: Random Forest, Linear SVC and Gradient Boosting. First, each model will be run using the full set of training data. Next, each model will be re-run using dimensionally reduced data, using PCA for BoW and LSA for tf-idf."
   ]
  },
  {
   "cell_type": "markdown",
   "metadata": {},
   "source": [
    "#### Random Forest"
   ]
  },
  {
   "cell_type": "code",
   "execution_count": 53,
   "metadata": {},
   "outputs": [
    {
     "name": "stdout",
     "output_type": "stream",
     "text": [
      "BoW Random Forest:\n",
      "              precision    recall  f1-score   support\n",
      "\n",
      "      780903       1.00      0.60      0.75         5\n",
      "     3305548       0.51      1.00      0.68        19\n",
      "     2155904       0.00      0.00      0.00         3\n",
      "     1474573       1.00      1.00      1.00         5\n",
      "     4161674       0.50      0.33      0.40         3\n",
      "     2314011       0.54      0.70      0.61        10\n",
      "     1889734       0.71      0.50      0.59        10\n",
      "      670684       1.00      1.00      1.00         9\n",
      "     1593902       1.00      0.60      0.75         5\n",
      "     2128831       0.97      1.00      0.99        33\n",
      "     1516660       1.00      1.00      1.00         6\n",
      "     2862338       1.00      0.08      0.15        12\n",
      "     2587254       0.33      0.25      0.29         4\n",
      "\n",
      "    accuracy                           0.75       124\n",
      "   macro avg       0.74      0.62      0.63       124\n",
      "weighted avg       0.80      0.75      0.72       124\n",
      "\n",
      "tf-idf Random Forest:\n",
      "              precision    recall  f1-score   support\n",
      "\n",
      "      780903       1.00      0.40      0.57         5\n",
      "     3305548       0.60      0.95      0.73        19\n",
      "     2155904       1.00      0.33      0.50         3\n",
      "     1474573       1.00      1.00      1.00         5\n",
      "     4161674       0.00      0.00      0.00         3\n",
      "     2314011       0.50      0.90      0.64        10\n",
      "     1889734       0.86      0.60      0.71        10\n",
      "      670684       0.90      1.00      0.95         9\n",
      "     1593902       1.00      0.60      0.75         5\n",
      "     2128831       0.94      1.00      0.97        33\n",
      "     1516660       1.00      0.83      0.91         6\n",
      "     2862338       1.00      0.42      0.59        12\n",
      "     2587254       1.00      0.50      0.67         4\n",
      "\n",
      "    accuracy                           0.79       124\n",
      "   macro avg       0.83      0.66      0.69       124\n",
      "weighted avg       0.84      0.79      0.78       124\n",
      "\n"
     ]
    }
   ],
   "source": [
    "from sklearn import ensemble\n",
    "from sklearn.metrics import classification_report, f1_score\n",
    "\n",
    "print('BoW Random Forest:')\n",
    "bow_rfc = ensemble.RandomForestClassifier(n_estimators=100)\n",
    "bow_rfc_train = bow_rfc.fit(bow_train_out, Y_train)\n",
    "\n",
    "Y_pred = bow_rfc.predict(bow_test_out)\n",
    "print(classification_report(Y_test, Y_pred, target_names=blogger_ids))\n",
    "bow_rfc_test_score = metrics.f1_score(Y_test, Y_pred, average='weighted')\n",
    "\n",
    "print('tf-idf Random Forest:')\n",
    "tfidf_rfc = ensemble.RandomForestClassifier(n_estimators=100)\n",
    "tfidf_rfc_train = tfidf_rfc.fit(tfidf_train_out, Y_train)\n",
    "\n",
    "Y_pred = tfidf_rfc.predict(tfidf_test_out)\n",
    "print(classification_report(Y_test, Y_pred, target_names=blogger_ids))\n",
    "tfidf_rfc_test_score = metrics.f1_score(Y_test, Y_pred, average='weighted')"
   ]
  },
  {
   "cell_type": "markdown",
   "metadata": {},
   "source": [
    "Accuracy and F1 scores are about the same for both BoW and tf-idf Random Forest with accuracy between 0.76-0.77 and weighted F1 scores of 0.73. However, two authors have no correctly identified posts for Random Forest and one author for tf-idf."
   ]
  },
  {
   "cell_type": "code",
   "execution_count": 54,
   "metadata": {},
   "outputs": [
    {
     "name": "stdout",
     "output_type": "stream",
     "text": [
      "BoW Random Forest (PCA):\n",
      "              precision    recall  f1-score   support\n",
      "\n",
      "      780903       1.00      0.80      0.89         5\n",
      "     3305548       0.73      0.84      0.78        19\n",
      "     2155904       0.00      0.00      0.00         3\n",
      "     1474573       0.83      1.00      0.91         5\n",
      "     4161674       0.50      1.00      0.67         3\n",
      "     2314011       0.83      0.50      0.62        10\n",
      "     1889734       0.70      0.70      0.70        10\n",
      "      670684       0.90      1.00      0.95         9\n",
      "     1593902       0.67      0.80      0.73         5\n",
      "     2128831       0.89      1.00      0.94        33\n",
      "     1516660       0.86      1.00      0.92         6\n",
      "     2862338       1.00      0.42      0.59        12\n",
      "     2587254       0.67      0.50      0.57         4\n",
      "\n",
      "    accuracy                           0.80       124\n",
      "   macro avg       0.74      0.74      0.71       124\n",
      "weighted avg       0.81      0.80      0.78       124\n",
      "\n",
      "tf-idf Random Forest (LSA):\n",
      "              precision    recall  f1-score   support\n",
      "\n",
      "      780903       0.57      0.80      0.67         5\n",
      "     3305548       0.84      0.84      0.84        19\n",
      "     2155904       0.00      0.00      0.00         3\n",
      "     1474573       0.71      1.00      0.83         5\n",
      "     4161674       0.50      0.33      0.40         3\n",
      "     2314011       0.75      0.60      0.67        10\n",
      "     1889734       0.42      0.80      0.55        10\n",
      "      670684       0.82      1.00      0.90         9\n",
      "     1593902       1.00      0.60      0.75         5\n",
      "     2128831       0.97      1.00      0.99        33\n",
      "     1516660       0.71      0.83      0.77         6\n",
      "     2862338       0.00      0.00      0.00        12\n",
      "     2587254       0.14      0.25      0.18         4\n",
      "\n",
      "    accuracy                           0.73       124\n",
      "   macro avg       0.57      0.62      0.58       124\n",
      "weighted avg       0.68      0.73      0.70       124\n",
      "\n"
     ]
    }
   ],
   "source": [
    "print('BoW Random Forest (PCA):')\n",
    "bow_rfc = ensemble.RandomForestClassifier(n_estimators=100)\n",
    "bow_rfc_train = bow_rfc.fit(pca_bow_train, Y_train)\n",
    "\n",
    "Y_pred = bow_rfc.predict(pca_bow_test)\n",
    "print(classification_report(Y_test, Y_pred, target_names=blogger_ids))\n",
    "bow_rfc_test_score_pca = metrics.f1_score(Y_test, Y_pred, average='weighted')\n",
    "\n",
    "print('tf-idf Random Forest (LSA):')\n",
    "tfidf_rfc = ensemble.RandomForestClassifier(n_estimators=100)\n",
    "tfidf_rfc_train = tfidf_rfc.fit(lsa_tfidf_train, Y_train)\n",
    "\n",
    "Y_pred = tfidf_rfc.predict(lsa_tfidf_test)\n",
    "print(classification_report(Y_test, Y_pred, target_names=blogger_ids))\n",
    "tfidf_rfc_test_score_lsa = metrics.f1_score(Y_test, Y_pred, average='weighted')"
   ]
  },
  {
   "cell_type": "markdown",
   "metadata": {},
   "source": [
    "When switching to the dimensionally reduced sets, BoW w/ PCA performs considerably better than tf-idf w/ LSA and slightly better than using the original data."
   ]
  },
  {
   "cell_type": "markdown",
   "metadata": {},
   "source": [
    "#### Linear SVC"
   ]
  },
  {
   "cell_type": "code",
   "execution_count": 55,
   "metadata": {},
   "outputs": [
    {
     "name": "stdout",
     "output_type": "stream",
     "text": [
      "BoW Linear SVC:\n",
      "              precision    recall  f1-score   support\n",
      "\n",
      "      780903       1.00      0.60      0.75         5\n",
      "     3305548       0.70      1.00      0.83        19\n",
      "     2155904       0.00      0.00      0.00         3\n",
      "     1474573       0.71      1.00      0.83         5\n",
      "     4161674       1.00      0.67      0.80         3\n",
      "     2314011       0.89      0.80      0.84        10\n",
      "     1889734       0.80      0.80      0.80        10\n",
      "      670684       1.00      1.00      1.00         9\n",
      "     1593902       1.00      0.60      0.75         5\n",
      "     2128831       0.97      1.00      0.99        33\n",
      "     1516660       0.60      1.00      0.75         6\n",
      "     2862338       1.00      0.50      0.67        12\n",
      "     2587254       0.75      0.75      0.75         4\n",
      "\n",
      "    accuracy                           0.85       124\n",
      "   macro avg       0.80      0.75      0.75       124\n",
      "weighted avg       0.86      0.85      0.83       124\n",
      "\n",
      "tf-idf Linear SVC:\n",
      "              precision    recall  f1-score   support\n",
      "\n",
      "      780903       1.00      0.80      0.89         5\n",
      "     3305548       0.83      1.00      0.90        19\n",
      "     2155904       1.00      1.00      1.00         3\n",
      "     1474573       1.00      1.00      1.00         5\n",
      "     4161674       0.75      1.00      0.86         3\n",
      "     2314011       0.82      0.90      0.86        10\n",
      "     1889734       1.00      0.70      0.82        10\n",
      "      670684       1.00      1.00      1.00         9\n",
      "     1593902       1.00      0.80      0.89         5\n",
      "     2128831       1.00      1.00      1.00        33\n",
      "     1516660       1.00      1.00      1.00         6\n",
      "     2862338       1.00      0.83      0.91        12\n",
      "     2587254       0.60      0.75      0.67         4\n",
      "\n",
      "    accuracy                           0.93       124\n",
      "   macro avg       0.92      0.91      0.91       124\n",
      "weighted avg       0.94      0.93      0.93       124\n",
      "\n"
     ]
    }
   ],
   "source": [
    "from sklearn.svm import LinearSVC\n",
    "\n",
    "print('BoW Linear SVC:')\n",
    "bow_svc = LinearSVC()\n",
    "bow_svc_train = bow_svc.fit(bow_train_out, Y_train)\n",
    "\n",
    "Y_pred = bow_svc.predict(bow_test_out)\n",
    "print(classification_report(Y_test, Y_pred, target_names=blogger_ids))\n",
    "bow_svc_test_score = metrics.f1_score(Y_test, Y_pred, average='weighted')\n",
    "\n",
    "print('tf-idf Linear SVC:')\n",
    "tfidf_svc = LinearSVC()\n",
    "tfidf_svc_train = tfidf_svc.fit(tfidf_train_out, Y_train)\n",
    "\n",
    "Y_pred = tfidf_svc.predict(tfidf_test_out)\n",
    "print(classification_report(Y_test, Y_pred, target_names=blogger_ids))\n",
    "tfidf_svc_test_score = metrics.f1_score(Y_test, Y_pred, average='weighted')"
   ]
  },
  {
   "cell_type": "markdown",
   "metadata": {},
   "source": [
    "Although Linear SVC performs well for BoW with accuracy of 0.85 and weighted F1 score of 0.83, it performs even better with tf-idf with accuracy of 0.93 and F1 score of 0.83. Precision and recall was at least 0.60 for all authors for tf-idf, while there was one author for the BoW model that had no correctly identified posts and another and five authors with recall < 0.7."
   ]
  },
  {
   "cell_type": "code",
   "execution_count": 56,
   "metadata": {},
   "outputs": [
    {
     "name": "stdout",
     "output_type": "stream",
     "text": [
      "BoW Linear SVC (PCA):\n",
      "              precision    recall  f1-score   support\n",
      "\n",
      "      780903       1.00      0.40      0.57         5\n",
      "     3305548       0.70      1.00      0.83        19\n",
      "     2155904       0.00      0.00      0.00         3\n",
      "     1474573       0.71      1.00      0.83         5\n",
      "     4161674       0.67      0.67      0.67         3\n",
      "     2314011       0.80      0.80      0.80        10\n",
      "     1889734       0.80      0.80      0.80        10\n",
      "      670684       1.00      1.00      1.00         9\n",
      "     1593902       1.00      0.40      0.57         5\n",
      "     2128831       0.97      1.00      0.99        33\n",
      "     1516660       0.60      1.00      0.75         6\n",
      "     2862338       1.00      0.50      0.67        12\n",
      "     2587254       0.75      0.75      0.75         4\n",
      "\n",
      "    accuracy                           0.83       124\n",
      "   macro avg       0.77      0.72      0.71       124\n",
      "weighted avg       0.84      0.83      0.81       124\n",
      "\n",
      "tf-idf Linear SVC (LSA):\n",
      "              precision    recall  f1-score   support\n",
      "\n",
      "      780903       1.00      0.80      0.89         5\n",
      "     3305548       0.86      1.00      0.93        19\n",
      "     2155904       1.00      1.00      1.00         3\n",
      "     1474573       1.00      1.00      1.00         5\n",
      "     4161674       0.60      1.00      0.75         3\n",
      "     2314011       0.82      0.90      0.86        10\n",
      "     1889734       1.00      0.70      0.82        10\n",
      "      670684       1.00      1.00      1.00         9\n",
      "     1593902       1.00      0.80      0.89         5\n",
      "     2128831       1.00      1.00      1.00        33\n",
      "     1516660       1.00      1.00      1.00         6\n",
      "     2862338       1.00      0.83      0.91        12\n",
      "     2587254       0.60      0.75      0.67         4\n",
      "\n",
      "    accuracy                           0.93       124\n",
      "   macro avg       0.91      0.91      0.90       124\n",
      "weighted avg       0.94      0.93      0.93       124\n",
      "\n"
     ]
    }
   ],
   "source": [
    "print('BoW Linear SVC (PCA):')\n",
    "bow_svc = LinearSVC()\n",
    "bow_svc_train = bow_svc.fit(pca_bow_train, Y_train)\n",
    "\n",
    "Y_pred = bow_svc.predict(pca_bow_test)\n",
    "print(classification_report(Y_test, Y_pred, target_names=blogger_ids))\n",
    "bow_svc_test_score_pca = metrics.f1_score(Y_test, Y_pred, average='weighted')\n",
    "\n",
    "print('tf-idf Linear SVC (LSA):')\n",
    "tfidf_svc = LinearSVC()\n",
    "tfidf_svc_train = tfidf_svc.fit(lsa_tfidf_train, Y_train)\n",
    "\n",
    "Y_pred = tfidf_svc.predict(lsa_tfidf_test)\n",
    "print(classification_report(Y_test, Y_pred, target_names=blogger_ids))\n",
    "tfidf_svc_test_score_lsa = metrics.f1_score(Y_test, Y_pred, average='weighted')"
   ]
  },
  {
   "cell_type": "markdown",
   "metadata": {},
   "source": [
    "Results using the reduced data sets were similar, although the BoW w/ PCA performed slightly worse."
   ]
  },
  {
   "cell_type": "markdown",
   "metadata": {},
   "source": [
    "#### Gradient Boosting"
   ]
  },
  {
   "cell_type": "code",
   "execution_count": 57,
   "metadata": {},
   "outputs": [
    {
     "name": "stdout",
     "output_type": "stream",
     "text": [
      "BoW Gradient Boosting:\n",
      "              precision    recall  f1-score   support\n",
      "\n",
      "      780903       0.75      0.60      0.67         5\n",
      "     3305548       0.84      0.84      0.84        19\n",
      "     2155904       0.75      1.00      0.86         3\n",
      "     1474573       1.00      1.00      1.00         5\n",
      "     4161674       0.00      0.00      0.00         3\n",
      "     2314011       0.62      0.80      0.70        10\n",
      "     1889734       0.53      0.80      0.64        10\n",
      "      670684       1.00      1.00      1.00         9\n",
      "     1593902       0.80      0.80      0.80         5\n",
      "     2128831       1.00      0.94      0.97        33\n",
      "     1516660       1.00      1.00      1.00         6\n",
      "     2862338       1.00      0.58      0.74        12\n",
      "     2587254       0.25      0.25      0.25         4\n",
      "\n",
      "    accuracy                           0.81       124\n",
      "   macro avg       0.73      0.74      0.73       124\n",
      "weighted avg       0.83      0.81      0.82       124\n",
      "\n",
      "tf-idf Gradient Boosting:\n",
      "              precision    recall  f1-score   support\n",
      "\n",
      "      780903       1.00      0.60      0.75         5\n",
      "     3305548       0.94      0.84      0.89        19\n",
      "     2155904       0.75      1.00      0.86         3\n",
      "     1474573       0.83      1.00      0.91         5\n",
      "     4161674       0.00      0.00      0.00         3\n",
      "     2314011       0.35      0.90      0.50        10\n",
      "     1889734       0.86      0.60      0.71        10\n",
      "      670684       1.00      1.00      1.00         9\n",
      "     1593902       0.67      0.80      0.73         5\n",
      "     2128831       1.00      0.88      0.94        33\n",
      "     1516660       1.00      0.50      0.67         6\n",
      "     2862338       0.88      0.58      0.70        12\n",
      "     2587254       0.17      0.25      0.20         4\n",
      "\n",
      "    accuracy                           0.77       124\n",
      "   macro avg       0.73      0.69      0.68       124\n",
      "weighted avg       0.84      0.77      0.78       124\n",
      "\n"
     ]
    }
   ],
   "source": [
    "print('BoW Gradient Boosting:')\n",
    "bow_gbc = ensemble.GradientBoostingClassifier()\n",
    "bow_gbc_train = bow_gbc.fit(bow_train_out, Y_train)\n",
    "\n",
    "Y_pred = bow_gbc.predict(bow_test_out)\n",
    "print(classification_report(Y_test, Y_pred, target_names=blogger_ids))\n",
    "bow_gbc_test_score = metrics.f1_score(Y_test, Y_pred, average='weighted')\n",
    "\n",
    "print('tf-idf Gradient Boosting:')\n",
    "tfidf_gbc = ensemble.GradientBoostingClassifier()\n",
    "tfidf_gbc_train = tfidf_gbc.fit(tfidf_train_out, Y_train)\n",
    "\n",
    "Y_pred = tfidf_gbc.predict(tfidf_test_out)\n",
    "print(classification_report(Y_test, Y_pred, target_names=blogger_ids))\n",
    "tfidf_gbc_test_score = metrics.f1_score(Y_test, Y_pred, average='weighted')"
   ]
  },
  {
   "cell_type": "markdown",
   "metadata": {},
   "source": [
    "Both BoW and tf-idf performed relatively well using Gradient Boosting with BoW having slightly higher accuracy and weighted F1 score. Neither were able to correctly identify posts by one author (4161674)."
   ]
  },
  {
   "cell_type": "code",
   "execution_count": 58,
   "metadata": {},
   "outputs": [
    {
     "name": "stdout",
     "output_type": "stream",
     "text": [
      "BoW Gradient Boosting (PCA):\n",
      "              precision    recall  f1-score   support\n",
      "\n",
      "      780903       0.30      0.60      0.40         5\n",
      "     3305548       0.71      0.79      0.75        19\n",
      "     2155904       0.00      0.00      0.00         3\n",
      "     1474573       1.00      1.00      1.00         5\n",
      "     4161674       0.27      1.00      0.43         3\n",
      "     2314011       0.46      0.60      0.52        10\n",
      "     1889734       0.62      0.50      0.56        10\n",
      "      670684       1.00      1.00      1.00         9\n",
      "     1593902       0.60      0.60      0.60         5\n",
      "     2128831       0.97      0.94      0.95        33\n",
      "     1516660       0.83      0.83      0.83         6\n",
      "     2862338       0.00      0.00      0.00        12\n",
      "     2587254       1.00      0.50      0.67         4\n",
      "\n",
      "    accuracy                           0.70       124\n",
      "   macro avg       0.60      0.64      0.59       124\n",
      "weighted avg       0.68      0.70      0.68       124\n",
      "\n",
      "tf-idf Gradient Boosting (LSA):\n",
      "              precision    recall  f1-score   support\n",
      "\n",
      "      780903       0.00      0.00      0.00         5\n",
      "     3305548       1.00      0.68      0.81        19\n",
      "     2155904       0.00      0.00      0.00         3\n",
      "     1474573       1.00      1.00      1.00         5\n",
      "     4161674       1.00      0.33      0.50         3\n",
      "     2314011       0.67      0.40      0.50        10\n",
      "     1889734       0.20      1.00      0.33        10\n",
      "      670684       1.00      1.00      1.00         9\n",
      "     1593902       0.00      0.00      0.00         5\n",
      "     2128831       1.00      1.00      1.00        33\n",
      "     1516660       1.00      0.83      0.91         6\n",
      "     2862338       0.00      0.00      0.00        12\n",
      "     2587254       0.00      0.00      0.00         4\n",
      "\n",
      "    accuracy                           0.65       124\n",
      "   macro avg       0.53      0.48      0.47       124\n",
      "weighted avg       0.67      0.65      0.63       124\n",
      "\n"
     ]
    }
   ],
   "source": [
    "print('BoW Gradient Boosting (PCA):')\n",
    "bow_gbc = ensemble.GradientBoostingClassifier()\n",
    "bow_gbc_train = bow_gbc.fit(pca_bow_train, Y_train)\n",
    "\n",
    "Y_pred = bow_gbc.predict(pca_bow_test)\n",
    "print(classification_report(Y_test, Y_pred, target_names=blogger_ids))\n",
    "bow_gbc_test_score_pca = metrics.f1_score(Y_test, Y_pred, average='weighted')\n",
    "\n",
    "print('tf-idf Gradient Boosting (LSA):')\n",
    "tfidf_gbc = ensemble.GradientBoostingClassifier()\n",
    "tfidf_gbc_train = tfidf_gbc.fit(lsa_tfidf_train, Y_train)\n",
    "\n",
    "Y_pred = tfidf_gbc.predict(lsa_tfidf_test)\n",
    "print(classification_report(Y_test, Y_pred, target_names=blogger_ids))\n",
    "tfidf_gbc_test_score_lsa = metrics.f1_score(Y_test, Y_pred, average='weighted')"
   ]
  },
  {
   "cell_type": "markdown",
   "metadata": {},
   "source": [
    "Performance of the Gradient Boosting models dropped when using the reduced sets. Interestingly, the author that had no correctly identified posts using the original data (4161674) had some correctly identified posts for both BoW w/ PCA and tf-idf w/ LSA. However, a new author (2862338) had no correctly identified posts in either model and the tf-idf model could not correctly identify posts by three other authors (although it had seven authors with perfect precision)."
   ]
  },
  {
   "cell_type": "markdown",
   "metadata": {},
   "source": [
    "#### Comparison"
   ]
  },
  {
   "cell_type": "markdown",
   "metadata": {},
   "source": [
    "Weighted F1 scores will be compared between these models to determine which performed best. Since there is some imbalance in the number of posts per author, weighted F1 score may be a better metric than accuracy, which can be skewed by class imbalances."
   ]
  },
  {
   "cell_type": "code",
   "execution_count": 59,
   "metadata": {},
   "outputs": [
    {
     "data": {
      "image/png": "[encoded data removed]",
      "text/plain": [
       "<Figure size 432x288 with 1 Axes>"
      ]
     },
     "metadata": {},
     "output_type": "display_data"
    }
   ],
   "source": [
    "x = np.arange(3)\n",
    "labels = [ 'Random Forest', 'Linear SVC', 'Gradient Boosting']\n",
    "original_data = [ bow_rfc_test_score, bow_svc_test_score, bow_gbc_test_score ]\n",
    "rd_data = [bow_rfc_test_score_pca, bow_svc_test_score_pca, bow_gbc_test_score_pca ]\n",
    "\n",
    "fig, ax = plt.subplots()\n",
    "bar_width = 0.35\n",
    "\n",
    "rects1 = ax.bar(x - bar_width/2, original_data, bar_width, label='Original')\n",
    "rects2 = ax.bar(x + bar_width/2, rd_data, bar_width, label='PCA (100)')\n",
    "\n",
    "ax.set_title('BoW Model Comparison')\n",
    "ax.set_xticks(x)\n",
    "ax.set_xticklabels(labels)\n",
    "ax.set_ylabel('Weighted F1 Score')\n",
    "ax.legend(loc=4)\n",
    "plt.show()"
   ]
  },
  {
   "cell_type": "markdown",
   "metadata": {},
   "source": [
    "All of the BoW supervised learning models had weighted F1 scores of at least 0.70. Adding 100 component PCA reduced F1 score for Linear SVC and Gradient Boosting but raised it significantly for Random Forest. Although Random Forest w/ PCA performed very well, Random Forest w/o PCA did not perform as well and Linear SVC perfomed best on average."
   ]
  },
  {
   "cell_type": "code",
   "execution_count": 60,
   "metadata": {},
   "outputs": [
    {
     "data": {
      "image/png": "[encoded data removed]",
      "text/plain": [
       "<Figure size 432x288 with 1 Axes>"
      ]
     },
     "metadata": {},
     "output_type": "display_data"
    }
   ],
   "source": [
    "x = np.arange(3)\n",
    "labels = [ 'Random Forest', 'Linear SVC', 'Gradient Boosting']\n",
    "original_data = [ tfidf_rfc_test_score, tfidf_svc_test_score, tfidf_gbc_test_score ]\n",
    "rd_data = [tfidf_rfc_test_score_lsa, tfidf_svc_test_score_lsa, tfidf_gbc_test_score_lsa ]\n",
    "\n",
    "fig, ax = plt.subplots()\n",
    "bar_width = 0.35\n",
    "\n",
    "rects1 = ax.bar(x - bar_width/2, original_data, bar_width, label='Original')\n",
    "rects2 = ax.bar(x + bar_width/2, rd_data, bar_width, label='LSA (270)')\n",
    "\n",
    "ax.set_title('tf-idf Model Comparison')\n",
    "ax.set_xticks(x)\n",
    "ax.set_xticklabels(labels)\n",
    "ax.set_ylabel('Weighted F1 Score')\n",
    "ax.legend(loc=4)\n",
    "plt.show()"
   ]
  },
  {
   "cell_type": "markdown",
   "metadata": {},
   "source": [
    "Supervised learning performance for tf-idf had a wider range of results compared to BoW. Linear SVC performed very well both with and without LSA with a weighted F1 score of 0.93. However, Random Forest and Gradient Boosting performed considerably worse with weighted F1 scores below 0.75. Adding LSA decreased F1 score slightly for Random Forest but decreases by about 0.1 for Gradient Boosting."
   ]
  },
  {
   "cell_type": "markdown",
   "metadata": {},
   "source": [
    "## Model Optimization"
   ]
  },
  {
   "cell_type": "markdown",
   "metadata": {},
   "source": [
    "Of the clustering models, Spectral Clustering, applied to tf-idf, performed best. Linear SVC, applied to tf-idf, did best of the supervised models so further optimization will be applied to both to determine if one method works better than the other."
   ]
  },
  {
   "cell_type": "markdown",
   "metadata": {},
   "source": [
    "#### Spectral Clustering"
   ]
  },
  {
   "cell_type": "code",
   "execution_count": 61,
   "metadata": {},
   "outputs": [
    {
     "name": "stdout",
     "output_type": "stream",
     "text": [
      "col_0    0   1   2   3   4   5   6   7   8   9   10  11  12\n",
      "id                                                         \n",
      "670684    6   0   0   0   0   0   0   9   0   1   1   0   0\n",
      "780903    2   0  42   0   0   0   0   1   0   2   0   5   1\n",
      "1474573   1   0   0   0   0   0   0  16   0   0   1   0   1\n",
      "1516660   1   0   0  29   0   0   0   0   0   0   0   0   0\n",
      "1593902   0   0   0   0   0   0   0  17   0   3   1   0   1\n",
      "1889734   2   0   0   0   0   0   0   1   0   8  18   0   3\n",
      "2128831   0   0   0   0   0   0   0  19   0   0   2   0   1\n",
      "2155904   2  18   0   0   0   0  19   1   0   0   0   0   0\n",
      "2314011  15   0   0   0   0   0   0   1   0   2   0   0   0\n",
      "2587254   0   0   0   0   0  28   0   0  38   0   0   0   0\n",
      "2862338   0   0   0   0  18   0   0   2   0   0   0   0   0\n",
      "3305548   0   0   0   0   0   0   0   1   0   1   1   1   7\n",
      "4161674   1   0   0   0   0   0   0   8   0   0   0   0  11\n",
      "ARI for Spectral Clustering tf-idf is: 0.5047809143315318\n"
     ]
    }
   ],
   "source": [
    "# Declare and fit the model\n",
    "sc = SpectralClustering(n_clusters=13, random_state=42, n_jobs=-1)\n",
    "\n",
    "#Predict clusters\n",
    "tfidf_full_pred = sc.fit_predict(tfidf_train_out)\n",
    "\n",
    "# Check actual vs predicted\n",
    "print(pd.crosstab(Y_train,tfidf_full_pred))\n",
    "\n",
    "tfidf_sc_ari13 = metrics.adjusted_rand_score(Y_train, tfidf_full_pred)\n",
    "\n",
    "print('ARI for Spectral Clustering tf-idf is: ' + str(tfidf_sc_ari13))"
   ]
  },
  {
   "cell_type": "markdown",
   "metadata": {},
   "source": [
    "Recall that the original 13 cluster Spectral Clustering ARI was 0.505."
   ]
  },
  {
   "cell_type": "code",
   "execution_count": 62,
   "metadata": {},
   "outputs": [
    {
     "name": "stdout",
     "output_type": "stream",
     "text": [
      "col_0    0   1   2   3   4   5   6   7   8   9   10  11\n",
      "id                                                     \n",
      "670684    6   0   9   0   0   2   0   0   0   0   0   0\n",
      "780903    2   0   1   0   0   0   0   1   0  44   5   0\n",
      "1474573   1   0  16   0   0   1   0   1   0   0   0   0\n",
      "1516660   1   0   0   0   0   0  29   0   0   0   0   0\n",
      "1593902   0   0  19   0   0   3   0   0   0   0   0   0\n",
      "1889734   2   0   1   0   0  24   0   2   0   0   3   0\n",
      "2128831   0   0  19   0   0   2   0   1   0   0   0   0\n",
      "2155904   2  20   1   0   0   0   0   0  17   0   0   0\n",
      "2314011  15   0   3   0   0   0   0   0   0   0   0   0\n",
      "2587254   0   0   0  28  38   0   0   0   0   0   0   0\n",
      "2862338   0   0   2   0   0   0   0   0   0   0   0  18\n",
      "3305548   0   0   1   0   0   1   0   8   0   0   1   0\n",
      "4161674   1   0   8   0   0   0   0  11   0   0   0   0\n",
      "ARI for Spectral Clustering tf-idf is: 0.5165860520766348\n"
     ]
    }
   ],
   "source": [
    "# Declare and fit the model\n",
    "sc = SpectralClustering(n_clusters=12, random_state=42, n_jobs=-1)\n",
    "\n",
    "#Predict clusters\n",
    "tfidf_full_pred = sc.fit_predict(tfidf_train_out)\n",
    "\n",
    "# Check actual vs predicted\n",
    "print(pd.crosstab(Y_train,tfidf_full_pred))\n",
    "\n",
    "tfidf_sc_ari12 = metrics.adjusted_rand_score(Y_train, tfidf_full_pred)\n",
    "\n",
    "print('ARI for Spectral Clustering tf-idf is: ' + str(tfidf_sc_ari12))"
   ]
  },
  {
   "cell_type": "markdown",
   "metadata": {},
   "source": [
    "Decreasing target clusters to 12 increases ARI slightly to 0.517."
   ]
  },
  {
   "cell_type": "code",
   "execution_count": 63,
   "metadata": {},
   "outputs": [
    {
     "name": "stdout",
     "output_type": "stream",
     "text": [
      "col_0    0   1   2   3   4   5   6   7   8   9   10\n",
      "id                                                 \n",
      "670684    0  15   0   0   0   0   0   0   0   0   2\n",
      "780903    0   2   0   0   0   0  43   0   3   5   0\n",
      "1474573   0  16   0   0   0   0   0   0   1   1   1\n",
      "1516660   0   1   0   0   0  29   0   0   0   0   0\n",
      "1593902   0  19   0   0   0   0   0   0   0   0   3\n",
      "1889734   0   1   0   0   0   0   0   0   3   2  26\n",
      "2128831   0  19   0   0   0   0   0   0   1   0   2\n",
      "2155904  22   1   0   0   0   0   0  15   2   0   0\n",
      "2314011   0  18   0   0   0   0   0   0   0   0   0\n",
      "2587254   0   0   0  28  38   0   0   0   0   0   0\n",
      "2862338   0   1  18   0   0   0   0   0   0   0   1\n",
      "3305548   0   0   0   0   0   0   0   0   9   1   1\n",
      "4161674   0   8   0   0   0   0   0   0  11   0   1\n",
      "ARI for Spectral Clustering tf-idf is: 0.4590241777096075\n"
     ]
    }
   ],
   "source": [
    "# Declare and fit the model\n",
    "sc = SpectralClustering(n_clusters=11, random_state=42, n_jobs=-1)\n",
    "\n",
    "#Predict clusters\n",
    "tfidf_full_pred = sc.fit_predict(tfidf_train_out)\n",
    "\n",
    "# Check actual vs predicted\n",
    "print(pd.crosstab(Y_train,tfidf_full_pred))\n",
    "\n",
    "tfidf_sc_ari11 = metrics.adjusted_rand_score(Y_train, tfidf_full_pred)\n",
    "\n",
    "print('ARI for Spectral Clustering tf-idf is: ' + str(tfidf_sc_ari11))"
   ]
  },
  {
   "cell_type": "markdown",
   "metadata": {},
   "source": [
    "Further decreasing number of clusters causes ARI to decrease to 0.459."
   ]
  },
  {
   "cell_type": "code",
   "execution_count": 64,
   "metadata": {},
   "outputs": [
    {
     "name": "stdout",
     "output_type": "stream",
     "text": [
      "col_0    0   1   2   3   4   5   6   7   8   9   10  11  12  13\n",
      "id                                                             \n",
      "670684    0  12   1   0   0   0   1   0   0   0   0   0   0   3\n",
      "780903    0   2   2   1   0   0   0   0   0  42   5   0   0   1\n",
      "1474573   0  16   0   1   0   0   1   0   0   0   0   0   0   1\n",
      "1516660   0   0   0   0  29   0   0   0   0   0   0   0   0   1\n",
      "1593902   0  17   2   1   0   0   2   0   0   0   0   0   0   0\n",
      "1889734   0   0  12   2   0   0  11   0   0   0   7   0   0   0\n",
      "2128831   0  15   0   1   0   0   6   0   0   0   0   0   0   0\n",
      "2155904   0   0   0   0   0  20   0   0   0   0   0   0  16   4\n",
      "2314011   0   0   2   0   0   0   0   0   0   0   0   0   0  16\n",
      "2587254  19   0   0   0   0   0   0   0  19   0   0  28   0   0\n",
      "2862338   0   2   0   0   0   0   0  18   0   0   0   0   0   0\n",
      "3305548   0   0   2   8   0   0   0   0   0   0   1   0   0   0\n",
      "4161674   0   1   0  11   0   0   6   0   0   0   0   0   0   2\n",
      "ARI for Spectral Clustering tf-idf is: 0.48023430721262406\n"
     ]
    }
   ],
   "source": [
    "# Declare and fit the model\n",
    "sc = SpectralClustering(n_clusters=14, random_state=42, n_jobs=-1)\n",
    "\n",
    "#Predict clusters\n",
    "tfidf_full_pred = sc.fit_predict(tfidf_train_out)\n",
    "\n",
    "# Check actual vs predicted\n",
    "print(pd.crosstab(Y_train,tfidf_full_pred))\n",
    "\n",
    "tfidf_sc_ari14 = metrics.adjusted_rand_score(Y_train, tfidf_full_pred)\n",
    "\n",
    "print('ARI for Spectral Clustering tf-idf is: ' + str(tfidf_sc_ari14))"
   ]
  },
  {
   "cell_type": "markdown",
   "metadata": {},
   "source": [
    "Increasing target clusters to 14 decreases ARI to 0.480."
   ]
  },
  {
   "cell_type": "code",
   "execution_count": 65,
   "metadata": {},
   "outputs": [
    {
     "name": "stdout",
     "output_type": "stream",
     "text": [
      "col_0    0   1   2   3   4   5   6   7   8   9   10  11  12  13  14\n",
      "id                                                                 \n",
      "670684    0   2   0   0  12   0   0   0   0   0   0   0   0   3   0\n",
      "780903    0   0   0  19   0   0   0   0   4   0   0   1  28   1   0\n",
      "1474573   0   1   0   0  16   0   0   0   0   0   0   1   0   1   0\n",
      "1516660   0   0   0   0   0   0   0   0   0   0  29   0   0   1   0\n",
      "1593902   0   3   0   0  17   0   0   0   0   0   0   1   0   1   0\n",
      "1889734   0  23   0   0   0   0   0   0   6   0   0   2   0   1   0\n",
      "2128831   0   3   0   0  17   0   0   0   0   0   0   1   0   1   0\n",
      "2155904   0   0  18   0   1  18   0   0   0   0   0   0   0   3   0\n",
      "2314011   0   0   0   0   0   0   0   0   0   0   0   0   0  18   0\n",
      "2587254  19   0   0   0   0   0   0  17   0  17   0   0   0   0  13\n",
      "2862338   0   1   0   0   1   0  18   0   0   0   0   0   0   0   0\n",
      "3305548   0   2   0   0   1   0   0   0   1   0   0   7   0   0   0\n",
      "4161674   0   2   0   0   1   0   0   2   0   0   0  11   0   4   0\n",
      "ARI for Spectral Clustering tf-idf is: 0.42463390614560015\n"
     ]
    }
   ],
   "source": [
    "# Declare and fit the model\n",
    "sc = SpectralClustering(n_clusters=15, random_state=42, n_jobs=-1)\n",
    "\n",
    "#Predict clusters\n",
    "tfidf_full_pred = sc.fit_predict(tfidf_train_out)\n",
    "\n",
    "# Check actual vs predicted\n",
    "print(pd.crosstab(Y_train,tfidf_full_pred))\n",
    "\n",
    "tfidf_sc_ari15 = metrics.adjusted_rand_score(Y_train, tfidf_full_pred)\n",
    "\n",
    "print('ARI for Spectral Clustering tf-idf is: ' + str(tfidf_sc_ari15))"
   ]
  },
  {
   "cell_type": "markdown",
   "metadata": {},
   "source": [
    "Increasing number of clusters further causes ARI to drop to 0.424."
   ]
  },
  {
   "cell_type": "code",
   "execution_count": 66,
   "metadata": {},
   "outputs": [
    {
     "data": {
      "image/png": "[encoded data removed]",
      "text/plain": [
       "<Figure size 432x288 with 1 Axes>"
      ]
     },
     "metadata": {},
     "output_type": "display_data"
    }
   ],
   "source": [
    "x_data = [ 11, 12, 13, 14, 15 ]\n",
    "y_data = [ tfidf_sc_ari11, tfidf_sc_ari12, tfidf_sc_ari13, tfidf_sc_ari14, tfidf_sc_ari15 ]\n",
    "\n",
    "plt.plot(x_data, y_data)\n",
    "plt.title('Spectral Clustering')\n",
    "plt.xlabel('Number of Clusters')\n",
    "plt.ylabel('Adj. Rand Index')\n",
    "\n",
    "plt.show()"
   ]
  },
  {
   "cell_type": "markdown",
   "metadata": {},
   "source": [
    "Although there were in fact 13 different authors represented, Spectral Clustering performed slightly better when number of clusters was set to 12. However, the difference was just over 0.01 so only representative of a few changes. Conversely, increasing or decreasing number of clusters further caused a significant reduction of ARI."
   ]
  },
  {
   "cell_type": "markdown",
   "metadata": {},
   "source": [
    "#### Linear SVC"
   ]
  },
  {
   "cell_type": "code",
   "execution_count": 67,
   "metadata": {},
   "outputs": [
    {
     "name": "stdout",
     "output_type": "stream",
     "text": [
      "tf-idf Linear SVC:\n",
      "              precision    recall  f1-score   support\n",
      "\n",
      "      780903       1.00      0.80      0.89         5\n",
      "     3305548       0.83      1.00      0.90        19\n",
      "     2155904       1.00      1.00      1.00         3\n",
      "     1474573       1.00      1.00      1.00         5\n",
      "     4161674       0.75      1.00      0.86         3\n",
      "     2314011       0.82      0.90      0.86        10\n",
      "     1889734       1.00      0.70      0.82        10\n",
      "      670684       1.00      1.00      1.00         9\n",
      "     1593902       1.00      0.80      0.89         5\n",
      "     2128831       1.00      1.00      1.00        33\n",
      "     1516660       1.00      1.00      1.00         6\n",
      "     2862338       1.00      0.83      0.91        12\n",
      "     2587254       0.60      0.75      0.67         4\n",
      "\n",
      "    accuracy                           0.93       124\n",
      "   macro avg       0.92      0.91      0.91       124\n",
      "weighted avg       0.94      0.93      0.93       124\n",
      "\n"
     ]
    }
   ],
   "source": [
    "print('tf-idf Linear SVC:')\n",
    "tfidf_svc = LinearSVC()\n",
    "tfidf_svc_train = tfidf_svc.fit(tfidf_train_out, Y_train)\n",
    "\n",
    "Y_pred = tfidf_svc.predict(tfidf_test_out)\n",
    "print(classification_report(Y_test, Y_pred, target_names=blogger_ids))\n",
    "tfidf_svc_test_score = metrics.f1_score(Y_test, Y_pred, average='weighted')"
   ]
  },
  {
   "cell_type": "code",
   "execution_count": 68,
   "metadata": {},
   "outputs": [
    {
     "data": {
      "text/plain": [
       "<bound method BaseEstimator.get_params of LinearSVC(C=1.0, class_weight=None, dual=True, fit_intercept=True,\n",
       "          intercept_scaling=1, loss='squared_hinge', max_iter=1000,\n",
       "          multi_class='ovr', penalty='l2', random_state=None, tol=0.0001,\n",
       "          verbose=0)>"
      ]
     },
     "execution_count": 68,
     "metadata": {},
     "output_type": "execute_result"
    }
   ],
   "source": [
    "tfidf_svc.get_params"
   ]
  },
  {
   "cell_type": "markdown",
   "metadata": {},
   "source": [
    "Initial accuracy and weighted F1 score is 0.93 using C=1.0 and tol=0.0001."
   ]
  },
  {
   "cell_type": "code",
   "execution_count": 69,
   "metadata": {},
   "outputs": [],
   "source": [
    "from sklearn.model_selection import GridSearchCV\n",
    "\n",
    "tfidf_svc = LinearSVC()\n",
    "\n",
    "C_set = [ 0.001, 0.01, 1, 10, 100, 1000 ]\n",
    "tol_set = [ 1e-4, 1e-3, 1e-2, 1e-1, 1 ]\n",
    "grid_values = {'C': C_set, 'tol': tol_set }\n",
    "\n",
    "svc_fit = GridSearchCV(tfidf_svc, param_grid = grid_values,\n",
    "                       cv=5,iid=True,n_jobs=-1).fit(tfidf_train_out, Y_train)"
   ]
  },
  {
   "cell_type": "code",
   "execution_count": 70,
   "metadata": {},
   "outputs": [
    {
     "name": "stdout",
     "output_type": "stream",
     "text": [
      "              precision    recall  f1-score   support\n",
      "\n",
      "      780903       1.00      0.80      0.89         5\n",
      "     3305548       0.90      1.00      0.95        19\n",
      "     2155904       1.00      1.00      1.00         3\n",
      "     1474573       1.00      1.00      1.00         5\n",
      "     4161674       0.60      1.00      0.75         3\n",
      "     2314011       0.90      0.90      0.90        10\n",
      "     1889734       1.00      0.70      0.82        10\n",
      "      670684       1.00      1.00      1.00         9\n",
      "     1593902       1.00      0.80      0.89         5\n",
      "     2128831       1.00      1.00      1.00        33\n",
      "     1516660       1.00      1.00      1.00         6\n",
      "     2862338       1.00      0.92      0.96        12\n",
      "     2587254       0.67      1.00      0.80         4\n",
      "\n",
      "    accuracy                           0.94       124\n",
      "   macro avg       0.93      0.93      0.92       124\n",
      "weighted avg       0.96      0.94      0.94       124\n",
      "\n"
     ]
    }
   ],
   "source": [
    "Y_pred = svc_fit.best_estimator_.predict(tfidf_test_out)\n",
    "print(classification_report(Y_test, Y_pred, target_names=blogger_ids))\n",
    "tfidf_svc_test_score = metrics.f1_score(Y_test, Y_pred, average='weighted')"
   ]
  },
  {
   "cell_type": "code",
   "execution_count": 71,
   "metadata": {},
   "outputs": [
    {
     "data": {
      "text/plain": [
       "{'C': 10, 'tol': 0.1}"
      ]
     },
     "execution_count": 71,
     "metadata": {},
     "output_type": "execute_result"
    }
   ],
   "source": [
    "svc_fit.best_params_"
   ]
  },
  {
   "cell_type": "markdown",
   "metadata": {},
   "source": [
    "By increasing C to 1000 and tol to 0.1, there is a slight increase in both accuracy and weighted F1 score but the difference is only from 0.93 to 0.94. F1 score decreases for one author (4161674) but increases for four (3305548, 2314011, 2862338 and 2587254). Support for that one author is only 3 compared to 19, 10, 12 and 4 for the four improved authors, suggesting that this is a good trade off."
   ]
  },
  {
   "cell_type": "markdown",
   "metadata": {},
   "source": [
    "## Holdout Comparison"
   ]
  },
  {
   "cell_type": "markdown",
   "metadata": {},
   "source": [
    "#### Spectral Clustering"
   ]
  },
  {
   "cell_type": "markdown",
   "metadata": {},
   "source": [
    "Compare behavior of Spectral Clustering applied to the training set and the test (holdout set)."
   ]
  },
  {
   "cell_type": "code",
   "execution_count": 72,
   "metadata": {},
   "outputs": [
    {
     "name": "stdout",
     "output_type": "stream",
     "text": [
      "col_0    0   1   2   3   4   5   6   7   8   9   10  11  12\n",
      "id                                                         \n",
      "670684    0   0   3   1   0   0   0   0   0   0   0   0   1\n",
      "780903    0   0   0   2   0  13   0   0   0   0   1   0   3\n",
      "1474573   0   0   0   0   0   0   1   0   0   0   0   0   2\n",
      "1516660   0   0   0   0   0   0   0   0   0   0   0   5   0\n",
      "1593902   0   0   0   0   0   0   0   0   0   0   0   0   3\n",
      "1889734   0   0   0   2   0   0   0   0   0   0   8   0   0\n",
      "2128831   0   0   2   0   0   0   6   0   0   0   1   0   1\n",
      "2155904   0   0   0   0   0   0   0   9   0   0   0   0   0\n",
      "2314011   0   0   3   0   0   0   1   0   0   0   1   0   0\n",
      "2587254  12   0   0   0  10   0   0   0   0  11   0   0   0\n",
      "2862338   0   5   0   0   0   0   0   0   0   0   0   0   1\n",
      "3305548   0   0   0   2   0   0   0   0  10   0   0   0   0\n",
      "4161674   0   0   0   0   0   0   1   0   0   0   3   0   0\n",
      "ARI for Spectral Clustering tf-idf is: 0.487251194879965\n"
     ]
    }
   ],
   "source": [
    "# Declare and fit the model\n",
    "sc = SpectralClustering(n_clusters=13, random_state=42, n_jobs=-1)\n",
    "sc.fit(tfidf_test_out)\n",
    "\n",
    "#Predict clusters\n",
    "tfidf_test_pred = sc.fit_predict(tfidf_test_out)\n",
    "\n",
    "# Check actual vs predicted\n",
    "print(pd.crosstab(Y_test,tfidf_test_pred))\n",
    "\n",
    "tfidf_sc_test_ari13 = metrics.adjusted_rand_score(Y_test, tfidf_test_pred)\n",
    "\n",
    "print('ARI for Spectral Clustering tf-idf is: ' + str(tfidf_sc_test_ari13))"
   ]
  },
  {
   "cell_type": "code",
   "execution_count": 73,
   "metadata": {},
   "outputs": [
    {
     "name": "stdout",
     "output_type": "stream",
     "text": [
      "col_0    0   1   2   3   4   5   6   7   8   9   10  11\n",
      "id                                                     \n",
      "670684    0   0   3   0   0   0   0   0   0   1   0   1\n",
      "780903    0   0   0   0   0   0   0   0   1   2  13   3\n",
      "1474573   0   1   0   0   0   0   0   0   0   0   0   2\n",
      "1516660   0   0   0   0   0   0   5   0   0   0   0   0\n",
      "1593902   0   0   0   0   0   0   0   0   0   0   0   3\n",
      "1889734   0   0   0   0   0   0   0   0   8   2   0   0\n",
      "2128831   0   0   8   0   0   0   0   0   1   0   0   1\n",
      "2155904   0   0   0   0   9   0   0   0   0   0   0   0\n",
      "2314011   0   0   4   0   0   0   0   0   0   0   0   1\n",
      "2587254  11  12   0   0   0   0   0  10   0   0   0   0\n",
      "2862338   0   0   0   5   0   0   0   0   0   0   0   1\n",
      "3305548   0   0   0   0   0  10   0   0   0   2   0   0\n",
      "4161674   0   0   1   0   0   0   0   0   3   0   0   0\n",
      "ARI for Spectral Clustering tf-idf is: 0.47985993538017774\n"
     ]
    }
   ],
   "source": [
    "# Declare and fit the model\n",
    "sc = SpectralClustering(n_clusters=12, random_state=42, n_jobs=-1)\n",
    "sc.fit(tfidf_test_out)\n",
    "\n",
    "#Predict clusters\n",
    "tfidf_test_pred = sc.fit_predict(tfidf_test_out)\n",
    "\n",
    "# Check actual vs predicted\n",
    "print(pd.crosstab(Y_test,tfidf_test_pred))\n",
    "\n",
    "tfidf_sc_test_ari12 = metrics.adjusted_rand_score(Y_test, tfidf_test_pred)\n",
    "\n",
    "print('ARI for Spectral Clustering tf-idf is: ' + str(tfidf_sc_test_ari12))"
   ]
  },
  {
   "cell_type": "code",
   "execution_count": 74,
   "metadata": {},
   "outputs": [
    {
     "name": "stdout",
     "output_type": "stream",
     "text": [
      "col_0    0   1   2   3   4   5   6   7   8   9   10\n",
      "id                                                 \n",
      "670684    0   1   0   0   1   0   0   0   0   3   0\n",
      "780903    0   3   0   0   3  13   0   0   0   0   0\n",
      "1474573   0   2   0   0   0   0   0   0   1   0   0\n",
      "1516660   0   0   0   0   0   0   0   5   0   0   0\n",
      "1593902   0   3   0   0   0   0   0   0   0   0   0\n",
      "1889734   0   0   0   2   7   0   0   0   0   1   0\n",
      "2128831   0   1   0   0   0   0   0   0   0   9   0\n",
      "2155904   0   0   0   0   0   0   9   0   0   0   0\n",
      "2314011   0   0   0   0   0   0   0   0   0   5   0\n",
      "2587254   0   0   9   0   0   0   0   0  12   0  12\n",
      "2862338   5   1   0   0   0   0   0   0   0   0   0\n",
      "3305548   0   0   0  10   2   0   0   0   0   0   0\n",
      "4161674   0   0   0   0   2   0   0   0   0   2   0\n",
      "ARI for Spectral Clustering tf-idf is: 0.4547295613488127\n"
     ]
    }
   ],
   "source": [
    "# Declare and fit the model\n",
    "sc = SpectralClustering(n_clusters=11, random_state=42, n_jobs=-1)\n",
    "sc.fit(tfidf_test_out)\n",
    "\n",
    "#Predict clusters\n",
    "tfidf_test_pred = sc.fit_predict(tfidf_test_out)\n",
    "\n",
    "# Check actual vs predicted\n",
    "print(pd.crosstab(Y_test,tfidf_test_pred))\n",
    "\n",
    "tfidf_sc_test_ari11 = metrics.adjusted_rand_score(Y_test, tfidf_test_pred)\n",
    "\n",
    "print('ARI for Spectral Clustering tf-idf is: ' + str(tfidf_sc_test_ari11))"
   ]
  },
  {
   "cell_type": "code",
   "execution_count": 75,
   "metadata": {},
   "outputs": [
    {
     "name": "stdout",
     "output_type": "stream",
     "text": [
      "col_0    0   1   2   3   4   5   6   7   8   9   10  11  12  13\n",
      "id                                                             \n",
      "670684    3   0   0   0   0   0   0   0   0   1   1   0   0   0\n",
      "780903    0   2   0   0   0   0   0   9   0   2   2   4   0   0\n",
      "1474573   0   0   0   0   0   0   0   1   0   0   2   0   0   0\n",
      "1516660   0   0   0   0   5   0   0   0   0   0   0   0   0   0\n",
      "1593902   0   0   0   0   0   0   0   0   0   0   3   0   0   0\n",
      "1889734   0   1   0   0   0   0   0   0   0   2   0   0   0   7\n",
      "2128831   0  10   0   0   0   0   0   0   0   0   0   0   0   0\n",
      "2155904   0   0   9   0   0   0   0   0   0   0   0   0   0   0\n",
      "2314011   3   2   0   0   0   0   0   0   0   0   0   0   0   0\n",
      "2587254   0   0   0   0   0  12  10   0   0   0   0   0  11   0\n",
      "2862338   0   0   0   0   0   0   0   0   6   0   0   0   0   0\n",
      "3305548   0   0   0  10   0   0   0   0   0   2   0   0   0   0\n",
      "4161674   0   2   0   0   0   0   0   0   0   0   0   0   0   2\n",
      "ARI for Spectral Clustering tf-idf is: 0.48027063073363496\n"
     ]
    }
   ],
   "source": [
    "# Declare and fit the model\n",
    "sc = SpectralClustering(n_clusters=14, random_state=42, n_jobs=-1)\n",
    "sc.fit(tfidf_test_out)\n",
    "\n",
    "#Predict clusters\n",
    "tfidf_test_pred = sc.fit_predict(tfidf_test_out)\n",
    "\n",
    "# Check actual vs predicted\n",
    "print(pd.crosstab(Y_test,tfidf_test_pred))\n",
    "\n",
    "tfidf_sc_test_ari14 = metrics.adjusted_rand_score(Y_test, tfidf_test_pred)\n",
    "\n",
    "print('ARI for Spectral Clustering tf-idf is: ' + str(tfidf_sc_test_ari14))"
   ]
  },
  {
   "cell_type": "code",
   "execution_count": 76,
   "metadata": {},
   "outputs": [
    {
     "name": "stdout",
     "output_type": "stream",
     "text": [
      "col_0    0   1   2   3   4   5   6   7   8   9   10  11  12  13  14\n",
      "id                                                                 \n",
      "670684    0   0   0   0   0   0   0   0   0   1   0   0   0   1   3\n",
      "780903    0   0   0   0   0   0   0   4   5   2   0   0   8   0   0\n",
      "1474573   0   0   0   0   0   0   0   0   0   1   0   0   0   2   0\n",
      "1516660   0   0   0   0   0   0   0   0   0   0   5   0   0   0   0\n",
      "1593902   0   0   0   0   0   0   0   2   0   0   0   0   0   1   0\n",
      "1889734   0   1   0   0   7   0   0   0   0   2   0   0   0   0   0\n",
      "2128831   0   9   0   0   0   0   0   1   0   0   0   0   0   0   0\n",
      "2155904   0   0   0   0   0   0   9   0   0   0   0   0   0   0   0\n",
      "2314011   0   4   0   0   0   0   0   0   1   0   0   0   0   0   0\n",
      "2587254   8   0  12   0   0  12   0   0   0   0   0   0   1   0   0\n",
      "2862338   0   0   0   0   0   0   0   0   0   0   0   5   0   1   0\n",
      "3305548   0   0   0  10   0   0   0   0   0   2   0   0   0   0   0\n",
      "4161674   0   1   0   0   2   0   0   1   0   0   0   0   0   0   0\n",
      "ARI for Spectral Clustering tf-idf is: 0.46575884486367997\n"
     ]
    }
   ],
   "source": [
    "# Declare and fit the model\n",
    "sc = SpectralClustering(n_clusters=15, random_state=42, n_jobs=-1)\n",
    "sc.fit(tfidf_test_out)\n",
    "\n",
    "#Predict clusters\n",
    "tfidf_test_pred = sc.fit_predict(tfidf_test_out)\n",
    "\n",
    "# Check actual vs predicted\n",
    "print(pd.crosstab(Y_test,tfidf_test_pred))\n",
    "\n",
    "tfidf_sc_test_ari15 = metrics.adjusted_rand_score(Y_test, tfidf_test_pred)\n",
    "\n",
    "print('ARI for Spectral Clustering tf-idf is: ' + str(tfidf_sc_test_ari15))"
   ]
  },
  {
   "cell_type": "code",
   "execution_count": 77,
   "metadata": {},
   "outputs": [
    {
     "data": {
      "image/png": "[encoded data removed]",
      "text/plain": [
       "<Figure size 432x288 with 1 Axes>"
      ]
     },
     "metadata": {},
     "output_type": "display_data"
    }
   ],
   "source": [
    "x_data = [ 11, 12, 13, 14, 15 ]\n",
    "y_test_data = [ tfidf_sc_test_ari11, tfidf_sc_test_ari12, tfidf_sc_test_ari13,\n",
    "          tfidf_sc_test_ari14, tfidf_sc_test_ari15 ]\n",
    "\n",
    "plt.plot(x_data, y_data, label='Training')\n",
    "plt.plot(x_data, y_test_data, label='Test')\n",
    "plt.title('Spectral Clustering')\n",
    "plt.xlabel('Number of Clusters')\n",
    "plt.ylabel('Adj. Rand Index')\n",
    "plt.legend()\n",
    "plt.show()"
   ]
  },
  {
   "cell_type": "markdown",
   "metadata": {},
   "source": [
    "Although the ARI for Spectral Clustering dropped a little bit switching from the training set to the test set, it was still above 0.48. In addition, it was fairly stable when changing number of clusters with ARI gradually decreasing and number of clusters was either increased or decreased (the peak was at 13 for the test set)."
   ]
  },
  {
   "cell_type": "markdown",
   "metadata": {},
   "source": [
    "#### Linear SVC"
   ]
  },
  {
   "cell_type": "markdown",
   "metadata": {},
   "source": [
    "Fit a Linear SVC model to the test set and compare performance when trying to predict training set."
   ]
  },
  {
   "cell_type": "code",
   "execution_count": 78,
   "metadata": {},
   "outputs": [],
   "source": [
    "tfidf_svc = LinearSVC()\n",
    "\n",
    "C_set = [ 0.001, 0.01, 1, 10, 100, 1000 ]\n",
    "tol_set = [ 1e-4, 1e-3, 1e-2, 1e-1, 1 ]\n",
    "grid_values = {'C': C_set, 'tol': tol_set }\n",
    "\n",
    "svc_test_fit = GridSearchCV(tfidf_svc, param_grid = grid_values,\n",
    "                       cv=5,iid=True,n_jobs=-1).fit(tfidf_test_out, Y_test)"
   ]
  },
  {
   "cell_type": "code",
   "execution_count": 79,
   "metadata": {},
   "outputs": [
    {
     "name": "stdout",
     "output_type": "stream",
     "text": [
      "              precision    recall  f1-score   support\n",
      "\n",
      "      780903       1.00      0.29      0.45        17\n",
      "     3305548       0.61      1.00      0.76        53\n",
      "     2155904       1.00      0.05      0.10        19\n",
      "     1474573       1.00      0.97      0.98        30\n",
      "     4161674       1.00      0.05      0.09        22\n",
      "     2314011       0.60      0.81      0.69        32\n",
      "     1889734       0.44      0.73      0.55        22\n",
      "      670684       1.00      0.97      0.99        40\n",
      "     1593902       1.00      0.67      0.80        18\n",
      "     2128831       0.88      1.00      0.94        66\n",
      "     1516660       0.90      0.90      0.90        20\n",
      "     2862338       0.53      0.91      0.67        11\n",
      "     2587254       1.00      0.15      0.26        20\n",
      "\n",
      "    accuracy                           0.75       370\n",
      "   macro avg       0.84      0.65      0.63       370\n",
      "weighted avg       0.84      0.75      0.71       370\n",
      "\n"
     ]
    }
   ],
   "source": [
    "Y_pred = svc_test_fit.best_estimator_.predict(tfidf_train_out)\n",
    "print(classification_report(Y_train, Y_pred, target_names=blogger_ids))\n",
    "tfidf_svc_test_score = metrics.f1_score(Y_train, Y_pred, average='weighted')"
   ]
  },
  {
   "cell_type": "markdown",
   "metadata": {},
   "source": [
    "Accuracy and weighted F1 score decrease considerably when using the test set to fit a new Linear SVC model. However, whereas the original model had 370 points on which to fit, the test set only has 124 points so a decrease in performance would be expected. There are a few instances of low precision or recall but the majority of authors still have F1 scores above 0.7."
   ]
  },
  {
   "cell_type": "markdown",
   "metadata": {},
   "source": [
    "## Conclusions"
   ]
  },
  {
   "cell_type": "markdown",
   "metadata": {},
   "source": [
    "Using two component PCA, charts will be generated to compare the actual author ID's with Spectral Clustering and Linear SVC predictions."
   ]
  },
  {
   "cell_type": "markdown",
   "metadata": {},
   "source": [
    "#### Training data comparison"
   ]
  },
  {
   "cell_type": "code",
   "execution_count": 80,
   "metadata": {},
   "outputs": [
    {
     "data": {
      "image/png": "[encoded data removed]",
      "text/plain": [
       "<Figure size 1296x360 with 3 Axes>"
      ]
     },
     "metadata": {},
     "output_type": "display_data"
    }
   ],
   "source": [
    "tfidf_chart = pd.DataFrame()\n",
    "tfidf_chart['pca1'] = pca_tfidf_train2[:,0]\n",
    "tfidf_chart['pca2'] = pca_tfidf_train2[:,1]\n",
    "tfidf_chart['id'] = Y_train.values\n",
    "\n",
    "sc = SpectralClustering(n_clusters=12, random_state=42, n_jobs=-1)\n",
    "tfidf_chart['sc_pred'] = sc.fit_predict(tfidf_train_out)\n",
    "\n",
    "tfidf_chart['svc_pred'] = svc_fit.best_estimator_.predict(tfidf_train_out)\n",
    "\n",
    "import matplotlib.patches as patches\n",
    "\n",
    "f, axes = plt.subplots(1, 3, figsize=(18,5), sharex=False)\n",
    "sns.despine(left=True)\n",
    "\n",
    "sns.scatterplot(x='pca1', y='pca2', hue='id', data=tfidf_chart, palette='BrBG',\n",
    "                legend=None, ax=axes[0]).set_title('Training: Actual Labels')\n",
    "sns.scatterplot(x='pca1', y='pca2', hue='sc_pred', data=tfidf_chart, palette='BrBG',\n",
    "                legend=None, ax=axes[1]).set_title('Training: Spectral Clustering')\n",
    "sns.scatterplot(x='pca1', y='pca2', hue='svc_pred', data=tfidf_chart, palette='BrBG',\n",
    "                legend=None, ax=axes[2]).set_title('Training: Linear SVC')\n",
    "\n",
    "ellipse1 = patches.Ellipse((0.042,0.28),0.28,0.35,\n",
    "                           linewidth=2,edgecolor='r',facecolor='none', angle=0)\n",
    "ellipse2 = patches.Ellipse((0.25,-0.08),0.35,0.2,\n",
    "                           linewidth=2,edgecolor='b',facecolor='none', angle=0)\n",
    "ellipse3 = patches.Ellipse((0.09,0.04),0.15,0.08,\n",
    "                           linewidth=1,edgecolor='g',facecolor='none', angle=0)\n",
    "ellipse4 = patches.Ellipse((0.02,0.0),0.15,0.08,\n",
    "                           linewidth=1,edgecolor='y',facecolor='none', angle=0)\n",
    "\n",
    "axes[0].add_patch(ellipse1)\n",
    "axes[0].add_patch(ellipse2)\n",
    "axes[0].add_patch(ellipse3)\n",
    "axes[0].add_patch(ellipse4)\n",
    "\n",
    "ellipse1 = patches.Ellipse((0.042,0.28),0.28,0.35,\n",
    "                           linewidth=2,edgecolor='r',facecolor='none', angle=0)\n",
    "ellipse2 = patches.Ellipse((0.25,-0.08),0.35,0.2,\n",
    "                           linewidth=2,edgecolor='b',facecolor='none', angle=0)\n",
    "ellipse3 = patches.Ellipse((0.09,0.04),0.15,0.08,\n",
    "                           linewidth=1,edgecolor='g',facecolor='none', angle=0)\n",
    "ellipse4 = patches.Ellipse((0.02,0.0),0.15,0.08,\n",
    "                           linewidth=1,edgecolor='y',facecolor='none', angle=0)\n",
    "\n",
    "axes[1].add_patch(ellipse1)\n",
    "axes[1].add_patch(ellipse2)\n",
    "axes[1].add_patch(ellipse3)\n",
    "axes[1].add_patch(ellipse4)\n",
    "\n",
    "ellipse1 = patches.Ellipse((0.042,0.28),0.28,0.35,\n",
    "                           linewidth=2,edgecolor='r',facecolor='none', angle=0)\n",
    "ellipse2 = patches.Ellipse((0.25,-0.08),0.35,0.2,\n",
    "                           linewidth=2,edgecolor='b',facecolor='none', angle=0)\n",
    "ellipse3 = patches.Ellipse((0.09,0.04),0.15,0.08,\n",
    "                           linewidth=1,edgecolor='g',facecolor='none', angle=0)\n",
    "ellipse4 = patches.Ellipse((0.02,0.0),0.15,0.08,\n",
    "                           linewidth=1,edgecolor='y',facecolor='none', angle=0)\n",
    "\n",
    "axes[2].add_patch(ellipse1)\n",
    "axes[2].add_patch(ellipse2)\n",
    "axes[2].add_patch(ellipse3)\n",
    "axes[2].add_patch(ellipse4)\n",
    "\n",
    "plt.show()"
   ]
  },
  {
   "cell_type": "markdown",
   "metadata": {},
   "source": [
    "PCA Observations:\n",
    "- The PCA transformation seems to have created three larger clusters\n",
    "- The top and right clusters consist of individual authors\n",
    "- The left cluster is a mix of all of the others\n",
    " - There do appear to be a couple of smaller clusters separated within the left cluster\n",
    " - Remaining labels appear to be mixed\n",
    " \n",
    "Spectral Clustering Observations:\n",
    "- The top and right clusters are incorrectly divided into two authors each\n",
    "- The two smaller clusters appear to be consistent\n",
    "- The remaining data appear to be loosely grouped in clusters, moreso than the original data. Considering clustering was done upon the full data set but is being shown here PCA-transformed, this suggests that some of the effects of PCA are overlapping with Spectral Clustering.\n",
    "\n",
    "Linear SVC Observations:\n",
    "- All four of the clusters that could be clearly identified in the original data are correctly identified\n",
    "- The remaining data appear jumbled, as they do in the original data. It is difficult to tell which points may match but this is due to two component-PCA not being able to fully explain variance. If a higher dimensional set were used, it might become easier to differentiate clusters but visualization complexity would increase significantly."
   ]
  },
  {
   "cell_type": "markdown",
   "metadata": {},
   "source": [
    "#### Test data comparison"
   ]
  },
  {
   "cell_type": "code",
   "execution_count": 81,
   "metadata": {},
   "outputs": [
    {
     "data": {
      "image/png": "[encoded data removed]",
      "text/plain": [
       "<Figure size 1296x360 with 3 Axes>"
      ]
     },
     "metadata": {},
     "output_type": "display_data"
    }
   ],
   "source": [
    "del tfidf_chart\n",
    "tfidf_chart = pd.DataFrame()\n",
    "tfidf_chart['pca1'] = pca_tfidf_test2[:,0]\n",
    "tfidf_chart['pca2'] = pca_tfidf_test2[:,1]\n",
    "tfidf_chart['id'] = Y_test.values\n",
    "\n",
    "sc = SpectralClustering(n_clusters=12, random_state=42, n_jobs=-1)\n",
    "tfidf_chart['sc_pred'] = sc.fit_predict(tfidf_test_out)\n",
    "\n",
    "tfidf_chart['svc_pred'] = svc_fit.best_estimator_.predict(tfidf_test_out)\n",
    "\n",
    "f, axes = plt.subplots(1, 3, figsize=(18,5), sharex=False)\n",
    "sns.despine(left=True)\n",
    "\n",
    "sns.scatterplot(x='pca1', y='pca2', hue='id', data=tfidf_chart, palette='BrBG',\n",
    "                legend=None, ax=axes[0]).set_title('Test: Actual Labels')\n",
    "sns.scatterplot(x='pca1', y='pca2', hue='sc_pred', data=tfidf_chart, palette='BrBG',\n",
    "                legend=None, ax=axes[1]).set_title('Test: Spectral Clustering')\n",
    "sns.scatterplot(x='pca1', y='pca2', hue='svc_pred', data=tfidf_chart, palette='BrBG',\n",
    "                legend=None, ax=axes[2]).set_title('Test: Linear SVC')\n",
    "\n",
    "ellipse1 = patches.Ellipse((0.042,0.25),0.2,0.2,\n",
    "                           linewidth=2,edgecolor='r',facecolor='none', angle=0)\n",
    "ellipse2 = patches.Ellipse((0.22,-0.08),0.25,0.17,\n",
    "                           linewidth=2,edgecolor='b',facecolor='none', angle=0)\n",
    "ellipse3 = patches.Ellipse((0.08,0.04),0.08,0.06,\n",
    "                           linewidth=1,edgecolor='g',facecolor='none', angle=0)\n",
    "ellipse4 = patches.Ellipse((0.02,-0.01),0.08,0.08,\n",
    "                           linewidth=1,edgecolor='y',facecolor='none', angle=0)\n",
    "\n",
    "axes[0].add_patch(ellipse1)\n",
    "axes[0].add_patch(ellipse2)\n",
    "axes[0].add_patch(ellipse3)\n",
    "axes[0].add_patch(ellipse4)\n",
    "\n",
    "ellipse1 = patches.Ellipse((0.042,0.25),0.2,0.2,\n",
    "                           linewidth=2,edgecolor='r',facecolor='none', angle=0)\n",
    "ellipse2 = patches.Ellipse((0.22,-0.08),0.25,0.17,\n",
    "                           linewidth=2,edgecolor='b',facecolor='none', angle=0)\n",
    "ellipse3 = patches.Ellipse((0.08,0.04),0.08,0.06,\n",
    "                           linewidth=1,edgecolor='g',facecolor='none', angle=0)\n",
    "ellipse4 = patches.Ellipse((0.02,-0.01),0.08,0.08,\n",
    "                           linewidth=1,edgecolor='y',facecolor='none', angle=0)\n",
    "\n",
    "axes[1].add_patch(ellipse1)\n",
    "axes[1].add_patch(ellipse2)\n",
    "axes[1].add_patch(ellipse3)\n",
    "axes[1].add_patch(ellipse4)\n",
    "\n",
    "ellipse1 = patches.Ellipse((0.042,0.25),0.2,0.2,\n",
    "                           linewidth=2,edgecolor='r',facecolor='none', angle=0)\n",
    "ellipse2 = patches.Ellipse((0.22,-0.08),0.25,0.17,\n",
    "                           linewidth=2,edgecolor='b',facecolor='none', angle=0)\n",
    "ellipse3 = patches.Ellipse((0.08,0.04),0.08,0.06,\n",
    "                           linewidth=1,edgecolor='g',facecolor='none', angle=0)\n",
    "ellipse4 = patches.Ellipse((0.02,-0.01),0.08,0.08,\n",
    "                           linewidth=1,edgecolor='y',facecolor='none', angle=0)\n",
    "\n",
    "axes[2].add_patch(ellipse1)\n",
    "axes[2].add_patch(ellipse2)\n",
    "axes[2].add_patch(ellipse3)\n",
    "axes[2].add_patch(ellipse4)\n",
    "\n",
    "plt.show()"
   ]
  },
  {
   "cell_type": "markdown",
   "metadata": {},
   "source": [
    "The behavior seen in the test set is similar to that from the training set, although Spectral Clustering correctly identifies a single author in the top cluster rather than two in the training set. It does still incorrectly split the right cluster into two. This suggests that both models are relatively stable."
   ]
  },
  {
   "cell_type": "markdown",
   "metadata": {},
   "source": [
    "#### Final Thoughts"
   ]
  },
  {
   "cell_type": "markdown",
   "metadata": {},
   "source": [
    "This report investigated classification of blog posts by authors, comparing different NLP vectorization methods, clustering methods, unsupervised dimension reduction techniques and supervised learning models.\n",
    "- Both Bag of Words (BoW) and Term Frequency-Inverse Document Frequency (tf-idf) vectorization performed relatively well but tf-idf was generally better.\n",
    "- K-Means and Spectral Clustering were both able to classify authors but Mean-Shift was not. Spectral Clustering performed better for both BoW and tf-idf.\n",
    "- Both PCA and truncated SVD were used to reduce dimensionality and both required a fairly large number of components to reach 80% variance explained. However, they were still able to reduce dimensions from about 25k to less than 100.\n",
    "- Random Forest, Linear SVC and Gradient Boosting models (using both original data and reduced data) all yielded weighted F1 Scores above 0.60. Although BoW Random Forest w/ PCA performed best, Linear SVC (w/ and w/o LSA) was most consistent.\n",
    "- Spectral Clustering and Linear SVC models were able to classify blog posts well but Linear SVC reached 0.94 accuracy and 0.94 weighted F-Score after applying grid search optimization. From a visual comparison using 2 component PCA scatter plots, the Linear SVC plot looked most similar to actual.\n",
    "- With this set of data, technical performance was not an issue but if a larger data set were used, runtime might become a consideration. In terms of optimization, clustering is probably less computationally intensive.\n",
    "- While class imbalance impacts both clustering and supervised learning models, some clustering methods operate under the assumption of equal class size so may not be applicable to all data sets."
   ]
  },
  {
   "cell_type": "code",
   "execution_count": null,
   "metadata": {},
   "outputs": [],
   "source": []
  }
 ],
 "metadata": {
  "kernelspec": {
   "display_name": "Python 3 (Spyder)",
   "language": "python3",
   "name": "python3"
  },
  "language_info": {
   "codemirror_mode": {
    "name": "ipython",
    "version": 3
   },
   "file_extension": ".py",
   "mimetype": "text/x-python",
   "name": "python",
   "nbconvert_exporter": "python",
   "pygments_lexer": "ipython3",
   "version": "3.7.3"
  }
 },
 "nbformat": 4,
 "nbformat_minor": 2
}
