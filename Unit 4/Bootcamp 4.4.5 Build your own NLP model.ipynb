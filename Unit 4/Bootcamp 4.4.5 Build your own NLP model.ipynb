{
 "cells": [
  {
   "cell_type": "markdown",
   "metadata": {},
   "source": [
    "<h1><center>Thinkful Bootcamp 4.4.5: Build your own NLP model</h1>"
   ]
  },
  {
   "cell_type": "markdown",
   "metadata": {},
   "source": [
    "For this challenge, you will need to choose a corpus of data from nltk or another source that includes categories you can predict and create an analysis pipeline that includes the following steps:\n",
    "\n",
    "1. Data cleaning / processing / language parsing\n",
    "2. Create features using two different NLP methods: For example, BoW vs tf-idf.\n",
    "3. Use the features to fit supervised learning models for each feature set to predict the category outcomes.\n",
    "4. Assess your models using cross-validation and determine whether one model performed better.\n",
    "5. Pick one of the models and try to increase accuracy by at least 5 percentage points.\n",
    "\n",
    "Write up your report in a Jupyter notebook. Be sure to explicitly justify the choices you make throughout, and submit it below."
   ]
  },
  {
   "cell_type": "markdown",
   "metadata": {},
   "source": [
    "## Data Processing"
   ]
  },
  {
   "cell_type": "markdown",
   "metadata": {},
   "source": [
    "#### Download data"
   ]
  },
  {
   "cell_type": "markdown",
   "metadata": {},
   "source": [
    "The Reuters-21578 data set from nltk will be used in this exercise. It includes about 10k news articles, all assigned to relevant categories. Some articles are assigned to more than one category."
   ]
  },
  {
   "cell_type": "code",
   "execution_count": 1,
   "metadata": {},
   "outputs": [
    {
     "name": "stderr",
     "output_type": "stream",
     "text": [
      "[nltk_data] Downloading package reuters to\n",
      "[nltk_data]     C:\\Users\\yfsta\\AppData\\Roaming\\nltk_data...\n",
      "[nltk_data]   Package reuters is already up-to-date!\n"
     ]
    },
    {
     "data": {
      "text/plain": [
       "True"
      ]
     },
     "execution_count": 1,
     "metadata": {},
     "output_type": "execute_result"
    }
   ],
   "source": [
    "import nltk\n",
    "nltk.download('reuters')"
   ]
  },
  {
   "cell_type": "markdown",
   "metadata": {},
   "source": [
    "#### Load data"
   ]
  },
  {
   "cell_type": "markdown",
   "metadata": {},
   "source": [
    "In order to avoid later performance issues, a random set of 4000 articles will be used rather than the entire 10+k article corpus."
   ]
  },
  {
   "cell_type": "code",
   "execution_count": 2,
   "metadata": {},
   "outputs": [],
   "source": [
    "from nltk.corpus import reuters, stopwords\n",
    "import random\n",
    "\n",
    "doc_list0 = reuters.fileids();\n",
    "doc_list = random.choices(doc_list0, k=4000)\n",
    "training_set = [ d.startswith(\"train\") for d in doc_list ]\n",
    "test_set = [ d.startswith(\"test\") for d in doc_list ]"
   ]
  },
  {
   "cell_type": "markdown",
   "metadata": {},
   "source": [
    "Separate documents and categories using pre-defined training/test sets"
   ]
  },
  {
   "cell_type": "code",
   "execution_count": 3,
   "metadata": {},
   "outputs": [],
   "source": [
    "documents = [ reuters.raw(doc_id) for doc_id in doc_list ]"
   ]
  },
  {
   "cell_type": "code",
   "execution_count": 4,
   "metadata": {},
   "outputs": [],
   "source": [
    "categories = [ reuters.categories(doc_id) for doc_id in doc_list ]"
   ]
  },
  {
   "cell_type": "markdown",
   "metadata": {},
   "source": [
    "#### Data cleaning"
   ]
  },
  {
   "cell_type": "markdown",
   "metadata": {},
   "source": [
    "Separate grouped words: While these may hold value as pairs, they will probably match better if analyzed independently."
   ]
  },
  {
   "cell_type": "code",
   "execution_count": 5,
   "metadata": {},
   "outputs": [],
   "source": [
    "import re\n",
    "\n",
    "cleaned_docs = [ re.sub('[-/&]',' ',doc) for doc in documents ]"
   ]
  },
  {
   "cell_type": "markdown",
   "metadata": {},
   "source": [
    "Change 'U.S.' to 'USA' to avoid confusion with 'us.' This should not be an issue for most acronyms."
   ]
  },
  {
   "cell_type": "code",
   "execution_count": 6,
   "metadata": {},
   "outputs": [],
   "source": [
    "cleaned_docs = [ re.sub(' U.S. ',' USA ',doc) for doc in cleaned_docs ]\n",
    "cleaned_docs = [ re.sub(' US ',' USA ',doc) for doc in cleaned_docs ]"
   ]
  },
  {
   "cell_type": "markdown",
   "metadata": {},
   "source": [
    "Remove possessives: These are probably better grouped with their base."
   ]
  },
  {
   "cell_type": "code",
   "execution_count": 7,
   "metadata": {},
   "outputs": [],
   "source": [
    "cleaned_docs = [ re.sub('\\'s','',doc) for doc in cleaned_docs ]"
   ]
  },
  {
   "cell_type": "markdown",
   "metadata": {},
   "source": [
    "Remove punctuation: Sentence analysis will not be used in this study."
   ]
  },
  {
   "cell_type": "code",
   "execution_count": 8,
   "metadata": {},
   "outputs": [],
   "source": [
    "cleaned_docs = [ re.sub('[^\\w\\s]','',doc) for doc in cleaned_docs ]"
   ]
  },
  {
   "cell_type": "markdown",
   "metadata": {},
   "source": [
    "Remove numbers: There is too many factors that could contribute to variation. Spelled out numbers are left as they can still be useful in terms of denoting scale."
   ]
  },
  {
   "cell_type": "code",
   "execution_count": 9,
   "metadata": {},
   "outputs": [],
   "source": [
    "cleaned_docs = [ re.sub('[0-9]','',doc) for doc in cleaned_docs ]"
   ]
  },
  {
   "cell_type": "markdown",
   "metadata": {},
   "source": [
    "Remove new lines and extra white spaces"
   ]
  },
  {
   "cell_type": "code",
   "execution_count": 10,
   "metadata": {},
   "outputs": [],
   "source": [
    "cleaned_docs = [ ' '.join(re.sub('\\n','',doc).split()) for doc in cleaned_docs ]"
   ]
  },
  {
   "cell_type": "markdown",
   "metadata": {},
   "source": [
    "Convert everything to lowercase to avoid separating words due to capitalization."
   ]
  },
  {
   "cell_type": "code",
   "execution_count": 11,
   "metadata": {},
   "outputs": [],
   "source": [
    "cleaned_docs = [ doc.lower() for doc in cleaned_docs ]"
   ]
  },
  {
   "cell_type": "markdown",
   "metadata": {},
   "source": [
    "#### Parse language"
   ]
  },
  {
   "cell_type": "markdown",
   "metadata": {},
   "source": [
    "Create word count map"
   ]
  },
  {
   "cell_type": "code",
   "execution_count": 12,
   "metadata": {},
   "outputs": [],
   "source": [
    "from sklearn.feature_extraction.text import CountVectorizer\n",
    "count_vectorizer = CountVectorizer()\n",
    "word_map = count_vectorizer.fit_transform(cleaned_docs)"
   ]
  },
  {
   "cell_type": "markdown",
   "metadata": {},
   "source": [
    "Create article category map"
   ]
  },
  {
   "cell_type": "code",
   "execution_count": 13,
   "metadata": {},
   "outputs": [],
   "source": [
    "from sklearn.preprocessing import MultiLabelBinarizer\n",
    "\n",
    "category_mlb = MultiLabelBinarizer(classes=reuters.categories())\n",
    "category_map = category_mlb.fit_transform(categories)"
   ]
  },
  {
   "cell_type": "markdown",
   "metadata": {},
   "source": [
    "## Feature Generation"
   ]
  },
  {
   "cell_type": "markdown",
   "metadata": {},
   "source": [
    "#### Bag of Words"
   ]
  },
  {
   "cell_type": "code",
   "execution_count": 14,
   "metadata": {},
   "outputs": [],
   "source": [
    "word_list = count_vectorizer.get_feature_names()"
   ]
  },
  {
   "cell_type": "code",
   "execution_count": 15,
   "metadata": {},
   "outputs": [],
   "source": [
    "import numpy as np\n",
    "\n",
    "total_word_freq = word_map.toarray().sum(axis=0)"
   ]
  },
  {
   "cell_type": "code",
   "execution_count": 16,
   "metadata": {},
   "outputs": [],
   "source": [
    "import pandas as pd\n",
    "\n",
    "word_freq = pd.DataFrame()\n",
    "word_freq['word'] = word_list\n",
    "word_freq['freq'] = total_word_freq"
   ]
  },
  {
   "cell_type": "code",
   "execution_count": 17,
   "metadata": {},
   "outputs": [],
   "source": [
    "most_freq_words = word_freq[word_freq['freq'].rank(ascending=False,method='min') <= 1000]"
   ]
  },
  {
   "cell_type": "markdown",
   "metadata": {},
   "source": [
    "Convert to a sparse matrix to improve performance."
   ]
  },
  {
   "cell_type": "code",
   "execution_count": 18,
   "metadata": {},
   "outputs": [],
   "source": [
    "from scipy import sparse\n",
    "\n",
    "bow_X = sparse.csr_matrix(word_map[:,most_freq_words.index])"
   ]
  },
  {
   "cell_type": "markdown",
   "metadata": {},
   "source": [
    "#### tf-idf"
   ]
  },
  {
   "cell_type": "code",
   "execution_count": 19,
   "metadata": {},
   "outputs": [],
   "source": [
    "from sklearn.feature_extraction.text import TfidfVectorizer\n",
    "\n",
    "tfidf_vectorizer = TfidfVectorizer(max_df=0.5, min_df=2, stop_words='english', use_idf=True, norm=u'l2', smooth_idf=True)\n",
    "\n",
    "tfidf_X = tfidf_vectorizer.fit_transform(cleaned_docs)"
   ]
  },
  {
   "cell_type": "markdown",
   "metadata": {},
   "source": [
    "## Supervised Learning Models"
   ]
  },
  {
   "cell_type": "markdown",
   "metadata": {},
   "source": [
    "#### Setup"
   ]
  },
  {
   "cell_type": "code",
   "execution_count": 20,
   "metadata": {},
   "outputs": [],
   "source": [
    "bow_X_train = bow_X[ np.where(training_set)[0], :]\n",
    "bow_X_test = bow_X[ np.where(test_set)[0], :]\n",
    "\n",
    "tfidf_X_train = tfidf_X[ np.where(training_set)[0], :]\n",
    "tfidf_X_test = tfidf_X[ np.where(test_set)[0], :]\n",
    "\n",
    "Y_train = category_map[ training_set, : ]\n",
    "Y_test = category_map[ test_set,: ]"
   ]
  },
  {
   "cell_type": "markdown",
   "metadata": {},
   "source": [
    "#### Random Forest"
   ]
  },
  {
   "cell_type": "code",
   "execution_count": 21,
   "metadata": {},
   "outputs": [
    {
     "name": "stdout",
     "output_type": "stream",
     "text": [
      "BoW Random Forest Training set score: 0.9948114839156001\n",
      "BoW Random Forest Test set score: 0.6447249774571686\n",
      "\n",
      "tf-idf Random Forest Training set score: 0.9930819785541335\n",
      "tf-idf Random Forest Test set score: 0.6501352569882777\n"
     ]
    }
   ],
   "source": [
    "from sklearn import ensemble\n",
    "\n",
    "bow_rfc = ensemble.RandomForestClassifier(n_estimators=100)\n",
    "bow_rfc_train = bow_rfc.fit(bow_X_train, Y_train)\n",
    "\n",
    "print('BoW Random Forest Training set score:', bow_rfc.score(bow_X_train, Y_train))\n",
    "print('BoW Random Forest Test set score:', bow_rfc.score(bow_X_test, Y_test))\n",
    "\n",
    "tfidf_rfc = ensemble.RandomForestClassifier(n_estimators=100)\n",
    "tfidf_rfc_train = tfidf_rfc.fit(tfidf_X_train, Y_train)\n",
    "\n",
    "tfidf_rfc_train_score = tfidf_rfc.score(tfidf_X_train, Y_train)\n",
    "tfidf_rfc_test_score = tfidf_rfc.score(tfidf_X_test, Y_test)\n",
    "\n",
    "print('\\ntf-idf Random Forest Training set score:', tfidf_rfc_train_score)\n",
    "print('tf-idf Random Forest Test set score:', tfidf_rfc_test_score)"
   ]
  },
  {
   "cell_type": "markdown",
   "metadata": {},
   "source": [
    "There is a very high degree of overfitting for Random Forest for both the BoW and tf-idf data sets. While training set scores are very high, test set scores are much lower with tf-idf slightly better but still only at 0.66."
   ]
  },
  {
   "cell_type": "markdown",
   "metadata": {},
   "source": [
    "#### Linear SVM"
   ]
  },
  {
   "cell_type": "code",
   "execution_count": 22,
   "metadata": {},
   "outputs": [
    {
     "name": "stdout",
     "output_type": "stream",
     "text": [
      "BoW Linear SVC Training set score: 0.9948114839156001\n",
      "BoW Linear SVC Test set score: 0.7348963029756538\n",
      "\n",
      "tf-idf Linear SVC Training set score: 0.9875475613974404\n",
      "tf-idf Linear SVC Test set score: 0.7601442741208295\n"
     ]
    }
   ],
   "source": [
    "from sklearn.svm import LinearSVC, SVC\n",
    "from sklearn.multiclass import OneVsRestClassifier\n",
    "\n",
    "bow_svc = LinearSVC()\n",
    "bow_svc_ovr = OneVsRestClassifier(bow_svc,n_jobs=-1)\n",
    "bow_svc_train = bow_svc_ovr.fit(bow_X_train, Y_train)\n",
    "\n",
    "bow_svc_train_score = bow_svc_ovr.score(bow_X_train, Y_train)\n",
    "bow_svc_test_score = bow_svc_ovr.score(bow_X_test, Y_test)\n",
    "\n",
    "print('BoW Linear SVC Training set score:', bow_svc_train_score)\n",
    "print('BoW Linear SVC Test set score:', bow_svc_test_score)\n",
    "\n",
    "tfidf_svc = LinearSVC()\n",
    "tfidf_svc_ovr = OneVsRestClassifier(tfidf_svc,n_jobs=-1)\n",
    "tfidf_svc_train = tfidf_svc_ovr.fit(tfidf_X_train, Y_train)\n",
    "\n",
    "tfidf_svc_train_score = tfidf_svc_ovr.score(tfidf_X_train, Y_train)\n",
    "tfidf_svc_test_score = tfidf_svc_ovr.score(tfidf_X_test, Y_test)\n",
    "\n",
    "print('\\ntf-idf Linear SVC Training set score:', tfidf_svc_train_score)\n",
    "print('tf-idf Linear SVC Test set score:', tfidf_svc_test_score)"
   ]
  },
  {
   "cell_type": "markdown",
   "metadata": {},
   "source": [
    "Overfitting is an issue for Linear SVC as well. Test set scores are a bit higher than for Random Forest, with BoW at 0.71 and tf-idf at 0.74."
   ]
  },
  {
   "cell_type": "markdown",
   "metadata": {},
   "source": [
    "#### Gradient Boosted"
   ]
  },
  {
   "cell_type": "code",
   "execution_count": 23,
   "metadata": {},
   "outputs": [
    {
     "name": "stdout",
     "output_type": "stream",
     "text": [
      "BoW Gradient Boosted Training set score: 0.9702525077827742\n",
      "BoW Gradient Boosted Test set score: 0.6961226330027052\n",
      "\n",
      "tf-idf Gradient Boosted Training set score: 0.9702525077827742\n",
      "tf-idf Gradient Boosted Test set score: 0.690712353471596\n"
     ]
    }
   ],
   "source": [
    "bow_gbc = ensemble.GradientBoostingClassifier()\n",
    "bow_gbc_ovr = OneVsRestClassifier(bow_gbc,n_jobs=-1)\n",
    "bow_gbc_train = bow_gbc_ovr.fit(bow_X_train, Y_train)\n",
    "\n",
    "print('BoW Gradient Boosted Training set score:', bow_gbc_ovr.score(bow_X_train, Y_train))\n",
    "print('BoW Gradient Boosted Test set score:', bow_gbc_ovr.score(bow_X_test, Y_test))\n",
    "\n",
    "tfidf_gbc = ensemble.GradientBoostingClassifier()\n",
    "tfidf_gbc_ovr = OneVsRestClassifier(tfidf_gbc,n_jobs=-1)\n",
    "tfidf_gbc_train = tfidf_gbc_ovr.fit(tfidf_X_train, Y_train)\n",
    "\n",
    "tfidf_gbc_train_score = tfidf_gbc_ovr.score(tfidf_X_train, Y_train)\n",
    "tfidf_gbc_test_score = tfidf_gbc_ovr.score(tfidf_X_test, Y_test)\n",
    "\n",
    "print('\\ntf-idf Gradient Boosted Training set score:', tfidf_gbc_train_score)\n",
    "print('tf-idf Gradient Boosted Test set score:', tfidf_gbc_test_score)"
   ]
  },
  {
   "cell_type": "markdown",
   "metadata": {},
   "source": [
    "Results for the Gradient Boosted model fall in between Random Forest and Linear SVC. Like the others, there is a high degree of overfitting."
   ]
  },
  {
   "cell_type": "markdown",
   "metadata": {},
   "source": [
    "## Cross Validation and Conclusion"
   ]
  },
  {
   "cell_type": "markdown",
   "metadata": {},
   "source": [
    "#### Cross Validation"
   ]
  },
  {
   "cell_type": "markdown",
   "metadata": {},
   "source": [
    "The cross_validate function calculates scores and runtimes for any given number of folds. cv=5 is used here."
   ]
  },
  {
   "cell_type": "code",
   "execution_count": 24,
   "metadata": {},
   "outputs": [],
   "source": [
    "from sklearn.model_selection import cross_validate, cross_val_score\n",
    "\n",
    "bow_rfc_cv = cross_validate(bow_rfc_train, bow_X_train, Y_train, cv=5, n_jobs=4)\n",
    "tfidf_rfc_cv = cross_validate(tfidf_rfc_train, tfidf_X_train, Y_train, cv=5, n_jobs=4)"
   ]
  },
  {
   "cell_type": "code",
   "execution_count": 28,
   "metadata": {},
   "outputs": [],
   "source": [
    "bow_svc_cv = cross_validate(bow_svc_train, bow_X_train, Y_train, cv=5, n_jobs=4)\n",
    "tfidf_svc_cv = cross_validate(tfidf_svc_train, tfidf_X_train, Y_train, cv=5, n_jobs=4)"
   ]
  },
  {
   "cell_type": "code",
   "execution_count": 34,
   "metadata": {},
   "outputs": [],
   "source": [
    "bow_gbc_cv = cross_validate(bow_gbc_train, bow_X_train, Y_train, cv=5, n_jobs=4)\n",
    "tfidf_gbc_cv = cross_validate(tfidf_gbc_train, tfidf_X_train, Y_train, cv=5, n_jobs=4)"
   ]
  },
  {
   "cell_type": "markdown",
   "metadata": {},
   "source": [
    "#### Conclusion"
   ]
  },
  {
   "cell_type": "code",
   "execution_count": 35,
   "metadata": {},
   "outputs": [
    {
     "data": {
      "image/png": "[encoded data removed]",
      "text/plain": [
       "<Figure size 936x360 with 1 Axes>"
      ]
     },
     "metadata": {},
     "output_type": "display_data"
    }
   ],
   "source": [
    "from matplotlib import pyplot as plt\n",
    "%matplotlib inline\n",
    "import seaborn as sns\n",
    "    \n",
    "score_df = pd.DataFrame(data={\n",
    "            'BoW Random Forest': bow_rfc_cv['test_score'], 'tf-idf Random Forest': tfidf_rfc_cv['test_score'],\n",
    "            'BoW Linear SVC': bow_svc_cv['test_score'], 'tf-idf Linear SVC': tfidf_svc_cv['test_score'],\n",
    "            'BoW Gradient Boosted': bow_gbc_cv['test_score'], 'tf-idf Gradient Boosted': tfidf_gbc_cv['test_score']})\n",
    "\n",
    "plt.figure(figsize=(13,5))\n",
    "sns.boxplot(data=score_df)\n",
    "plt.title('Model Performance (5 folds): R\\u00b2')\n",
    "plt.ylabel('R\\u00b2')\n",
    "plt.show()"
   ]
  },
  {
   "cell_type": "markdown",
   "metadata": {},
   "source": [
    "Linear SVC is the clear winner in terms of performance. Although the tf-idf version has a slightly wider IQR, it still falls within 0.04 and it about 0.03 higher than the BoW version."
   ]
  },
  {
   "cell_type": "code",
   "execution_count": 36,
   "metadata": {},
   "outputs": [
    {
     "data": {
      "image/png": "[encoded data removed]",
      "text/plain": [
       "<Figure size 936x360 with 1 Axes>"
      ]
     },
     "metadata": {},
     "output_type": "display_data"
    }
   ],
   "source": [
    "time_df = pd.DataFrame(data={\n",
    "            'BoW Random Forest': bow_rfc_cv['fit_time'], 'tf-idf Random Forest': tfidf_rfc_cv['fit_time'],\n",
    "            'BoW Linear SVC': bow_svc_cv['fit_time'], 'tf-idf Linear SVC': tfidf_svc_cv['fit_time'],\n",
    "            'BoW Gradient Boosted': bow_gbc_cv['fit_time'], 'tf-idf Gradient Boosted': tfidf_gbc_cv['fit_time']})\n",
    "\n",
    "plt.figure(figsize=(13,5))\n",
    "sns.barplot(data=time_df)\n",
    "plt.title('Model Runtime')\n",
    "plt.ylabel('Seconds')\n",
    "plt.show()"
   ]
  },
  {
   "cell_type": "markdown",
   "metadata": {},
   "source": [
    "Runtime for the Linear SVC models was far less than either Random Forest or the Gradient Boosted model as well so Linear SVC will be used going forward."
   ]
  },
  {
   "cell_type": "markdown",
   "metadata": {},
   "source": [
    "## Model Improvement"
   ]
  },
  {
   "cell_type": "markdown",
   "metadata": {},
   "source": [
    "The best performing (and fastest) model tested was Linear SVC using tf-idf with an average cross validation score of 0.816."
   ]
  },
  {
   "cell_type": "code",
   "execution_count": 37,
   "metadata": {},
   "outputs": [
    {
     "data": {
      "text/plain": [
       "0.8187430900430883"
      ]
     },
     "execution_count": 37,
     "metadata": {},
     "output_type": "execute_result"
    }
   ],
   "source": [
    "np.mean(tfidf_svc_cv['test_score'])"
   ]
  },
  {
   "cell_type": "markdown",
   "metadata": {},
   "source": [
    "#### Apply a grid search"
   ]
  },
  {
   "cell_type": "code",
   "execution_count": 38,
   "metadata": {},
   "outputs": [
    {
     "data": {
      "text/plain": [
       "0.8398478035281909"
      ]
     },
     "execution_count": 38,
     "metadata": {},
     "output_type": "execute_result"
    }
   ],
   "source": [
    "from sklearn.model_selection import GridSearchCV\n",
    "\n",
    "tfidf_svc = LinearSVC()\n",
    "tfidf_svc_ovr = OneVsRestClassifier(tfidf_svc,n_jobs=-1)\n",
    "\n",
    "C_set = [ 0.001, 0.01, 1, 10, 100 ]\n",
    "tol_set = [ 0.001, 0.01, 1, 10 ]\n",
    "grid_values = {'estimator__C': C_set, 'estimator__tol': tol_set }\n",
    "\n",
    "svc_fit = GridSearchCV(tfidf_svc_ovr, param_grid = grid_values,cv=5,iid=True,n_jobs=-1).fit(tfidf_X_train,Y_train)\n",
    "svc_fit.best_score_"
   ]
  },
  {
   "cell_type": "markdown",
   "metadata": {},
   "source": [
    "Adjusting hyperparameters increases accuracy by about 2% but not yet to 5%."
   ]
  },
  {
   "cell_type": "markdown",
   "metadata": {},
   "source": [
    "#### Use spaCy to process documents"
   ]
  },
  {
   "cell_type": "code",
   "execution_count": 95,
   "metadata": {},
   "outputs": [],
   "source": [
    "import spacy\n",
    "nlp = spacy.load('en')"
   ]
  },
  {
   "cell_type": "markdown",
   "metadata": {},
   "source": [
    "Create custom preprocessor and tokenizer to be used with tf-idf vectorizer"
   ]
  },
  {
   "cell_type": "code",
   "execution_count": 75,
   "metadata": {},
   "outputs": [],
   "source": [
    "lemmatizer = spacy.lang.en.English()\n",
    "\n",
    "def custom_pp(doc):\n",
    "    return(doc.lower())\n",
    "\n",
    "def custom_tokenizer(doc):\n",
    "    tokens = lemmatizer(doc)\n",
    "    return([token.lemma_ for token in tokens])"
   ]
  },
  {
   "cell_type": "code",
   "execution_count": 98,
   "metadata": {},
   "outputs": [],
   "source": [
    "tfidf_vectorizer = TfidfVectorizer(max_df = 0.5, min_df = 2, ngram_range = (1,1),\n",
    "                                   use_idf = True, norm = u'l2', smooth_idf = True,\n",
    "                                   preprocessor = custom_pp, tokenizer = custom_tokenizer)\n",
    "tfidf_X = tfidf_vectorizer.fit_transform(documents)\n",
    "\n",
    "tfidf_X_train = tfidf_X[ np.where(training_set)[0], :]\n",
    "tfidf_X_test = tfidf_X[ np.where(test_set)[0], :]"
   ]
  },
  {
   "cell_type": "code",
   "execution_count": 99,
   "metadata": {},
   "outputs": [
    {
     "data": {
      "text/plain": [
       "0.8408855067450709"
      ]
     },
     "execution_count": 99,
     "metadata": {},
     "output_type": "execute_result"
    }
   ],
   "source": [
    "tfidf_svc = LinearSVC()\n",
    "tfidf_svc_ovr = OneVsRestClassifier(tfidf_svc,n_jobs=-1)\n",
    "\n",
    "C_set = [ 0.001, 0.01, 1, 10, 100 ]\n",
    "tol_set = [ 0.001, 0.01, 1, 10 ]\n",
    "grid_values = {'estimator__C': C_set, 'estimator__tol': tol_set }\n",
    "\n",
    "svc_fit = GridSearchCV(tfidf_svc_ovr, param_grid = grid_values,cv=5,iid=True,n_jobs=-1).fit(tfidf_X_train,Y_train)\n",
    "svc_fit.best_score_"
   ]
  },
  {
   "cell_type": "markdown",
   "metadata": {},
   "source": [
    "Simply switching to using spaCy lemmatization has minimal effect."
   ]
  },
  {
   "cell_type": "code",
   "execution_count": 116,
   "metadata": {},
   "outputs": [],
   "source": [
    "tfidf_vectorizer = TfidfVectorizer(max_df=0.5, min_df=10, ngram_range = (1,1),\n",
    "                                   use_idf=True, norm=u'l2', smooth_idf=True,\n",
    "                                   preprocessor = custom_pp, tokenizer = custom_tokenizer)\n",
    "tfidf_X = tfidf_vectorizer.fit_transform(documents)\n",
    "\n",
    "tfidf_X_train = tfidf_X[ np.where(training_set)[0], :]\n",
    "tfidf_X_test = tfidf_X[ np.where(test_set)[0], :]"
   ]
  },
  {
   "cell_type": "code",
   "execution_count": 117,
   "metadata": {},
   "outputs": [
    {
     "data": {
      "text/plain": [
       "0.8453822206848841"
      ]
     },
     "execution_count": 117,
     "metadata": {},
     "output_type": "execute_result"
    }
   ],
   "source": [
    "tfidf_svc = LinearSVC()\n",
    "tfidf_svc_ovr = OneVsRestClassifier(tfidf_svc,n_jobs=-1)\n",
    "\n",
    "C_set = [ 0.001, 0.01, 1, 10, 100 ]\n",
    "tol_set = [ 0.001, 0.01, 1, 10 ]\n",
    "grid_values = {'estimator__C': C_set, 'estimator__tol': tol_set }\n",
    "\n",
    "svc_fit = GridSearchCV(tfidf_svc_ovr, param_grid = grid_values,cv=5,iid=True,n_jobs=-1).fit(tfidf_X_train,Y_train)\n",
    "svc_fit.best_score_"
   ]
  },
  {
   "cell_type": "markdown",
   "metadata": {},
   "source": [
    "Increasing min_df to 10 improves accuracy another 0.5%. Since the original settings were focused on single sentences instead of full articles, increasing min_df seems logical."
   ]
  },
  {
   "cell_type": "code",
   "execution_count": 124,
   "metadata": {},
   "outputs": [],
   "source": [
    "tfidf_vectorizer = TfidfVectorizer(max_df=0.5, min_df=10, ngram_range = (1,1),\n",
    "                                   use_idf=True, norm=u'l2', smooth_idf=True,\n",
    "                                   preprocessor = custom_pp, tokenizer = custom_tokenizer)\n",
    "tfidf_X = tfidf_vectorizer.fit_transform(documents)\n",
    "\n",
    "tfidf_X_train = tfidf_X[ np.where(training_set)[0], :]\n",
    "tfidf_X_test = tfidf_X[ np.where(test_set)[0], :]"
   ]
  },
  {
   "cell_type": "code",
   "execution_count": 125,
   "metadata": {},
   "outputs": [
    {
     "data": {
      "text/plain": [
       "0.8436527153234175"
      ]
     },
     "execution_count": 125,
     "metadata": {},
     "output_type": "execute_result"
    }
   ],
   "source": [
    "tfidf_svc = LinearSVC()\n",
    "tfidf_svc_ovr = OneVsRestClassifier(tfidf_svc,n_jobs=-1)\n",
    "\n",
    "C_set = [ 0.001, 0.01, 1, 10, 100 ]\n",
    "tol_set = [ 0.001, 0.01, 1, 10 ]\n",
    "grid_values = {'estimator__C': C_set, 'estimator__tol': tol_set }\n",
    "\n",
    "svc_fit = GridSearchCV(tfidf_svc_ovr, param_grid = grid_values,cv=5,iid=True,n_jobs=-1).fit(tfidf_X_train,Y_train)\n",
    "svc_fit.best_score_"
   ]
  },
  {
   "cell_type": "code",
   "execution_count": 126,
   "metadata": {},
   "outputs": [
    {
     "data": {
      "text/plain": [
       "{'estimator__C': 100, 'estimator__tol': 0.001}"
      ]
     },
     "execution_count": 126,
     "metadata": {},
     "output_type": "execute_result"
    }
   ],
   "source": [
    "svc_fit.best_params_"
   ]
  },
  {
   "cell_type": "markdown",
   "metadata": {},
   "source": [
    "The best estimator from the grid search uses edge parameters from the C and tol sets so update grid search inputs and re-run."
   ]
  },
  {
   "cell_type": "code",
   "execution_count": 130,
   "metadata": {},
   "outputs": [
    {
     "data": {
      "text/plain": [
       "0.8443445174680041"
      ]
     },
     "execution_count": 130,
     "metadata": {},
     "output_type": "execute_result"
    }
   ],
   "source": [
    "tfidf_svc = LinearSVC()\n",
    "tfidf_svc_ovr = OneVsRestClassifier(tfidf_svc,n_jobs=-1)\n",
    "\n",
    "C_set = [ 50, 100, 150, 200 ]\n",
    "tol_set = [ 0.0005, 0.001, 0.0015 ]\n",
    "grid_values = {'estimator__C': C_set, 'estimator__tol': tol_set }\n",
    "\n",
    "svc_fit = GridSearchCV(tfidf_svc_ovr, param_grid = grid_values,cv=5,iid=True,n_jobs=-1).fit(tfidf_X_train,Y_train)\n",
    "svc_fit.best_score_"
   ]
  },
  {
   "cell_type": "code",
   "execution_count": 131,
   "metadata": {},
   "outputs": [
    {
     "data": {
      "text/plain": [
       "{'estimator__C': 150, 'estimator__tol': 0.001}"
      ]
     },
     "execution_count": 131,
     "metadata": {},
     "output_type": "execute_result"
    }
   ],
   "source": [
    "svc_fit.best_params_"
   ]
  },
  {
   "cell_type": "markdown",
   "metadata": {},
   "source": [
    "The new best estimator performs slightly better and has parameters that are no longer on the edges of parameter sets."
   ]
  },
  {
   "cell_type": "markdown",
   "metadata": {},
   "source": [
    "Try a Bag of Words approach using spaCy"
   ]
  },
  {
   "cell_type": "code",
   "execution_count": 185,
   "metadata": {},
   "outputs": [
    {
     "name": "stderr",
     "output_type": "stream",
     "text": [
      "C:\\Users\\yfsta\\Anaconda3\\lib\\site-packages\\sklearn\\feature_extraction\\text.py:300: UserWarning: Your stop_words may be inconsistent with your preprocessing. Tokenizing the stop words generated tokens ['3', 'doe', 'far', 'good', 'little', 'regard', 'use', '\\ufeff1'] not in stop_words.\n",
      "  'stop_words.' % sorted(inconsistent))\n"
     ]
    }
   ],
   "source": [
    "count_vectorizer = CountVectorizer(preprocessor = custom_pp, tokenizer = custom_tokenizer, stop_words = spacy.lang.en.stop_words.STOP_WORDS)\n",
    "word_map = count_vectorizer.fit_transform(documents)\n",
    "word_list = count_vectorizer.get_feature_names()"
   ]
  },
  {
   "cell_type": "code",
   "execution_count": 186,
   "metadata": {},
   "outputs": [],
   "source": [
    "total_word_freq = word_map.toarray().sum(axis=0)\n",
    "\n",
    "word_freq = pd.DataFrame()\n",
    "word_freq['word'] = word_list\n",
    "word_freq['freq'] = total_word_freq\n",
    "\n",
    "most_freq_words = word_freq[word_freq['freq'].rank(ascending=False,method='min') <= 1000]\n",
    "\n",
    "bow_X = word_map[:,most_freq_words.index].toarray()\n",
    "bow_X_train = bow_X[ np.where(training_set)[0], :]\n",
    "bow_X_test = bow_X[ np.where(test_set)[0], :]"
   ]
  },
  {
   "cell_type": "code",
   "execution_count": 187,
   "metadata": {},
   "outputs": [
    {
     "data": {
      "text/plain": [
       "0.8211691456243514"
      ]
     },
     "execution_count": 187,
     "metadata": {},
     "output_type": "execute_result"
    }
   ],
   "source": [
    "bow_svc = LinearSVC()\n",
    "bow_svc_ovr = OneVsRestClassifier(bow_svc,n_jobs=-1)\n",
    "\n",
    "C_set = [ 0.001, 0.01, 1, 10, 100 ]\n",
    "tol_set = [ 0.001, 0.01, 1, 10 ]\n",
    "grid_values = {'estimator__C': C_set, 'estimator__tol': tol_set }\n",
    "\n",
    "svc_fit = GridSearchCV(bow_svc_ovr, param_grid = grid_values,cv=5,iid=True,n_jobs=-1).fit(bow_X_train,Y_train)\n",
    "svc_fit.best_score_"
   ]
  },
  {
   "cell_type": "markdown",
   "metadata": {},
   "source": [
    "Using a BoW approach with the most frequent 1000 words is an improvement from the non-spaCy approach but still below the tf-idf method."
   ]
  },
  {
   "cell_type": "code",
   "execution_count": 188,
   "metadata": {},
   "outputs": [],
   "source": [
    "import dill\n",
    "dill.dump_session('session2.pkl')"
   ]
  },
  {
   "cell_type": "code",
   "execution_count": 190,
   "metadata": {},
   "outputs": [],
   "source": [
    "word_freq = pd.DataFrame()\n",
    "word_freq['word'] = word_list\n",
    "word_freq['freq'] = total_word_freq\n",
    "\n",
    "most_freq_words = word_freq[word_freq['freq'].rank(ascending=False,method='min') <= 2000]\n",
    "\n",
    "bow_X = word_map[:,most_freq_words.index].toarray()\n",
    "bow_X_train = bow_X[ np.where(training_set)[0], :]\n",
    "bow_X_test = bow_X[ np.where(test_set)[0], :]"
   ]
  },
  {
   "cell_type": "code",
   "execution_count": 191,
   "metadata": {},
   "outputs": [
    {
     "data": {
      "text/plain": [
       "0.8329297820823245"
      ]
     },
     "execution_count": 191,
     "metadata": {},
     "output_type": "execute_result"
    }
   ],
   "source": [
    "bow_svc = LinearSVC()\n",
    "bow_svc_ovr = OneVsRestClassifier(bow_svc,n_jobs=-1)\n",
    "\n",
    "C_set = [ 0.001, 0.01, 1, 10, 100 ]\n",
    "tol_set = [ 0.001, 0.01, 1, 10 ]\n",
    "grid_values = {'estimator__C': C_set, 'estimator__tol': tol_set }\n",
    "\n",
    "svc_fit = GridSearchCV(bow_svc_ovr, param_grid = grid_values,cv=5,iid=True,n_jobs=-1).fit(bow_X_train,Y_train)\n",
    "svc_fit.best_score_"
   ]
  },
  {
   "cell_type": "markdown",
   "metadata": {},
   "source": [
    "Increasing size of the BoW to top 2000 improves accuracy by about 1%."
   ]
  },
  {
   "cell_type": "code",
   "execution_count": 192,
   "metadata": {},
   "outputs": [],
   "source": [
    "word_freq = pd.DataFrame()\n",
    "word_freq['word'] = word_list\n",
    "word_freq['freq'] = total_word_freq\n",
    "\n",
    "most_freq_words = word_freq[word_freq['freq'].rank(ascending=False,method='min') <= 3000]\n",
    "\n",
    "bow_X = word_map[:,most_freq_words.index].toarray()\n",
    "bow_X_train = bow_X[ np.where(training_set)[0], :]\n",
    "bow_X_test = bow_X[ np.where(test_set)[0], :]"
   ]
  },
  {
   "cell_type": "code",
   "execution_count": 193,
   "metadata": {},
   "outputs": [
    {
     "data": {
      "text/plain": [
       "0.8298166724316846"
      ]
     },
     "execution_count": 193,
     "metadata": {},
     "output_type": "execute_result"
    }
   ],
   "source": [
    "bow_svc = LinearSVC()\n",
    "bow_svc_ovr = OneVsRestClassifier(bow_svc,n_jobs=-1)\n",
    "\n",
    "C_set = [ 0.001, 0.01, 1, 10, 100 ]\n",
    "tol_set = [ 0.001, 0.01, 1, 10 ]\n",
    "grid_values = {'estimator__C': C_set, 'estimator__tol': tol_set }\n",
    "\n",
    "svc_fit = GridSearchCV(bow_svc_ovr, param_grid = grid_values,cv=5,iid=True,n_jobs=-1).fit(bow_X_train,Y_train)\n",
    "svc_fit.best_score_"
   ]
  },
  {
   "cell_type": "markdown",
   "metadata": {},
   "source": [
    "Increasing BoW size up to 3000 slightly decreases performance."
   ]
  },
  {
   "cell_type": "code",
   "execution_count": 195,
   "metadata": {},
   "outputs": [],
   "source": [
    "word_freq = pd.DataFrame()\n",
    "word_freq['word'] = word_list\n",
    "word_freq['freq'] = total_word_freq\n",
    "\n",
    "most_freq_words = word_freq[word_freq['freq'].rank(ascending=False,method='min') <= 2000]\n",
    "\n",
    "bow_X = word_map[:,most_freq_words.index].toarray()\n",
    "bow_X_train = bow_X[ np.where(training_set)[0], :]\n",
    "bow_X_test = bow_X[ np.where(test_set)[0], :]"
   ]
  },
  {
   "cell_type": "code",
   "execution_count": 196,
   "metadata": {},
   "outputs": [
    {
     "data": {
      "text/plain": [
       "{'estimator__C': 1, 'estimator__tol': 1}"
      ]
     },
     "execution_count": 196,
     "metadata": {},
     "output_type": "execute_result"
    }
   ],
   "source": [
    "bow_svc = LinearSVC()\n",
    "bow_svc_ovr = OneVsRestClassifier(bow_svc,n_jobs=-1)\n",
    "\n",
    "C_set = [ 0.001, 0.01, 1, 10, 100 ]\n",
    "tol_set = [ 0.001, 0.01, 1, 10 ]\n",
    "grid_values = {'estimator__C': C_set, 'estimator__tol': tol_set }\n",
    "\n",
    "svc_fit = GridSearchCV(bow_svc_ovr, param_grid = grid_values,cv=5,iid=True,n_jobs=-1).fit(bow_X_train,Y_train)\n",
    "svc_fit.best_params_"
   ]
  },
  {
   "cell_type": "markdown",
   "metadata": {},
   "source": []
  },
  {
   "cell_type": "markdown",
   "metadata": {},
   "source": [
    "#### Conclusion"
   ]
  },
  {
   "cell_type": "markdown",
   "metadata": {},
   "source": [
    "From the initial model comparison, the tf-idf approach seemed to outperform BoW using raw text and the Linear SVC model outperformed the Random Forest and Gradient Boosted models. Combining tf-idf and the default Linear SVC parameters yielded a model with about 81.6% accuracy. By applying a grid search to the Linear SVC model, varying C and tol hyperparameters, accuracy was raised by about 2%. Finally, spaCy was applied and tf-idf re-calculated to improve accuracy another 0.5%."
   ]
  },
  {
   "cell_type": "code",
   "execution_count": null,
   "metadata": {},
   "outputs": [],
   "source": []
  }
 ],
 "metadata": {
  "kernelspec": {
   "display_name": "Python 3 (Spyder)",
   "language": "python3",
   "name": "python3"
  },
  "language_info": {
   "codemirror_mode": {
    "name": "ipython",
    "version": 3
   },
   "file_extension": ".py",
   "mimetype": "text/x-python",
   "name": "python",
   "nbconvert_exporter": "python",
   "pygments_lexer": "ipython3",
   "version": "3.7.3"
  }
 },
 "nbformat": 4,
 "nbformat_minor": 2
}
